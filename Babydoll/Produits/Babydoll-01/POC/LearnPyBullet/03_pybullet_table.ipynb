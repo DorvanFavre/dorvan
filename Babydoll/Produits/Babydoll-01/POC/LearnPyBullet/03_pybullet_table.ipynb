{
 "cells": [
  {
   "cell_type": "markdown",
   "metadata": {},
   "source": [
    "https://colab.research.google.com/drive/1Xiwda3c5c4-5xY6c4ghtnrlhoYm2FYKn?usp=sharing"
   ]
  },
  {
   "cell_type": "code",
   "execution_count": 1,
   "metadata": {},
   "outputs": [
    {
     "name": "stderr",
     "output_type": "stream",
     "text": [
      "pybullet build time: Nov 28 2023 23:45:17\n"
     ]
    },
    {
     "name": "stdout",
     "output_type": "stream",
     "text": [
      "startThreads creating 1 threads.\n",
      "starting thread 0\n",
      "started thread 0 \n",
      "argc=2\n",
      "argv[0] = --unused\n",
      "argv[1] = --start_demo_name=Physics Server\n",
      "ExampleBrowserThreadFunc started\n",
      "X11 functions dynamically loaded using dlopen/dlsym OK!\n",
      "X11 functions dynamically loaded using dlopen/dlsym OK!\n",
      "Creating context\n",
      "Created GL 3.3 context\n",
      "Direct GLX rendering context obtained\n",
      "Making context current\n",
      "GL_VENDOR=Intel\n",
      "GL_RENDERER=Mesa Intel(R) UHD Graphics 620 (KBL GT2)\n",
      "GL_VERSION=4.6 (Core Profile) Mesa 23.2.1-1ubuntu3.1~22.04.2\n",
      "GL_SHADING_LANGUAGE_VERSION=4.60\n",
      "pthread_getconcurrency()=0\n",
      "Version = 4.6 (Core Profile) Mesa 23.2.1-1ubuntu3.1~22.04.2\n",
      "Vendor = Intel\n",
      "Renderer = Mesa Intel(R) UHD Graphics 620 (KBL GT2)\n",
      "b3Printf: Selected demo: Physics Server\n",
      "startThreads creating 1 threads.\n",
      "starting thread 0\n",
      "started thread 0 \n",
      "MotionThreadFunc thread started\n",
      "ven = Intel\n",
      "Workaround for some crash in the Intel OpenGL driver on Linux/Ubuntu\n",
      "ven = Intel\n",
      "Workaround for some crash in the Intel OpenGL driver on Linux/Ubuntu\n",
      "numActiveThreads = 0\n",
      "stopping threads\n",
      "Thread with taskId 0 exiting\n",
      "Thread TERMINATED\n",
      "destroy semaphore\n",
      "semaphore destroyed\n",
      "destroy main semaphore\n",
      "main semaphore destroyed\n",
      "finished\n",
      "numActiveThreads = 0\n",
      "btShutDownExampleBrowser stopping threads\n",
      "Thread with taskId 0 exiting\n",
      "Thread TERMINATED\n",
      "destroy semaphore\n",
      "semaphore destroyed\n",
      "destroy main semaphore\n",
      "main semaphore destroyed\n"
     ]
    }
   ],
   "source": [
    "import os\n",
    "import time\n",
    "import math\n",
    "import pybullet\n",
    "import pybullet_data\n",
    "import numpy as np\n",
    "\n",
    "pybullet.connect(pybullet.GUI)\n",
    "pybullet.setAdditionalSearchPath(pybullet_data.getDataPath())\n",
    "pybullet.setGravity(0,0,-9.81)\n",
    "pybullet.setTimeStep(0.01)\n",
    "pybullet.setRealTimeSimulation(1)\n",
    "\n",
    "camera_target_position = [0, 0, 0] # Position to look at\n",
    "camera_distance = 3 # Distance from the target\n",
    "camera_yaw = 60 # Yaw angle\n",
    "camera_pitch = -40 # Pitch angle\n",
    "\n",
    "# Calculate the camera position\n",
    "camera_position = [\n",
    "camera_target_position[0] + camera_distance * math.sin(math.radians(camera_yaw)) * math.cos(math.radians(camera_pitch)),\n",
    "camera_target_position[1] + camera_distance * math.sin(math.radians(camera_pitch)),\n",
    "camera_target_position[2] + camera_distance * math.cos(math.radians(camera_yaw)) * math.cos(math.radians(camera_pitch))\n",
    "]\n",
    "# Set the camera\n",
    "pybullet.resetDebugVisualizerCamera(cameraDistance=camera_distance,\n",
    "cameraYaw=camera_yaw,\n",
    "cameraPitch=camera_pitch,\n",
    "cameraTargetPosition=camera_target_position)\n",
    "\n",
    "plane_id = pybullet.loadURDF(\"plane.urdf\")\n",
    "kuka_id = pybullet.loadURDF(\"kuka_iiwa/model_vr_limits.urdf\",1.400000, -0.200000, 0.600000, 0.000000, 0.000000, 0.000000, 1.000000)\n",
    "table_id = pybullet.loadURDF(\"table/table.urdf\", basePosition=[1.0,-0.2,0.0], baseOrientation=[0,0,0.7071,0.7071])\n",
    "cube_id = pybullet.loadURDF(\"cube.urdf\", basePosition=[0.85,-0.2,0.65], globalScaling=0.05)\n",
    "\n",
    "kuka_cid = None\n",
    "jointPositions = [-0.000000, -0.000000, 0.000000, 1.570793, 0.000000, -1.036725, 0.000001]\n",
    "\n",
    "num_joints = pybullet.getNumJoints(kuka_id)\n",
    "for jointIndex in range(num_joints):\n",
    "    pybullet.resetJointState(kuka_id, jointIndex, jointPositions[jointIndex])\n",
    "    pybullet.setJointMotorControl2(kuka_id, jointIndex, pybullet.POSITION_CONTROL, jointPositions[jointIndex], 0)\n",
    "\n",
    "kuka_end_effector_idx = 6\n",
    "\n",
    "for t in range(900):\n",
    "    target_pos, gripper_val = [0.85, -0.2, 0.75], 0\n",
    "    if t >= 150 and t < 250:\n",
    "        target_pos, gripper_val = [0.85, -0.2, 0.75], 1 # grab object\n",
    "    elif t >= 250 and t < 400:\n",
    "        target_pos, gripper_val = [0.85, -0.2, 0.75 + 0.2*(t-250)/150.], 1 # move up after picking object\n",
    "    elif t >= 400 and t < 600:\n",
    "        target_pos, gripper_val = [0.85, -0.2 + 0.4*(t-400)/200., 0.95], 1 # move to target position\n",
    "    elif t >= 600 and t < 700:\n",
    "        target_pos, gripper_val = [0.85, 0.2, 0.95], 1 # stop at target position\n",
    "    elif t >= 700:\n",
    "        target_pos, gripper_val = [0.85, 0.2, 0.95], 0 # drop object\n",
    "\n",
    "    target_orn = pybullet.getQuaternionFromEuler([0,1.01*math.pi, 0])\n",
    "    joint_poses = pybullet.calculateInverseKinematics(kuka_id, kuka_end_effector_idx, target_pos, target_orn)\n",
    "    for j in range(num_joints):\n",
    "        pybullet.setJointMotorControl2(bodyIndex=kuka_id, jointIndex=j, controlMode=pybullet.POSITION_CONTROL, targetPosition=joint_poses[j])\n",
    "    \n",
    "    if gripper_val == 0 and kuka_cid != None:\n",
    "        pybullet.removeConstraint(kuka_cid)\n",
    "        kuka_cid = None\n",
    "    if gripper_val == 1 and kuka_cid == None:\n",
    "        cube_orn = pybullet.getQuaternionFromEuler([0, math.pi, 0])\n",
    "        kuka_cid = pybullet.createConstraint(kuka_id, 6, cube_id, -1, pybullet.JOINT_FIXED, [0, 0, 0], [0, 0, 0.05], [0, 0, 0], childFrameOrientation=cube_orn)\n",
    "\n",
    "    pybullet.stepSimulation()\n",
    "    time.sleep(0.01)\n",
    "\n",
    "time.sleep(2)\n",
    "pybullet.disconnect()\n"
   ]
  },
  {
   "cell_type": "markdown",
   "metadata": {},
   "source": [
    "pybullet.disconnect()"
   ]
  },
  {
   "cell_type": "code",
   "execution_count": 9,
   "metadata": {},
   "outputs": [
    {
     "name": "stdout",
     "output_type": "stream",
     "text": [
      "numActiveThreads = 0\n",
      "stopping threads\n",
      "destroy semaphore\n",
      "semaphore destroyed\n",
      "Thread with taskId 0 exiting\n",
      "Thread TERMINATED\n",
      "destroy main semaphore\n",
      "main semaphore destroyed\n",
      "finished\n",
      "numActiveThreads = 0\n",
      "btShutDownExampleBrowser stopping threads\n",
      "Thread with taskId 0 exiting\n",
      "Thread TERMINATED\n",
      "destroy semaphore\n",
      "semaphore destroyed\n",
      "destroy main semaphore\n",
      "main semaphore destroyed\n"
     ]
    }
   ],
   "source": [
    "pybullet.disconnect()"
   ]
  }
 ],
 "metadata": {
  "kernelspec": {
   "display_name": "pybulletEnv",
   "language": "python",
   "name": "python3"
  },
  "language_info": {
   "codemirror_mode": {
    "name": "ipython",
    "version": 3
   },
   "file_extension": ".py",
   "mimetype": "text/x-python",
   "name": "python",
   "nbconvert_exporter": "python",
   "pygments_lexer": "ipython3",
   "version": "3.10.12"
  }
 },
 "nbformat": 4,
 "nbformat_minor": 2
}
