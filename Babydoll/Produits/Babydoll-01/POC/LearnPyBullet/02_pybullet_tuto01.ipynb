{
 "cells": [
  {
   "cell_type": "markdown",
   "metadata": {},
   "source": [
    "https://colab.research.google.com/drive/1bLYj1s8oiOxtEc3T4UTgXk-wLpE_nDui?usp=sharing"
   ]
  },
  {
   "cell_type": "code",
   "execution_count": 21,
   "metadata": {},
   "outputs": [
    {
     "name": "stdout",
     "output_type": "stream",
     "text": [
      "startThreads creating 1 threads.\n",
      "starting thread 0\n",
      "started thread 0 \n",
      "argc=2\n",
      "argv[0] = --unused\n",
      "argv[1] = --start_demo_name=Physics Server\n",
      "ExampleBrowserThreadFunc started\n",
      "X11 functions dynamically loaded using dlopen/dlsym OK!\n",
      "X11 functions dynamically loaded using dlopen/dlsym OK!\n",
      "Creating context\n",
      "Created GL 3.3 context\n",
      "Direct GLX rendering context obtained\n",
      "Making context current\n",
      "GL_VENDOR=Intel\n",
      "GL_RENDERER=Mesa Intel(R) UHD Graphics 620 (KBL GT2)\n",
      "GL_VERSION=4.6 (Core Profile) Mesa 23.2.1-1ubuntu3.1~22.04.2\n",
      "GL_SHADING_LANGUAGE_VERSION=4.60\n",
      "pthread_getconcurrency()=0\n",
      "Version = 4.6 (Core Profile) Mesa 23.2.1-1ubuntu3.1~22.04.2\n",
      "Vendor = Intel\n",
      "Renderer = Mesa Intel(R) UHD Graphics 620 (KBL GT2)\n",
      "b3Printf: Selected demo: Physics Server\n",
      "startThreads creating 1 threads.\n",
      "starting thread 0\n",
      "started thread 0 \n",
      "MotionThreadFunc thread started\n",
      "ven = Intel\n",
      "Workaround for some crash in the Intel OpenGL driver on Linux/Ubuntu\n",
      "ven = Intel\n",
      "Workaround for some crash in the Intel OpenGL driver on Linux/Ubuntu\n",
      "numActiveThreads = 0\n",
      "stopping threads\n",
      "Thread with taskId 0 exiting\n",
      "Thread TERMINATED\n",
      "destroy semaphore\n",
      "semaphore destroyed\n",
      "destroy main semaphore\n",
      "main semaphore destroyed\n",
      "finished\n",
      "numActiveThreads = 0\n",
      "btShutDownExampleBrowser stopping threads\n",
      "Thread with taskId 0 exiting\n",
      "Thread TERMINATED\n",
      "destroy semaphore\n",
      "semaphore destroyed\n",
      "destroy main semaphore\n",
      "main semaphore destroyed\n"
     ]
    }
   ],
   "source": [
    "import pybullet\n",
    "import pybullet_data\n",
    "import math\n",
    "import time\n",
    "\n",
    "pybullet.connect(pybullet.GUI)\n",
    "pybullet.setAdditionalSearchPath(pybullet_data.getDataPath())\n",
    "pybullet.setGravity(0,0,-9.81)\n",
    "pybullet.setTimeStep(0.0001)\n",
    "pybullet.setRealTimeSimulation(1)\n",
    "\n",
    "# Set the camera parameters\n",
    "camera_target_position = [0, 0, 0]  # Position to look at\n",
    "camera_distance = 2  # Distance from the target\n",
    "camera_yaw = 50     # Yaw angle\n",
    "camera_pitch = -30  # Pitch angle\n",
    "\n",
    "# Calculate the camera position\n",
    "camera_position = [\n",
    "    camera_target_position[0] + camera_distance * math.sin(math.radians(camera_yaw)) * math.cos(math.radians(camera_pitch)),\n",
    "    camera_target_position[1] + camera_distance * math.sin(math.radians(camera_pitch)),\n",
    "    camera_target_position[2] + camera_distance * math.cos(math.radians(camera_yaw)) * math.cos(math.radians(camera_pitch))\n",
    "]\n",
    "\n",
    "# Set the camera\n",
    "pybullet.resetDebugVisualizerCamera(cameraDistance=camera_distance,\n",
    "                             cameraYaw=camera_yaw,\n",
    "                             cameraPitch=camera_pitch,\n",
    "                             cameraTargetPosition=camera_target_position)\n",
    "\n",
    "plane_id = pybullet.loadURDF(\"plane.urdf\")\n",
    "kuka_id = pybullet.loadURDF(\"kuka_iiwa/model.urdf\")\n",
    "\n",
    "num_joints = pybullet.getNumJoints(kuka_id)\n",
    "kuka_end_effector_idx = 6\n",
    "\n",
    "for t in range(int(2e4)):\n",
    "    freq = 0.0002\n",
    "    target_pos = [0.45, 0.00 + 0.1*math.sin(2*3.14*freq*t), 0.35 + 0.1*math.cos(2*3.14*freq*t)]\n",
    "    joint_poses = pybullet.calculateInverseKinematics(kuka_id, kuka_end_effector_idx, target_pos)\n",
    "\n",
    "    for j in range (num_joints):\n",
    "        pybullet.setJointMotorControl2(bodyIndex=kuka_id, jointIndex=j, controlMode=pybullet.POSITION_CONTROL, targetPosition=joint_poses[j])\n",
    "\n",
    "    pybullet.stepSimulation()\n",
    "\n",
    "time.sleep(2)\n",
    "pybullet.disconnect()"
   ]
  },
  {
   "cell_type": "code",
   "execution_count": 18,
   "metadata": {},
   "outputs": [
    {
     "name": "stdout",
     "output_type": "stream",
     "text": [
      "numActiveThreads = 0\n",
      "stopping threads\n",
      "Thread with taskId 0 exiting\n",
      "Thread TERMINATED\n",
      "destroy semaphore\n",
      "semaphore destroyed\n",
      "destroy main semaphore\n",
      "main semaphore destroyed\n",
      "finished\n",
      "numActiveThreads = 0\n",
      "btShutDownExampleBrowser stopping threads\n",
      "Thread with taskId 0 exiting\n",
      "Thread TERMINATED\n",
      "destroy semaphore\n",
      "semaphore destroyed\n",
      "destroy main semaphore\n",
      "main semaphore destroyed\n"
     ]
    }
   ],
   "source": [
    "pybullet.disconnect()"
   ]
  }
 ],
 "metadata": {
  "kernelspec": {
   "display_name": "pybulletEnv",
   "language": "python",
   "name": "python3"
  },
  "language_info": {
   "codemirror_mode": {
    "name": "ipython",
    "version": 3
   },
   "file_extension": ".py",
   "mimetype": "text/x-python",
   "name": "python",
   "nbconvert_exporter": "python",
   "pygments_lexer": "ipython3",
   "version": "3.10.12"
  }
 },
 "nbformat": 4,
 "nbformat_minor": 2
}
