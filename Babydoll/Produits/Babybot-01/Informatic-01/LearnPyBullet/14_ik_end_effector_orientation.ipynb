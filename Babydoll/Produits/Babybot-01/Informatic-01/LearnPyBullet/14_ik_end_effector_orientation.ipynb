{
 "cells": [
  {
   "cell_type": "code",
   "execution_count": 1,
   "metadata": {},
   "outputs": [
    {
     "name": "stdout",
     "output_type": "stream",
     "text": [
      "startThreads creating 1 threads.\n",
      "starting thread 0\n",
      "started thread 0 \n",
      "argc=2\n",
      "argv[0] = --unused\n",
      "argv[1] = --start_demo_name=Physics Server\n",
      "ExampleBrowserThreadFunc started\n",
      "X11 functions dynamically loaded using dlopen/dlsym OK!\n",
      "X11 functions dynamically loaded using dlopen/dlsym OK!\n",
      "Creating context\n",
      "Created GL 3.3 context\n",
      "Direct GLX rendering context obtained\n",
      "Making context current\n",
      "GL_VENDOR=Intel\n",
      "GL_RENDERER=Mesa Intel(R) UHD Graphics 620 (KBL GT2)\n",
      "GL_VERSION=4.6 (Core Profile) Mesa 23.2.1-1ubuntu3.1~22.04.2\n",
      "GL_SHADING_LANGUAGE_VERSION=4.60\n",
      "pthread_getconcurrency()=0\n",
      "Version = 4.6 (Core Profile) Mesa 23.2.1-1ubuntu3.1~22.04.2\n",
      "Vendor = Intel\n",
      "Renderer = Mesa Intel(R) UHD Graphics 620 (KBL GT2)\n",
      "b3Printf: Selected demo: Physics Server\n",
      "startThreads creating 1 threads.\n",
      "starting thread 0\n",
      "started thread 0 \n",
      "MotionThreadFunc thread started\n",
      "ven = Intel\n",
      "Workaround for some crash in the Intel OpenGL driver on Linux/Ubuntu\n",
      "ven = Intel\n",
      "Workaround for some crash in the Intel OpenGL driver on Linux/Ubuntu\n"
     ]
    },
    {
     "name": "stderr",
     "output_type": "stream",
     "text": [
      "pybullet build time: Nov 28 2023 23:45:17\n"
     ]
    },
    {
     "ename": "",
     "evalue": "",
     "output_type": "error",
     "traceback": [
      "\u001b[1;31mThe Kernel crashed while executing code in the current cell or a previous cell. \n",
      "\u001b[1;31mPlease review the code in the cell(s) to identify a possible cause of the failure. \n",
      "\u001b[1;31mClick <a href='https://aka.ms/vscodeJupyterKernelCrash'>here</a> for more info. \n",
      "\u001b[1;31mView Jupyter <a href='command:jupyter.viewOutput'>log</a> for further details."
     ]
    }
   ],
   "source": [
    "import pybullet as p\n",
    "import time\n",
    "import math\n",
    "from datetime import datetime\n",
    "from time import sleep\n",
    "\n",
    "import pybullet_data\n",
    "\n",
    "p.connect(p.GUI)\n",
    "p.setAdditionalSearchPath(pybullet_data.getDataPath())\n",
    "p.loadURDF(\"plane.urdf\", [0, 0, -0.3])\n",
    "kukaId = p.loadURDF(\"kuka_iiwa/model.urdf\", [0, 0, 0])\n",
    "p.resetBasePositionAndOrientation(kukaId, [0, 0, 0], [0, 0, 0, 1])\n",
    "kukaEndEffectorIndex = 6\n",
    "numJoints = p.getNumJoints(kukaId)\n",
    "\n",
    "#Joint damping coefficents. Using large values for the joints that we don't want to move.\n",
    "jd = [100.0, 100.0, 100.0, 100.0, 100.0, 100.0, 0.5]\n",
    "#jd=[0.5,0.5,0.5,0.5,0.5,0.5,0.5]\n",
    "\n",
    "p.setGravity(0, 0, 0)\n",
    "\n",
    "while 1:\n",
    "  p.stepSimulation()\n",
    "  for i in range(1):\n",
    "    pos = [0.5, 0.5, 1.26]\n",
    "    orn = p.getQuaternionFromEuler([0, 0, 3.14])\n",
    "\n",
    "    jointPoses = p.calculateInverseKinematics(kukaId,\n",
    "                                              kukaEndEffectorIndex,\n",
    "                                              pos,\n",
    "                                              orn,\n",
    "                                              jointDamping=jd\n",
    "                                              )\n",
    "\n",
    "  for i in range(numJoints):\n",
    "    p.setJointMotorControl2(bodyIndex=kukaId,\n",
    "                            jointIndex=i,\n",
    "                            controlMode=p.POSITION_CONTROL,\n",
    "                            targetPosition=jointPoses[i],\n",
    "                            targetVelocity=0,\n",
    "                            force=500,\n",
    "                            positionGain=0.08,\n",
    "                            velocityGain=1)\n",
    "  sleep(0.05)"
   ]
  }
 ],
 "metadata": {
  "kernelspec": {
   "display_name": "pybulletEnv",
   "language": "python",
   "name": "python3"
  },
  "language_info": {
   "codemirror_mode": {
    "name": "ipython",
    "version": 3
   },
   "file_extension": ".py",
   "mimetype": "text/x-python",
   "name": "python",
   "nbconvert_exporter": "python",
   "pygments_lexer": "ipython3",
   "version": "3.10.12"
  }
 },
 "nbformat": 4,
 "nbformat_minor": 2
}
