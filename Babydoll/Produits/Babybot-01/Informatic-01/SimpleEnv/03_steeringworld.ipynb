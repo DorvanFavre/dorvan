{
 "cells": [
  {
   "cell_type": "code",
   "execution_count": 1,
   "metadata": {
    "tags": [
     "setup"
    ]
   },
   "outputs": [],
   "source": [
    "import gymnasium as gym\n",
    "import simple_env\n",
    "from simple_env.wrappers import RelativePosition, NormalizedObservation, DiscreteActions\n",
    "from gymnasium.wrappers import TimeAwareObservation\n",
    "from stable_baselines3 import DQN, A2C, PPO, DDPG\n",
    "from stable_baselines3.common.callbacks import EvalCallback, CheckpointCallback, BaseCallback\n",
    "from stable_baselines3.common.env_util import make_vec_env\n",
    "from stable_baselines3.common.monitor import Monitor\n",
    "from stable_baselines3.common.vec_env import SubprocVecEnv\n",
    "import shutil\n",
    "from typing import Callable\n",
    "import numpy as np\n",
    "\n",
    "file = \"03_steeringworld.ipynb\"\n",
    "name = 'steering_world_agent'\n",
    "env_name = \"simple_env/SteeringWorld-v1\"\n",
    "world_size = 300\n",
    "max_episode_steps = 500\n",
    "\n",
    "agent = PPO\n",
    "policy = 'MlpPolicy'\n",
    "dir = f\"./{name}\"\n",
    "tensorboard_log = f\"./{name}/t_logs/\"\n",
    "best_model_path = f\"./{name}/model/best_model.zip\"\n",
    "model_path = f\"./{name}/model/model.zip\"\n",
    "best_model_save_path = f\"./{name}/model/\"\n",
    "log_path = f\"./{name}/logs/\"\n",
    "device = 'cpu'\n",
    "\n",
    "# num_action = 20\n",
    "# keys = [i for i in range(num_action)]\n",
    "# values = [(i/num_action)*2 - 1 for i in range(num_action)]\n",
    "# disc_to_cont = dict(zip(keys, values))\n",
    "def make_env(render_mode = None):\n",
    "    env = gym.make(\n",
    "        env_name,\n",
    "        render_mode = render_mode,\n",
    "        size=world_size, \n",
    "        max_episode_steps=max_episode_steps,\n",
    "        )\n",
    "    \n",
    "    #env = DiscreteActions(env, disc_to_cont)\n",
    "    #env = TimeAwareObservation(env, normalize_time=True)\n",
    "    return env\n",
    "\n",
    "    "
   ]
  },
  {
   "cell_type": "markdown",
   "metadata": {},
   "source": [
    "# Test"
   ]
  },
  {
   "cell_type": "code",
   "execution_count": null,
   "metadata": {},
   "outputs": [],
   "source": [
    "# Execute Setup\n",
    "import nbformat\n",
    "from IPython import get_ipython\n",
    "with open(\"03_steeringworld.ipynb\", \"r\", encoding=\"utf-8\") as f:\n",
    "    notebook = nbformat.read(f, as_version=4)\n",
    "for cell in notebook.cells:\n",
    "    if \"tags\" in cell.metadata and \"setup\" in cell.metadata.tags:\n",
    "        exec(cell.source)\n",
    "\n",
    "env = make_env(render_mode=None)\n",
    "obs, info = env.reset()\n",
    "\n",
    "terminated = False\n",
    "truncated = False\n",
    "\n",
    "while not terminated and not truncated:\n",
    "    \n",
    "    action = env.action_space.sample()\n",
    "    #action = np.random.randint(num_action)\n",
    "    #action = 0\n",
    "    obs, rew, terminated, truncated, info = env.step(action)\n",
    "    print(f\"Action: {action}, Obs: {obs}, info {info}, rew: {rew}\")\n",
    "    \n",
    "env.close()"
   ]
  },
  {
   "cell_type": "markdown",
   "metadata": {},
   "source": [
    "# Create agent\n",
    "\n"
   ]
  },
  {
   "cell_type": "code",
   "execution_count": 14,
   "metadata": {},
   "outputs": [],
   "source": [
    "# Execute Setup\n",
    "import nbformat\n",
    "from IPython import get_ipython\n",
    "with open(\"03_steeringworld.ipynb\", \"r\", encoding=\"utf-8\") as f:\n",
    "    notebook = nbformat.read(f, as_version=4)\n",
    "for cell in notebook.cells:\n",
    "    if \"tags\" in cell.metadata and \"setup\" in cell.metadata.tags:\n",
    "        exec(cell.source)\n",
    "\n",
    "# Linear Schedule\n",
    "def linear_schedule(initial_value: float) -> Callable[[float], float]:\n",
    "    def func(progress_remaining: float) -> float:\n",
    "        return progress_remaining * initial_value\n",
    "    return func\n",
    "\n",
    "# Create model\n",
    "env = make_env()\n",
    "\n",
    "\n",
    "if agent is DQN:\n",
    "    model = DQN(\n",
    "        policy,\n",
    "        env,\n",
    "        verbose=0,\n",
    "        device=device,\n",
    "        tensorboard_log=tensorboard_log,\n",
    "        exploration_fraction=0.5,\n",
    "        learning_rate=linear_schedule(0.0001)\n",
    "    )\n",
    "    \n",
    "elif agent is DDPG:\n",
    "    model = DDPG(\n",
    "        policy,\n",
    "        env,\n",
    "        verbose=0,\n",
    "        device=device,\n",
    "        tensorboard_log=tensorboard_log,\n",
    "        learning_rate=linear_schedule(0.0001)\n",
    "    )\n",
    "    \n",
    "elif agent is A2C:\n",
    "    model = A2C(\n",
    "        policy,\n",
    "        env,\n",
    "        verbose=0,\n",
    "        device=device,\n",
    "        tensorboard_log=tensorboard_log,    \n",
    "    )\n",
    "    \n",
    "elif agent is PPO:\n",
    "    model = PPO(\n",
    "        policy,\n",
    "        env,\n",
    "        verbose=0,\n",
    "        device=device,\n",
    "        tensorboard_log=tensorboard_log,    \n",
    "    )\n",
    "\n",
    "# Save\n",
    "shutil.rmtree(dir, ignore_errors=True)\n",
    "model.save(model_path)"
   ]
  },
  {
   "cell_type": "markdown",
   "metadata": {},
   "source": [
    "# Train"
   ]
  },
  {
   "cell_type": "code",
   "execution_count": null,
   "metadata": {},
   "outputs": [
    {
     "name": "stdout",
     "output_type": "stream",
     "text": [
      "Start training with <class 'stable_baselines3.ppo.ppo.PPO'>\n"
     ]
    },
    {
     "data": {
      "text/html": [
       "<pre style=\"white-space:pre;overflow-x:auto;line-height:normal;font-family:Menlo,'DejaVu Sans Mono',consolas,'Courier New',monospace\">c:\\Users\\dorva\\Documents\\GitHub\\dorvan\\Babydoll\\Produits\\Babybot-01\\Informatic-01\\venv\\hostEnv\\Lib\\site-packages\\ri\n",
       "ch\\live.py:231: UserWarning: install \"ipywidgets\" for Jupyter support\n",
       "  warnings.warn('install \"ipywidgets\" for Jupyter support')\n",
       "</pre>\n"
      ],
      "text/plain": [
       "c:\\Users\\dorva\\Documents\\GitHub\\dorvan\\Babydoll\\Produits\\Babybot-01\\Informatic-01\\venv\\hostEnv\\Lib\\site-packages\\ri\n",
       "ch\\live.py:231: UserWarning: install \"ipywidgets\" for Jupyter support\n",
       "  warnings.warn('install \"ipywidgets\" for Jupyter support')\n"
      ]
     },
     "metadata": {},
     "output_type": "display_data"
    },
    {
     "data": {
      "application/vnd.jupyter.widget-view+json": {
       "model_id": "14081d24964c4aa38088ebaa01b6afca",
       "version_major": 2,
       "version_minor": 0
      },
      "text/plain": [
       "Output()"
      ]
     },
     "metadata": {},
     "output_type": "display_data"
    }
   ],
   "source": [
    "# Execute Setup\n",
    "import nbformat\n",
    "from IPython import get_ipython\n",
    "with open(\"03_steeringworld.ipynb\", \"r\", encoding=\"utf-8\") as f:\n",
    "    notebook = nbformat.read(f, as_version=4)\n",
    "for cell in notebook.cells:\n",
    "    if \"tags\" in cell.metadata and \"setup\" in cell.metadata.tags:\n",
    "        exec(cell.source)\n",
    "        \n",
    "print(f\"Start training with {agent}\")\n",
    "# Env and model\n",
    "train_env = Monitor(make_env())\n",
    "eval_env = Monitor(make_env())\n",
    "\n",
    "model = agent.load(model_path, train_env, device)\n",
    "\n",
    "# Callbacks\n",
    "eval_callback = EvalCallback(\n",
    "    eval_env,\n",
    "    eval_freq=1e4,\n",
    "    deterministic=True,\n",
    "    n_eval_episodes=10,\n",
    "    best_model_save_path=best_model_save_path,\n",
    ")\n",
    "\n",
    "checkpoint_callback = CheckpointCallback(\n",
    "    1e4,\n",
    "    best_model_save_path,\n",
    "    name_prefix=\"checkpoint\"\n",
    ")\n",
    "\n",
    "# Training\n",
    "model.learn(\n",
    "    total_timesteps=1e6,\n",
    "    progress_bar=True,\n",
    "    reset_num_timesteps=False,\n",
    "    \n",
    "    callback=[\n",
    "        eval_callback,\n",
    "        checkpoint_callback\n",
    "    ]\n",
    ")\n",
    "\n",
    "# Save and close\n",
    "model.save(model_path)\n",
    "train_env.close()"
   ]
  },
  {
   "cell_type": "markdown",
   "metadata": {},
   "source": [
    "# Display"
   ]
  },
  {
   "cell_type": "code",
   "execution_count": null,
   "metadata": {},
   "outputs": [],
   "source": [
    "# Execute Setup\n",
    "import nbformat\n",
    "from IPython import get_ipython\n",
    "with open(\"03_steeringworld.ipynb\", \"r\", encoding=\"utf-8\") as f:\n",
    "    notebook = nbformat.read(f, as_version=4)\n",
    "for cell in notebook.cells:\n",
    "    if \"tags\" in cell.metadata and \"setup\" in cell.metadata.tags:\n",
    "        exec(cell.source)\n",
    "env = make_env(render_mode='human')\n",
    "obs, info = env.reset()\n",
    "\n",
    "#model = agent.load(best_model_save_path + \"best_model.zip\")\n",
    "model = agent.load(best_model_save_path + \"/checkpoint_200000_steps.zip\")\n",
    "\n",
    "terminated = False\n",
    "truncated = False\n",
    "while not terminated and not truncated:\n",
    "    \n",
    "    action, _ = model.predict(obs)\n",
    "    #action = int(action)\n",
    "    obs, rew, terminated, truncated, info = env.step(action)\n",
    "    print(f\"Action: {action}, Obs: {obs}, Info: {info}, Rew: {rew}\")\n",
    "    \n",
    "env.close()"
   ]
  },
  {
   "cell_type": "code",
   "execution_count": null,
   "metadata": {},
   "outputs": [],
   "source": []
  }
 ],
 "metadata": {
  "kernelspec": {
   "display_name": "hostEnv",
   "language": "python",
   "name": "python3"
  },
  "language_info": {
   "codemirror_mode": {
    "name": "ipython",
    "version": 3
   },
   "file_extension": ".py",
   "mimetype": "text/x-python",
   "name": "python",
   "nbconvert_exporter": "python",
   "pygments_lexer": "ipython3",
   "version": "3.11.9"
  }
 },
 "nbformat": 4,
 "nbformat_minor": 2
}
