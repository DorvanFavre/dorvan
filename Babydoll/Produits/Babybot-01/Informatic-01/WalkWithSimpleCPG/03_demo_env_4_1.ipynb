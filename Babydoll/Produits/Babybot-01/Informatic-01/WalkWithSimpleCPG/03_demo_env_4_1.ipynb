{
 "cells": [
  {
   "cell_type": "markdown",
   "metadata": {},
   "source": [
    "# Setup"
   ]
  },
  {
   "cell_type": "code",
   "execution_count": 2,
   "metadata": {},
   "outputs": [],
   "source": [
    "import gymnasium as gym\n",
    "import babybot01_env\n",
    "from tqdm import tqdm\n",
    "from stable_baselines3 import PPO\n",
    "from stable_baselines3.common.env_util import make_vec_env\n",
    "from stable_baselines3.common.callbacks import BaseCallback, EvalCallback, CallbackList\n",
    "import numpy as np\n",
    "from pathlib import Path\n",
    "import matplotlib.pyplot as plt\n",
    "from stable_baselines3.common.monitor import Monitor\n",
    "import time\n",
    "\n",
    "\n",
    "name = 'ppo_1_spidy_v4_1'\n",
    "env_id = \"Spidy-v4_1\"\n",
    "n_steps = 1200\n",
    "n_envs = 1\n",
    "\n",
    "policy = 'MlpPolicy'\n",
    "tensorboard_log = f\"./{name}/t_logs/\"\n",
    "path = f\"./{name}/model/{name}\"\n",
    "log_path = f\"./{name}/logs/\"\n",
    "device = 'cpu'\n",
    "\n",
    "def make_env(render_mode:str=None):\n",
    "    e = gym.make(env_id, render_mode=render_mode)\n",
    "    return e"
   ]
  },
  {
   "cell_type": "markdown",
   "metadata": {},
   "source": [
    "# Test Env"
   ]
  },
  {
   "cell_type": "code",
   "execution_count": 3,
   "metadata": {},
   "outputs": [
    {
     "name": "stderr",
     "output_type": "stream",
     "text": [
      "pybullet build time: Nov 28 2023 23:45:17\n"
     ]
    },
    {
     "name": "stdout",
     "output_type": "stream",
     "text": [
      "startThreads creating 1 threads.\n",
      "starting thread 0\n",
      "started thread 0 \n",
      "argc=2\n",
      "argv[0] = --unused\n",
      "argv[1] = --start_demo_name=Physics Server\n",
      "ExampleBrowserThreadFunc started\n",
      "X11 functions dynamically loaded using dlopen/dlsym OK!\n",
      "X11 functions dynamically loaded using dlopen/dlsym OK!\n",
      "Creating context\n",
      "Created GL 3.3 context\n",
      "Direct GLX rendering context obtained\n",
      "Making context current\n",
      "GL_VENDOR=Intel\n",
      "GL_RENDERER=Mesa Intel(R) UHD Graphics 620 (KBL GT2)\n",
      "GL_VERSION=4.6 (Core Profile) Mesa 23.2.1-1ubuntu3.1~22.04.2\n",
      "GL_SHADING_LANGUAGE_VERSION=4.60\n",
      "pthread_getconcurrency()=0\n",
      "Version = 4.6 (Core Profile) Mesa 23.2.1-1ubuntu3.1~22.04.2\n",
      "Vendor = Intel\n",
      "Renderer = Mesa Intel(R) UHD Graphics 620 (KBL GT2)\n",
      "b3Printf: Selected demo: Physics Server\n",
      "startThreads creating 1 threads.\n",
      "starting thread 0\n",
      "started thread 0 \n",
      "MotionThreadFunc thread started\n",
      "ven = Intel\n",
      "Workaround for some crash in the Intel OpenGL driver on Linux/Ubuntu\n",
      "ven = Intel\n",
      "Workaround for some crash in the Intel OpenGL driver on Linux/Ubuntu\n"
     ]
    },
    {
     "name": "stderr",
     "output_type": "stream",
     "text": [
      "/home/dorvan/Documents/dorvan/Babydoll/Produits/Babybot-01/Informatic-01/venv/hostEnv/lib/python3.10/site-packages/gymnasium/utils/passive_env_checker.py:134: UserWarning: \u001b[33mWARN: The obs returned by the `reset()` method was expecting numpy array dtype to be float32, actual type: float64\u001b[0m\n",
      "  logger.warn(\n",
      "/home/dorvan/Documents/dorvan/Babydoll/Produits/Babybot-01/Informatic-01/venv/hostEnv/lib/python3.10/site-packages/gymnasium/utils/passive_env_checker.py:158: UserWarning: \u001b[33mWARN: The obs returned by the `reset()` method is not within the observation space.\u001b[0m\n",
      "  logger.warn(f\"{pre} is not within the observation space.\")\n",
      "/home/dorvan/Documents/dorvan/Babydoll/Produits/Babybot-01/Informatic-01/venv/hostEnv/lib/python3.10/site-packages/gymnasium/utils/passive_env_checker.py:134: UserWarning: \u001b[33mWARN: The obs returned by the `step()` method was expecting numpy array dtype to be float32, actual type: float64\u001b[0m\n",
      "  logger.warn(\n",
      "/home/dorvan/Documents/dorvan/Babydoll/Produits/Babybot-01/Informatic-01/venv/hostEnv/lib/python3.10/site-packages/gymnasium/utils/passive_env_checker.py:158: UserWarning: \u001b[33mWARN: The obs returned by the `step()` method is not within the observation space.\u001b[0m\n",
      "  logger.warn(f\"{pre} is not within the observation space.\")\n"
     ]
    },
    {
     "ename": "",
     "evalue": "",
     "output_type": "error",
     "traceback": [
      "\u001b[1;31mThe Kernel crashed while executing code in the current cell or a previous cell. \n",
      "\u001b[1;31mPlease review the code in the cell(s) to identify a possible cause of the failure. \n",
      "\u001b[1;31mClick <a href='https://aka.ms/vscodeJupyterKernelCrash'>here</a> for more info. \n",
      "\u001b[1;31mView Jupyter <a href='command:jupyter.viewOutput'>log</a> for further details."
     ]
    }
   ],
   "source": [
    "\n",
    "\n",
    "env = gym.make(env_id,max_episode_steps=n_steps, render_mode=\"human\", debug_mode=True)\n",
    "obs, info = env.reset()\n",
    "\n",
    "\n",
    "while True:\n",
    "    \n",
    "    action = np.zeros(24)\n",
    "    obs, rew, terminated, truncated, info = env.step(action)\n",
    "    \n",
    "\n",
    "env.close()"
   ]
  },
  {
   "cell_type": "markdown",
   "metadata": {},
   "source": [
    "# Create agent"
   ]
  },
  {
   "cell_type": "code",
   "execution_count": null,
   "metadata": {},
   "outputs": [
    {
     "name": "stderr",
     "output_type": "stream",
     "text": [
      "pybullet build time: Nov 28 2023 23:45:17\n"
     ]
    }
   ],
   "source": [
    "train_env = gym.make(env_id, render_mode=\"rgb_array\", max_episode_steps=1000)\n",
    "\n",
    "model = PPO(policy, train_env, batch_size = 60, verbose=0, n_steps=n_steps, tensorboard_log=tensorboard_log)\n",
    "\n",
    "#model.save(path)"
   ]
  },
  {
   "cell_type": "markdown",
   "metadata": {},
   "source": [
    "# Train"
   ]
  },
  {
   "cell_type": "code",
   "execution_count": 9,
   "metadata": {},
   "outputs": [
    {
     "data": {
      "application/vnd.jupyter.widget-view+json": {
       "model_id": "b52f0bc533d04cfe88a451ff3968b2d3",
       "version_major": 2,
       "version_minor": 0
      },
      "text/plain": [
       "Output()"
      ]
     },
     "metadata": {},
     "output_type": "display_data"
    },
    {
     "data": {
      "text/html": [
       "<pre style=\"white-space:pre;overflow-x:auto;line-height:normal;font-family:Menlo,'DejaVu Sans Mono',consolas,'Courier New',monospace\">Eval num_timesteps=121600, episode_reward=48.93 +/- 30.65\n",
       "</pre>\n"
      ],
      "text/plain": [
       "Eval num_timesteps=121600, episode_reward=48.93 +/- 30.65\n"
      ]
     },
     "metadata": {},
     "output_type": "display_data"
    },
    {
     "data": {
      "text/html": [
       "<pre style=\"white-space:pre;overflow-x:auto;line-height:normal;font-family:Menlo,'DejaVu Sans Mono',consolas,'Courier New',monospace\">Episode length: 991.00 +/- 0.00\n",
       "</pre>\n"
      ],
      "text/plain": [
       "Episode length: 991.00 +/- 0.00\n"
      ]
     },
     "metadata": {},
     "output_type": "display_data"
    },
    {
     "data": {
      "text/html": [
       "<pre style=\"white-space:pre;overflow-x:auto;line-height:normal;font-family:Menlo,'DejaVu Sans Mono',consolas,'Courier New',monospace\">New best mean reward!\n",
       "</pre>\n"
      ],
      "text/plain": [
       "New best mean reward!\n"
      ]
     },
     "metadata": {},
     "output_type": "display_data"
    },
    {
     "data": {
      "text/html": [
       "<pre style=\"white-space:pre;overflow-x:auto;line-height:normal;font-family:Menlo,'DejaVu Sans Mono',consolas,'Courier New',monospace\">Eval num_timesteps=131600, episode_reward=67.58 +/- 21.90\n",
       "</pre>\n"
      ],
      "text/plain": [
       "Eval num_timesteps=131600, episode_reward=67.58 +/- 21.90\n"
      ]
     },
     "metadata": {},
     "output_type": "display_data"
    },
    {
     "data": {
      "text/html": [
       "<pre style=\"white-space:pre;overflow-x:auto;line-height:normal;font-family:Menlo,'DejaVu Sans Mono',consolas,'Courier New',monospace\">Episode length: 991.00 +/- 0.00\n",
       "</pre>\n"
      ],
      "text/plain": [
       "Episode length: 991.00 +/- 0.00\n"
      ]
     },
     "metadata": {},
     "output_type": "display_data"
    },
    {
     "data": {
      "text/html": [
       "<pre style=\"white-space:pre;overflow-x:auto;line-height:normal;font-family:Menlo,'DejaVu Sans Mono',consolas,'Courier New',monospace\">New best mean reward!\n",
       "</pre>\n"
      ],
      "text/plain": [
       "New best mean reward!\n"
      ]
     },
     "metadata": {},
     "output_type": "display_data"
    },
    {
     "data": {
      "text/html": [
       "<pre style=\"white-space:pre;overflow-x:auto;line-height:normal;font-family:Menlo,'DejaVu Sans Mono',consolas,'Courier New',monospace\">Eval num_timesteps=141600, episode_reward=156.10 +/- 48.85\n",
       "</pre>\n"
      ],
      "text/plain": [
       "Eval num_timesteps=141600, episode_reward=156.10 +/- 48.85\n"
      ]
     },
     "metadata": {},
     "output_type": "display_data"
    },
    {
     "data": {
      "text/html": [
       "<pre style=\"white-space:pre;overflow-x:auto;line-height:normal;font-family:Menlo,'DejaVu Sans Mono',consolas,'Courier New',monospace\">New best mean reward!\n",
       "</pre>\n"
      ],
      "text/plain": [
       "New best mean reward!\n"
      ]
     },
     "metadata": {},
     "output_type": "display_data"
    },
    {
     "data": {
      "text/html": [
       "<pre style=\"white-space:pre;overflow-x:auto;line-height:normal;font-family:Menlo,'DejaVu Sans Mono',consolas,'Courier New',monospace\">Eval num_timesteps=151600, episode_reward=71.83 +/- 16.62\n",
       "</pre>\n"
      ],
      "text/plain": [
       "Eval num_timesteps=151600, episode_reward=71.83 +/- 16.62\n"
      ]
     },
     "metadata": {},
     "output_type": "display_data"
    },
    {
     "data": {
      "text/html": [
       "<pre style=\"white-space:pre;overflow-x:auto;line-height:normal;font-family:Menlo,'DejaVu Sans Mono',consolas,'Courier New',monospace\">Episode length: 991.00 +/- 0.00\n",
       "</pre>\n"
      ],
      "text/plain": [
       "Episode length: 991.00 +/- 0.00\n"
      ]
     },
     "metadata": {},
     "output_type": "display_data"
    },
    {
     "data": {
      "text/html": [
       "<pre style=\"white-space:pre;overflow-x:auto;line-height:normal;font-family:Menlo,'DejaVu Sans Mono',consolas,'Courier New',monospace\">Eval num_timesteps=161600, episode_reward=66.83 +/- 12.81\n",
       "</pre>\n"
      ],
      "text/plain": [
       "Eval num_timesteps=161600, episode_reward=66.83 +/- 12.81\n"
      ]
     },
     "metadata": {},
     "output_type": "display_data"
    },
    {
     "data": {
      "text/html": [
       "<pre style=\"white-space:pre;overflow-x:auto;line-height:normal;font-family:Menlo,'DejaVu Sans Mono',consolas,'Courier New',monospace\">Episode length: 991.00 +/- 0.00\n",
       "</pre>\n"
      ],
      "text/plain": [
       "Episode length: 991.00 +/- 0.00\n"
      ]
     },
     "metadata": {},
     "output_type": "display_data"
    },
    {
     "data": {
      "text/html": [
       "<pre style=\"white-space:pre;overflow-x:auto;line-height:normal;font-family:Menlo,'DejaVu Sans Mono',consolas,'Courier New',monospace\">Eval num_timesteps=171600, episode_reward=35.15 +/- 21.18\n",
       "</pre>\n"
      ],
      "text/plain": [
       "Eval num_timesteps=171600, episode_reward=35.15 +/- 21.18\n"
      ]
     },
     "metadata": {},
     "output_type": "display_data"
    },
    {
     "data": {
      "text/html": [
       "<pre style=\"white-space:pre;overflow-x:auto;line-height:normal;font-family:Menlo,'DejaVu Sans Mono',consolas,'Courier New',monospace\">Episode length: 991.00 +/- 0.00\n",
       "</pre>\n"
      ],
      "text/plain": [
       "Episode length: 991.00 +/- 0.00\n"
      ]
     },
     "metadata": {},
     "output_type": "display_data"
    },
    {
     "data": {
      "text/html": [
       "<pre style=\"white-space:pre;overflow-x:auto;line-height:normal;font-family:Menlo,'DejaVu Sans Mono',consolas,'Courier New',monospace\">Eval num_timesteps=181600, episode_reward=126.03 +/- 54.42\n",
       "</pre>\n"
      ],
      "text/plain": [
       "Eval num_timesteps=181600, episode_reward=126.03 +/- 54.42\n"
      ]
     },
     "metadata": {},
     "output_type": "display_data"
    },
    {
     "data": {
      "text/html": [
       "<pre style=\"white-space:pre;overflow-x:auto;line-height:normal;font-family:Menlo,'DejaVu Sans Mono',consolas,'Courier New',monospace\">Episode length: 991.00 +/- 0.00\n",
       "</pre>\n"
      ],
      "text/plain": [
       "Episode length: 991.00 +/- 0.00\n"
      ]
     },
     "metadata": {},
     "output_type": "display_data"
    },
    {
     "data": {
      "text/html": [
       "<pre style=\"white-space:pre;overflow-x:auto;line-height:normal;font-family:Menlo,'DejaVu Sans Mono',consolas,'Courier New',monospace\">Eval num_timesteps=191600, episode_reward=141.68 +/- 158.34\n",
       "</pre>\n"
      ],
      "text/plain": [
       "Eval num_timesteps=191600, episode_reward=141.68 +/- 158.34\n"
      ]
     },
     "metadata": {},
     "output_type": "display_data"
    },
    {
     "data": {
      "text/html": [
       "<pre style=\"white-space:pre;overflow-x:auto;line-height:normal;font-family:Menlo,'DejaVu Sans Mono',consolas,'Courier New',monospace\">Episode length: 991.00 +/- 0.00\n",
       "</pre>\n"
      ],
      "text/plain": [
       "Episode length: 991.00 +/- 0.00\n"
      ]
     },
     "metadata": {},
     "output_type": "display_data"
    },
    {
     "data": {
      "text/html": [
       "<pre style=\"white-space:pre;overflow-x:auto;line-height:normal;font-family:Menlo,'DejaVu Sans Mono',consolas,'Courier New',monospace\">Eval num_timesteps=201600, episode_reward=89.87 +/- 31.61\n",
       "</pre>\n"
      ],
      "text/plain": [
       "Eval num_timesteps=201600, episode_reward=89.87 +/- 31.61\n"
      ]
     },
     "metadata": {},
     "output_type": "display_data"
    },
    {
     "data": {
      "text/html": [
       "<pre style=\"white-space:pre;overflow-x:auto;line-height:normal;font-family:Menlo,'DejaVu Sans Mono',consolas,'Courier New',monospace\">Episode length: 991.00 +/- 0.00\n",
       "</pre>\n"
      ],
      "text/plain": [
       "Episode length: 991.00 +/- 0.00\n"
      ]
     },
     "metadata": {},
     "output_type": "display_data"
    },
    {
     "data": {
      "text/html": [
       "<pre style=\"white-space:pre;overflow-x:auto;line-height:normal;font-family:Menlo,'DejaVu Sans Mono',consolas,'Courier New',monospace\">Saving model at step 100000 to ./ppo_spidy_v4_1/model/ppo_spidy_v4_1\n",
       "</pre>\n"
      ],
      "text/plain": [
       "Saving model at step 100000 to ./ppo_spidy_v4_1/model/ppo_spidy_v4_1\n"
      ]
     },
     "metadata": {},
     "output_type": "display_data"
    },
    {
     "data": {
      "text/html": [
       "<pre style=\"white-space:pre;overflow-x:auto;line-height:normal;font-family:Menlo,'DejaVu Sans Mono',consolas,'Courier New',monospace\">Eval num_timesteps=211600, episode_reward=116.45 +/- 69.99\n",
       "</pre>\n"
      ],
      "text/plain": [
       "Eval num_timesteps=211600, episode_reward=116.45 +/- 69.99\n"
      ]
     },
     "metadata": {},
     "output_type": "display_data"
    },
    {
     "data": {
      "text/html": [
       "<pre style=\"white-space:pre;overflow-x:auto;line-height:normal;font-family:Menlo,'DejaVu Sans Mono',consolas,'Courier New',monospace\">Episode length: 991.00 +/- 0.00\n",
       "</pre>\n"
      ],
      "text/plain": [
       "Episode length: 991.00 +/- 0.00\n"
      ]
     },
     "metadata": {},
     "output_type": "display_data"
    },
    {
     "data": {
      "text/html": [
       "<pre style=\"white-space:pre;overflow-x:auto;line-height:normal;font-family:Menlo,'DejaVu Sans Mono',consolas,'Courier New',monospace\">Eval num_timesteps=221600, episode_reward=107.83 +/- 42.57\n",
       "</pre>\n"
      ],
      "text/plain": [
       "Eval num_timesteps=221600, episode_reward=107.83 +/- 42.57\n"
      ]
     },
     "metadata": {},
     "output_type": "display_data"
    },
    {
     "data": {
      "text/html": [
       "<pre style=\"white-space:pre;overflow-x:auto;line-height:normal;font-family:Menlo,'DejaVu Sans Mono',consolas,'Courier New',monospace\">Episode length: 991.00 +/- 0.00\n",
       "</pre>\n"
      ],
      "text/plain": [
       "Episode length: 991.00 +/- 0.00\n"
      ]
     },
     "metadata": {},
     "output_type": "display_data"
    },
    {
     "data": {
      "text/html": [
       "<pre style=\"white-space:pre;overflow-x:auto;line-height:normal;font-family:Menlo,'DejaVu Sans Mono',consolas,'Courier New',monospace\">Eval num_timesteps=231600, episode_reward=211.93 +/- 257.90\n",
       "</pre>\n"
      ],
      "text/plain": [
       "Eval num_timesteps=231600, episode_reward=211.93 +/- 257.90\n"
      ]
     },
     "metadata": {},
     "output_type": "display_data"
    },
    {
     "data": {
      "text/html": [
       "<pre style=\"white-space:pre;overflow-x:auto;line-height:normal;font-family:Menlo,'DejaVu Sans Mono',consolas,'Courier New',monospace\">Episode length: 991.00 +/- 0.00\n",
       "</pre>\n"
      ],
      "text/plain": [
       "Episode length: 991.00 +/- 0.00\n"
      ]
     },
     "metadata": {},
     "output_type": "display_data"
    },
    {
     "data": {
      "text/html": [
       "<pre style=\"white-space:pre;overflow-x:auto;line-height:normal;font-family:Menlo,'DejaVu Sans Mono',consolas,'Courier New',monospace\">New best mean reward!\n",
       "</pre>\n"
      ],
      "text/plain": [
       "New best mean reward!\n"
      ]
     },
     "metadata": {},
     "output_type": "display_data"
    },
    {
     "data": {
      "text/html": [
       "<pre style=\"white-space:pre;overflow-x:auto;line-height:normal;font-family:Menlo,'DejaVu Sans Mono',consolas,'Courier New',monospace\">Eval num_timesteps=241600, episode_reward=52.63 +/- 23.89\n",
       "</pre>\n"
      ],
      "text/plain": [
       "Eval num_timesteps=241600, episode_reward=52.63 +/- 23.89\n"
      ]
     },
     "metadata": {},
     "output_type": "display_data"
    },
    {
     "data": {
      "text/html": [
       "<pre style=\"white-space:pre;overflow-x:auto;line-height:normal;font-family:Menlo,'DejaVu Sans Mono',consolas,'Courier New',monospace\">Episode length: 991.00 +/- 0.00\n",
       "</pre>\n"
      ],
      "text/plain": [
       "Episode length: 991.00 +/- 0.00\n"
      ]
     },
     "metadata": {},
     "output_type": "display_data"
    },
    {
     "data": {
      "text/html": [
       "<pre style=\"white-space:pre;overflow-x:auto;line-height:normal;font-family:Menlo,'DejaVu Sans Mono',consolas,'Courier New',monospace\">Eval num_timesteps=251600, episode_reward=133.76 +/- 36.71\n",
       "</pre>\n"
      ],
      "text/plain": [
       "Eval num_timesteps=251600, episode_reward=133.76 +/- 36.71\n"
      ]
     },
     "metadata": {},
     "output_type": "display_data"
    },
    {
     "data": {
      "text/html": [
       "<pre style=\"white-space:pre;overflow-x:auto;line-height:normal;font-family:Menlo,'DejaVu Sans Mono',consolas,'Courier New',monospace\">Episode length: 991.00 +/- 0.00\n",
       "</pre>\n"
      ],
      "text/plain": [
       "Episode length: 991.00 +/- 0.00\n"
      ]
     },
     "metadata": {},
     "output_type": "display_data"
    },
    {
     "data": {
      "text/html": [
       "<pre style=\"white-space:pre;overflow-x:auto;line-height:normal;font-family:Menlo,'DejaVu Sans Mono',consolas,'Courier New',monospace\">Eval num_timesteps=261600, episode_reward=87.59 +/- 60.42\n",
       "</pre>\n"
      ],
      "text/plain": [
       "Eval num_timesteps=261600, episode_reward=87.59 +/- 60.42\n"
      ]
     },
     "metadata": {},
     "output_type": "display_data"
    },
    {
     "data": {
      "text/html": [
       "<pre style=\"white-space:pre;overflow-x:auto;line-height:normal;font-family:Menlo,'DejaVu Sans Mono',consolas,'Courier New',monospace\">Episode length: 991.00 +/- 0.00\n",
       "</pre>\n"
      ],
      "text/plain": [
       "Episode length: 991.00 +/- 0.00\n"
      ]
     },
     "metadata": {},
     "output_type": "display_data"
    },
    {
     "data": {
      "text/html": [
       "<pre style=\"white-space:pre;overflow-x:auto;line-height:normal;font-family:Menlo,'DejaVu Sans Mono',consolas,'Courier New',monospace\">Eval num_timesteps=271600, episode_reward=63.93 +/- 41.17\n",
       "</pre>\n"
      ],
      "text/plain": [
       "Eval num_timesteps=271600, episode_reward=63.93 +/- 41.17\n"
      ]
     },
     "metadata": {},
     "output_type": "display_data"
    },
    {
     "data": {
      "text/html": [
       "<pre style=\"white-space:pre;overflow-x:auto;line-height:normal;font-family:Menlo,'DejaVu Sans Mono',consolas,'Courier New',monospace\">Episode length: 991.00 +/- 0.00\n",
       "</pre>\n"
      ],
      "text/plain": [
       "Episode length: 991.00 +/- 0.00\n"
      ]
     },
     "metadata": {},
     "output_type": "display_data"
    },
    {
     "data": {
      "text/html": [
       "<pre style=\"white-space:pre;overflow-x:auto;line-height:normal;font-family:Menlo,'DejaVu Sans Mono',consolas,'Courier New',monospace\">Eval num_timesteps=281600, episode_reward=115.67 +/- 53.57\n",
       "</pre>\n"
      ],
      "text/plain": [
       "Eval num_timesteps=281600, episode_reward=115.67 +/- 53.57\n"
      ]
     },
     "metadata": {},
     "output_type": "display_data"
    },
    {
     "data": {
      "text/html": [
       "<pre style=\"white-space:pre;overflow-x:auto;line-height:normal;font-family:Menlo,'DejaVu Sans Mono',consolas,'Courier New',monospace\">Episode length: 991.00 +/- 0.00\n",
       "</pre>\n"
      ],
      "text/plain": [
       "Episode length: 991.00 +/- 0.00\n"
      ]
     },
     "metadata": {},
     "output_type": "display_data"
    },
    {
     "data": {
      "text/html": [
       "<pre style=\"white-space:pre;overflow-x:auto;line-height:normal;font-family:Menlo,'DejaVu Sans Mono',consolas,'Courier New',monospace\">Eval num_timesteps=291600, episode_reward=156.21 +/- 23.69\n",
       "</pre>\n"
      ],
      "text/plain": [
       "Eval num_timesteps=291600, episode_reward=156.21 +/- 23.69\n"
      ]
     },
     "metadata": {},
     "output_type": "display_data"
    },
    {
     "data": {
      "text/html": [
       "<pre style=\"white-space:pre;overflow-x:auto;line-height:normal;font-family:Menlo,'DejaVu Sans Mono',consolas,'Courier New',monospace\">Episode length: 991.00 +/- 0.00\n",
       "</pre>\n"
      ],
      "text/plain": [
       "Episode length: 991.00 +/- 0.00\n"
      ]
     },
     "metadata": {},
     "output_type": "display_data"
    },
    {
     "data": {
      "text/html": [
       "<pre style=\"white-space:pre;overflow-x:auto;line-height:normal;font-family:Menlo,'DejaVu Sans Mono',consolas,'Courier New',monospace\">Eval num_timesteps=301600, episode_reward=175.41 +/- 101.58\n",
       "</pre>\n"
      ],
      "text/plain": [
       "Eval num_timesteps=301600, episode_reward=175.41 +/- 101.58\n"
      ]
     },
     "metadata": {},
     "output_type": "display_data"
    },
    {
     "data": {
      "text/html": [
       "<pre style=\"white-space:pre;overflow-x:auto;line-height:normal;font-family:Menlo,'DejaVu Sans Mono',consolas,'Courier New',monospace\">Episode length: 991.00 +/- 0.00\n",
       "</pre>\n"
      ],
      "text/plain": [
       "Episode length: 991.00 +/- 0.00\n"
      ]
     },
     "metadata": {},
     "output_type": "display_data"
    },
    {
     "data": {
      "text/html": [
       "<pre style=\"white-space:pre;overflow-x:auto;line-height:normal;font-family:Menlo,'DejaVu Sans Mono',consolas,'Courier New',monospace\">Saving model at step 200000 to ./ppo_spidy_v4_1/model/ppo_spidy_v4_1\n",
       "</pre>\n"
      ],
      "text/plain": [
       "Saving model at step 200000 to ./ppo_spidy_v4_1/model/ppo_spidy_v4_1\n"
      ]
     },
     "metadata": {},
     "output_type": "display_data"
    },
    {
     "data": {
      "text/html": [
       "<pre style=\"white-space:pre;overflow-x:auto;line-height:normal;font-family:Menlo,'DejaVu Sans Mono',consolas,'Courier New',monospace\">Eval num_timesteps=311600, episode_reward=189.09 +/- 16.27\n",
       "</pre>\n"
      ],
      "text/plain": [
       "Eval num_timesteps=311600, episode_reward=189.09 +/- 16.27\n"
      ]
     },
     "metadata": {},
     "output_type": "display_data"
    },
    {
     "data": {
      "text/html": [
       "<pre style=\"white-space:pre;overflow-x:auto;line-height:normal;font-family:Menlo,'DejaVu Sans Mono',consolas,'Courier New',monospace\">Episode length: 991.00 +/- 0.00\n",
       "</pre>\n"
      ],
      "text/plain": [
       "Episode length: 991.00 +/- 0.00\n"
      ]
     },
     "metadata": {},
     "output_type": "display_data"
    },
    {
     "data": {
      "text/html": [
       "<pre style=\"white-space:pre;overflow-x:auto;line-height:normal;font-family:Menlo,'DejaVu Sans Mono',consolas,'Courier New',monospace\">Eval num_timesteps=321600, episode_reward=95.80 +/- 30.70\n",
       "</pre>\n"
      ],
      "text/plain": [
       "Eval num_timesteps=321600, episode_reward=95.80 +/- 30.70\n"
      ]
     },
     "metadata": {},
     "output_type": "display_data"
    },
    {
     "data": {
      "text/html": [
       "<pre style=\"white-space:pre;overflow-x:auto;line-height:normal;font-family:Menlo,'DejaVu Sans Mono',consolas,'Courier New',monospace\">Episode length: 991.00 +/- 0.00\n",
       "</pre>\n"
      ],
      "text/plain": [
       "Episode length: 991.00 +/- 0.00\n"
      ]
     },
     "metadata": {},
     "output_type": "display_data"
    },
    {
     "data": {
      "text/html": [
       "<pre style=\"white-space:pre;overflow-x:auto;line-height:normal;font-family:Menlo,'DejaVu Sans Mono',consolas,'Courier New',monospace\">Eval num_timesteps=331600, episode_reward=223.69 +/- 123.51\n",
       "</pre>\n"
      ],
      "text/plain": [
       "Eval num_timesteps=331600, episode_reward=223.69 +/- 123.51\n"
      ]
     },
     "metadata": {},
     "output_type": "display_data"
    },
    {
     "data": {
      "text/html": [
       "<pre style=\"white-space:pre;overflow-x:auto;line-height:normal;font-family:Menlo,'DejaVu Sans Mono',consolas,'Courier New',monospace\">Episode length: 991.00 +/- 0.00\n",
       "</pre>\n"
      ],
      "text/plain": [
       "Episode length: 991.00 +/- 0.00\n"
      ]
     },
     "metadata": {},
     "output_type": "display_data"
    },
    {
     "data": {
      "text/html": [
       "<pre style=\"white-space:pre;overflow-x:auto;line-height:normal;font-family:Menlo,'DejaVu Sans Mono',consolas,'Courier New',monospace\">New best mean reward!\n",
       "</pre>\n"
      ],
      "text/plain": [
       "New best mean reward!\n"
      ]
     },
     "metadata": {},
     "output_type": "display_data"
    },
    {
     "data": {
      "text/html": [
       "<pre style=\"white-space:pre;overflow-x:auto;line-height:normal;font-family:Menlo,'DejaVu Sans Mono',consolas,'Courier New',monospace\">Eval num_timesteps=341600, episode_reward=155.17 +/- 39.94\n",
       "</pre>\n"
      ],
      "text/plain": [
       "Eval num_timesteps=341600, episode_reward=155.17 +/- 39.94\n"
      ]
     },
     "metadata": {},
     "output_type": "display_data"
    },
    {
     "data": {
      "text/html": [
       "<pre style=\"white-space:pre;overflow-x:auto;line-height:normal;font-family:Menlo,'DejaVu Sans Mono',consolas,'Courier New',monospace\">Eval num_timesteps=351600, episode_reward=84.32 +/- 41.50\n",
       "</pre>\n"
      ],
      "text/plain": [
       "Eval num_timesteps=351600, episode_reward=84.32 +/- 41.50\n"
      ]
     },
     "metadata": {},
     "output_type": "display_data"
    },
    {
     "data": {
      "text/html": [
       "<pre style=\"white-space:pre;overflow-x:auto;line-height:normal;font-family:Menlo,'DejaVu Sans Mono',consolas,'Courier New',monospace\">Eval num_timesteps=361600, episode_reward=113.95 +/- 25.86\n",
       "</pre>\n"
      ],
      "text/plain": [
       "Eval num_timesteps=361600, episode_reward=113.95 +/- 25.86\n"
      ]
     },
     "metadata": {},
     "output_type": "display_data"
    },
    {
     "data": {
      "text/html": [
       "<pre style=\"white-space:pre;overflow-x:auto;line-height:normal;font-family:Menlo,'DejaVu Sans Mono',consolas,'Courier New',monospace\">Episode length: 991.00 +/- 0.00\n",
       "</pre>\n"
      ],
      "text/plain": [
       "Episode length: 991.00 +/- 0.00\n"
      ]
     },
     "metadata": {},
     "output_type": "display_data"
    },
    {
     "data": {
      "text/html": [
       "<pre style=\"white-space:pre;overflow-x:auto;line-height:normal;font-family:Menlo,'DejaVu Sans Mono',consolas,'Courier New',monospace\">Eval num_timesteps=371600, episode_reward=137.06 +/- 72.49\n",
       "</pre>\n"
      ],
      "text/plain": [
       "Eval num_timesteps=371600, episode_reward=137.06 +/- 72.49\n"
      ]
     },
     "metadata": {},
     "output_type": "display_data"
    },
    {
     "data": {
      "text/html": [
       "<pre style=\"white-space:pre;overflow-x:auto;line-height:normal;font-family:Menlo,'DejaVu Sans Mono',consolas,'Courier New',monospace\">Episode length: 991.00 +/- 0.00\n",
       "</pre>\n"
      ],
      "text/plain": [
       "Episode length: 991.00 +/- 0.00\n"
      ]
     },
     "metadata": {},
     "output_type": "display_data"
    },
    {
     "data": {
      "text/html": [
       "<pre style=\"white-space:pre;overflow-x:auto;line-height:normal;font-family:Menlo,'DejaVu Sans Mono',consolas,'Courier New',monospace\">Eval num_timesteps=381600, episode_reward=63.11 +/- 56.48\n",
       "</pre>\n"
      ],
      "text/plain": [
       "Eval num_timesteps=381600, episode_reward=63.11 +/- 56.48\n"
      ]
     },
     "metadata": {},
     "output_type": "display_data"
    },
    {
     "data": {
      "text/html": [
       "<pre style=\"white-space:pre;overflow-x:auto;line-height:normal;font-family:Menlo,'DejaVu Sans Mono',consolas,'Courier New',monospace\">Episode length: 991.00 +/- 0.00\n",
       "</pre>\n"
      ],
      "text/plain": [
       "Episode length: 991.00 +/- 0.00\n"
      ]
     },
     "metadata": {},
     "output_type": "display_data"
    },
    {
     "data": {
      "text/html": [
       "<pre style=\"white-space:pre;overflow-x:auto;line-height:normal;font-family:Menlo,'DejaVu Sans Mono',consolas,'Courier New',monospace\">Eval num_timesteps=391600, episode_reward=105.63 +/- 48.37\n",
       "</pre>\n"
      ],
      "text/plain": [
       "Eval num_timesteps=391600, episode_reward=105.63 +/- 48.37\n"
      ]
     },
     "metadata": {},
     "output_type": "display_data"
    },
    {
     "data": {
      "text/html": [
       "<pre style=\"white-space:pre;overflow-x:auto;line-height:normal;font-family:Menlo,'DejaVu Sans Mono',consolas,'Courier New',monospace\">Episode length: 991.00 +/- 0.00\n",
       "</pre>\n"
      ],
      "text/plain": [
       "Episode length: 991.00 +/- 0.00\n"
      ]
     },
     "metadata": {},
     "output_type": "display_data"
    },
    {
     "data": {
      "text/html": [
       "<pre style=\"white-space:pre;overflow-x:auto;line-height:normal;font-family:Menlo,'DejaVu Sans Mono',consolas,'Courier New',monospace\">Eval num_timesteps=401600, episode_reward=94.14 +/- 86.99\n",
       "</pre>\n"
      ],
      "text/plain": [
       "Eval num_timesteps=401600, episode_reward=94.14 +/- 86.99\n"
      ]
     },
     "metadata": {},
     "output_type": "display_data"
    },
    {
     "data": {
      "text/html": [
       "<pre style=\"white-space:pre;overflow-x:auto;line-height:normal;font-family:Menlo,'DejaVu Sans Mono',consolas,'Courier New',monospace\">Episode length: 991.00 +/- 0.00\n",
       "</pre>\n"
      ],
      "text/plain": [
       "Episode length: 991.00 +/- 0.00\n"
      ]
     },
     "metadata": {},
     "output_type": "display_data"
    },
    {
     "data": {
      "text/html": [
       "<pre style=\"white-space:pre;overflow-x:auto;line-height:normal;font-family:Menlo,'DejaVu Sans Mono',consolas,'Courier New',monospace\">Saving model at step 300000 to ./ppo_spidy_v4_1/model/ppo_spidy_v4_1\n",
       "</pre>\n"
      ],
      "text/plain": [
       "Saving model at step 300000 to ./ppo_spidy_v4_1/model/ppo_spidy_v4_1\n"
      ]
     },
     "metadata": {},
     "output_type": "display_data"
    },
    {
     "data": {
      "text/html": [
       "<pre style=\"white-space:pre;overflow-x:auto;line-height:normal;font-family:Menlo,'DejaVu Sans Mono',consolas,'Courier New',monospace\">Eval num_timesteps=411600, episode_reward=118.22 +/- 91.92\n",
       "</pre>\n"
      ],
      "text/plain": [
       "Eval num_timesteps=411600, episode_reward=118.22 +/- 91.92\n"
      ]
     },
     "metadata": {},
     "output_type": "display_data"
    },
    {
     "data": {
      "text/html": [
       "<pre style=\"white-space:pre;overflow-x:auto;line-height:normal;font-family:Menlo,'DejaVu Sans Mono',consolas,'Courier New',monospace\">Episode length: 991.00 +/- 0.00\n",
       "</pre>\n"
      ],
      "text/plain": [
       "Episode length: 991.00 +/- 0.00\n"
      ]
     },
     "metadata": {},
     "output_type": "display_data"
    },
    {
     "data": {
      "text/html": [
       "<pre style=\"white-space:pre;overflow-x:auto;line-height:normal;font-family:Menlo,'DejaVu Sans Mono',consolas,'Courier New',monospace\">Eval num_timesteps=421600, episode_reward=90.52 +/- 25.76\n",
       "</pre>\n"
      ],
      "text/plain": [
       "Eval num_timesteps=421600, episode_reward=90.52 +/- 25.76\n"
      ]
     },
     "metadata": {},
     "output_type": "display_data"
    },
    {
     "data": {
      "text/html": [
       "<pre style=\"white-space:pre;overflow-x:auto;line-height:normal;font-family:Menlo,'DejaVu Sans Mono',consolas,'Courier New',monospace\">Episode length: 991.00 +/- 0.00\n",
       "</pre>\n"
      ],
      "text/plain": [
       "Episode length: 991.00 +/- 0.00\n"
      ]
     },
     "metadata": {},
     "output_type": "display_data"
    },
    {
     "data": {
      "text/html": [
       "<pre style=\"white-space:pre;overflow-x:auto;line-height:normal;font-family:Menlo,'DejaVu Sans Mono',consolas,'Courier New',monospace\">Eval num_timesteps=431600, episode_reward=146.79 +/- 92.53\n",
       "</pre>\n"
      ],
      "text/plain": [
       "Eval num_timesteps=431600, episode_reward=146.79 +/- 92.53\n"
      ]
     },
     "metadata": {},
     "output_type": "display_data"
    },
    {
     "data": {
      "text/html": [
       "<pre style=\"white-space:pre;overflow-x:auto;line-height:normal;font-family:Menlo,'DejaVu Sans Mono',consolas,'Courier New',monospace\">Episode length: 991.00 +/- 0.00\n",
       "</pre>\n"
      ],
      "text/plain": [
       "Episode length: 991.00 +/- 0.00\n"
      ]
     },
     "metadata": {},
     "output_type": "display_data"
    },
    {
     "data": {
      "text/html": [
       "<pre style=\"white-space:pre;overflow-x:auto;line-height:normal;font-family:Menlo,'DejaVu Sans Mono',consolas,'Courier New',monospace\">Eval num_timesteps=441600, episode_reward=243.53 +/- 70.84\n",
       "</pre>\n"
      ],
      "text/plain": [
       "Eval num_timesteps=441600, episode_reward=243.53 +/- 70.84\n"
      ]
     },
     "metadata": {},
     "output_type": "display_data"
    },
    {
     "data": {
      "text/html": [
       "<pre style=\"white-space:pre;overflow-x:auto;line-height:normal;font-family:Menlo,'DejaVu Sans Mono',consolas,'Courier New',monospace\">Episode length: 991.00 +/- 0.00\n",
       "</pre>\n"
      ],
      "text/plain": [
       "Episode length: 991.00 +/- 0.00\n"
      ]
     },
     "metadata": {},
     "output_type": "display_data"
    },
    {
     "data": {
      "text/html": [
       "<pre style=\"white-space:pre;overflow-x:auto;line-height:normal;font-family:Menlo,'DejaVu Sans Mono',consolas,'Courier New',monospace\">New best mean reward!\n",
       "</pre>\n"
      ],
      "text/plain": [
       "New best mean reward!\n"
      ]
     },
     "metadata": {},
     "output_type": "display_data"
    },
    {
     "data": {
      "text/html": [
       "<pre style=\"white-space:pre;overflow-x:auto;line-height:normal;font-family:Menlo,'DejaVu Sans Mono',consolas,'Courier New',monospace\">Eval num_timesteps=451600, episode_reward=52.76 +/- 18.56\n",
       "</pre>\n"
      ],
      "text/plain": [
       "Eval num_timesteps=451600, episode_reward=52.76 +/- 18.56\n"
      ]
     },
     "metadata": {},
     "output_type": "display_data"
    },
    {
     "data": {
      "text/html": [
       "<pre style=\"white-space:pre;overflow-x:auto;line-height:normal;font-family:Menlo,'DejaVu Sans Mono',consolas,'Courier New',monospace\">Episode length: 991.00 +/- 0.00\n",
       "</pre>\n"
      ],
      "text/plain": [
       "Episode length: 991.00 +/- 0.00\n"
      ]
     },
     "metadata": {},
     "output_type": "display_data"
    },
    {
     "data": {
      "text/html": [
       "<pre style=\"white-space:pre;overflow-x:auto;line-height:normal;font-family:Menlo,'DejaVu Sans Mono',consolas,'Courier New',monospace\">Eval num_timesteps=461600, episode_reward=155.20 +/- 57.19\n",
       "</pre>\n"
      ],
      "text/plain": [
       "Eval num_timesteps=461600, episode_reward=155.20 +/- 57.19\n"
      ]
     },
     "metadata": {},
     "output_type": "display_data"
    },
    {
     "data": {
      "text/html": [
       "<pre style=\"white-space:pre;overflow-x:auto;line-height:normal;font-family:Menlo,'DejaVu Sans Mono',consolas,'Courier New',monospace\">Episode length: 991.00 +/- 0.00\n",
       "</pre>\n"
      ],
      "text/plain": [
       "Episode length: 991.00 +/- 0.00\n"
      ]
     },
     "metadata": {},
     "output_type": "display_data"
    },
    {
     "data": {
      "text/html": [
       "<pre style=\"white-space:pre;overflow-x:auto;line-height:normal;font-family:Menlo,'DejaVu Sans Mono',consolas,'Courier New',monospace\">Eval num_timesteps=471600, episode_reward=85.45 +/- 63.79\n",
       "</pre>\n"
      ],
      "text/plain": [
       "Eval num_timesteps=471600, episode_reward=85.45 +/- 63.79\n"
      ]
     },
     "metadata": {},
     "output_type": "display_data"
    },
    {
     "data": {
      "text/html": [
       "<pre style=\"white-space:pre;overflow-x:auto;line-height:normal;font-family:Menlo,'DejaVu Sans Mono',consolas,'Courier New',monospace\">Episode length: 991.00 +/- 0.00\n",
       "</pre>\n"
      ],
      "text/plain": [
       "Episode length: 991.00 +/- 0.00\n"
      ]
     },
     "metadata": {},
     "output_type": "display_data"
    },
    {
     "data": {
      "text/html": [
       "<pre style=\"white-space:pre;overflow-x:auto;line-height:normal;font-family:Menlo,'DejaVu Sans Mono',consolas,'Courier New',monospace\">Eval num_timesteps=481600, episode_reward=68.46 +/- 10.03\n",
       "</pre>\n"
      ],
      "text/plain": [
       "Eval num_timesteps=481600, episode_reward=68.46 +/- 10.03\n"
      ]
     },
     "metadata": {},
     "output_type": "display_data"
    },
    {
     "data": {
      "text/html": [
       "<pre style=\"white-space:pre;overflow-x:auto;line-height:normal;font-family:Menlo,'DejaVu Sans Mono',consolas,'Courier New',monospace\">Episode length: 991.00 +/- 0.00\n",
       "</pre>\n"
      ],
      "text/plain": [
       "Episode length: 991.00 +/- 0.00\n"
      ]
     },
     "metadata": {},
     "output_type": "display_data"
    },
    {
     "data": {
      "text/html": [
       "<pre style=\"white-space:pre;overflow-x:auto;line-height:normal;font-family:Menlo,'DejaVu Sans Mono',consolas,'Courier New',monospace\">Eval num_timesteps=491600, episode_reward=178.52 +/- 37.73\n",
       "</pre>\n"
      ],
      "text/plain": [
       "Eval num_timesteps=491600, episode_reward=178.52 +/- 37.73\n"
      ]
     },
     "metadata": {},
     "output_type": "display_data"
    },
    {
     "data": {
      "text/html": [
       "<pre style=\"white-space:pre;overflow-x:auto;line-height:normal;font-family:Menlo,'DejaVu Sans Mono',consolas,'Courier New',monospace\">Episode length: 991.00 +/- 0.00\n",
       "</pre>\n"
      ],
      "text/plain": [
       "Episode length: 991.00 +/- 0.00\n"
      ]
     },
     "metadata": {},
     "output_type": "display_data"
    },
    {
     "data": {
      "text/html": [
       "<pre style=\"white-space:pre;overflow-x:auto;line-height:normal;font-family:Menlo,'DejaVu Sans Mono',consolas,'Courier New',monospace\">Eval num_timesteps=501600, episode_reward=87.63 +/- 24.55\n",
       "</pre>\n"
      ],
      "text/plain": [
       "Eval num_timesteps=501600, episode_reward=87.63 +/- 24.55\n"
      ]
     },
     "metadata": {},
     "output_type": "display_data"
    },
    {
     "data": {
      "text/html": [
       "<pre style=\"white-space:pre;overflow-x:auto;line-height:normal;font-family:Menlo,'DejaVu Sans Mono',consolas,'Courier New',monospace\">Episode length: 991.00 +/- 0.00\n",
       "</pre>\n"
      ],
      "text/plain": [
       "Episode length: 991.00 +/- 0.00\n"
      ]
     },
     "metadata": {},
     "output_type": "display_data"
    },
    {
     "data": {
      "text/html": [
       "<pre style=\"white-space:pre;overflow-x:auto;line-height:normal;font-family:Menlo,'DejaVu Sans Mono',consolas,'Courier New',monospace\">Saving model at step 400000 to ./ppo_spidy_v4_1/model/ppo_spidy_v4_1\n",
       "</pre>\n"
      ],
      "text/plain": [
       "Saving model at step 400000 to ./ppo_spidy_v4_1/model/ppo_spidy_v4_1\n"
      ]
     },
     "metadata": {},
     "output_type": "display_data"
    },
    {
     "data": {
      "text/html": [
       "<pre style=\"white-space:pre;overflow-x:auto;line-height:normal;font-family:Menlo,'DejaVu Sans Mono',consolas,'Courier New',monospace\">Eval num_timesteps=511600, episode_reward=56.73 +/- 21.48\n",
       "</pre>\n"
      ],
      "text/plain": [
       "Eval num_timesteps=511600, episode_reward=56.73 +/- 21.48\n"
      ]
     },
     "metadata": {},
     "output_type": "display_data"
    },
    {
     "data": {
      "text/html": [
       "<pre style=\"white-space:pre;overflow-x:auto;line-height:normal;font-family:Menlo,'DejaVu Sans Mono',consolas,'Courier New',monospace\">Episode length: 991.00 +/- 0.00\n",
       "</pre>\n"
      ],
      "text/plain": [
       "Episode length: 991.00 +/- 0.00\n"
      ]
     },
     "metadata": {},
     "output_type": "display_data"
    },
    {
     "data": {
      "text/html": [
       "<pre style=\"white-space:pre;overflow-x:auto;line-height:normal;font-family:Menlo,'DejaVu Sans Mono',consolas,'Courier New',monospace\">Eval num_timesteps=521600, episode_reward=120.17 +/- 142.94\n",
       "</pre>\n"
      ],
      "text/plain": [
       "Eval num_timesteps=521600, episode_reward=120.17 +/- 142.94\n"
      ]
     },
     "metadata": {},
     "output_type": "display_data"
    },
    {
     "data": {
      "text/html": [
       "<pre style=\"white-space:pre;overflow-x:auto;line-height:normal;font-family:Menlo,'DejaVu Sans Mono',consolas,'Courier New',monospace\">Episode length: 991.00 +/- 0.00\n",
       "</pre>\n"
      ],
      "text/plain": [
       "Episode length: 991.00 +/- 0.00\n"
      ]
     },
     "metadata": {},
     "output_type": "display_data"
    },
    {
     "data": {
      "text/html": [
       "<pre style=\"white-space:pre;overflow-x:auto;line-height:normal;font-family:Menlo,'DejaVu Sans Mono',consolas,'Courier New',monospace\">Eval num_timesteps=531600, episode_reward=137.49 +/- 67.85\n",
       "</pre>\n"
      ],
      "text/plain": [
       "Eval num_timesteps=531600, episode_reward=137.49 +/- 67.85\n"
      ]
     },
     "metadata": {},
     "output_type": "display_data"
    },
    {
     "data": {
      "text/html": [
       "<pre style=\"white-space:pre;overflow-x:auto;line-height:normal;font-family:Menlo,'DejaVu Sans Mono',consolas,'Courier New',monospace\">Episode length: 991.00 +/- 0.00\n",
       "</pre>\n"
      ],
      "text/plain": [
       "Episode length: 991.00 +/- 0.00\n"
      ]
     },
     "metadata": {},
     "output_type": "display_data"
    },
    {
     "data": {
      "text/html": [
       "<pre style=\"white-space:pre;overflow-x:auto;line-height:normal;font-family:Menlo,'DejaVu Sans Mono',consolas,'Courier New',monospace\">Eval num_timesteps=541600, episode_reward=104.13 +/- 23.78\n",
       "</pre>\n"
      ],
      "text/plain": [
       "Eval num_timesteps=541600, episode_reward=104.13 +/- 23.78\n"
      ]
     },
     "metadata": {},
     "output_type": "display_data"
    },
    {
     "data": {
      "text/html": [
       "<pre style=\"white-space:pre;overflow-x:auto;line-height:normal;font-family:Menlo,'DejaVu Sans Mono',consolas,'Courier New',monospace\">Episode length: 991.00 +/- 0.00\n",
       "</pre>\n"
      ],
      "text/plain": [
       "Episode length: 991.00 +/- 0.00\n"
      ]
     },
     "metadata": {},
     "output_type": "display_data"
    },
    {
     "data": {
      "text/html": [
       "<pre style=\"white-space:pre;overflow-x:auto;line-height:normal;font-family:Menlo,'DejaVu Sans Mono',consolas,'Courier New',monospace\">Eval num_timesteps=551600, episode_reward=147.83 +/- 35.53\n",
       "</pre>\n"
      ],
      "text/plain": [
       "Eval num_timesteps=551600, episode_reward=147.83 +/- 35.53\n"
      ]
     },
     "metadata": {},
     "output_type": "display_data"
    },
    {
     "data": {
      "text/html": [
       "<pre style=\"white-space:pre;overflow-x:auto;line-height:normal;font-family:Menlo,'DejaVu Sans Mono',consolas,'Courier New',monospace\">Episode length: 991.00 +/- 0.00\n",
       "</pre>\n"
      ],
      "text/plain": [
       "Episode length: 991.00 +/- 0.00\n"
      ]
     },
     "metadata": {},
     "output_type": "display_data"
    },
    {
     "data": {
      "text/html": [
       "<pre style=\"white-space:pre;overflow-x:auto;line-height:normal;font-family:Menlo,'DejaVu Sans Mono',consolas,'Courier New',monospace\">Eval num_timesteps=561600, episode_reward=278.59 +/- 289.85\n",
       "</pre>\n"
      ],
      "text/plain": [
       "Eval num_timesteps=561600, episode_reward=278.59 +/- 289.85\n"
      ]
     },
     "metadata": {},
     "output_type": "display_data"
    },
    {
     "data": {
      "text/html": [
       "<pre style=\"white-space:pre;overflow-x:auto;line-height:normal;font-family:Menlo,'DejaVu Sans Mono',consolas,'Courier New',monospace\">Episode length: 991.00 +/- 0.00\n",
       "</pre>\n"
      ],
      "text/plain": [
       "Episode length: 991.00 +/- 0.00\n"
      ]
     },
     "metadata": {},
     "output_type": "display_data"
    },
    {
     "data": {
      "text/html": [
       "<pre style=\"white-space:pre;overflow-x:auto;line-height:normal;font-family:Menlo,'DejaVu Sans Mono',consolas,'Courier New',monospace\">New best mean reward!\n",
       "</pre>\n"
      ],
      "text/plain": [
       "New best mean reward!\n"
      ]
     },
     "metadata": {},
     "output_type": "display_data"
    },
    {
     "data": {
      "text/html": [
       "<pre style=\"white-space:pre;overflow-x:auto;line-height:normal;font-family:Menlo,'DejaVu Sans Mono',consolas,'Courier New',monospace\">Eval num_timesteps=571600, episode_reward=51.86 +/- 12.21\n",
       "</pre>\n"
      ],
      "text/plain": [
       "Eval num_timesteps=571600, episode_reward=51.86 +/- 12.21\n"
      ]
     },
     "metadata": {},
     "output_type": "display_data"
    },
    {
     "data": {
      "text/html": [
       "<pre style=\"white-space:pre;overflow-x:auto;line-height:normal;font-family:Menlo,'DejaVu Sans Mono',consolas,'Courier New',monospace\">Episode length: 991.00 +/- 0.00\n",
       "</pre>\n"
      ],
      "text/plain": [
       "Episode length: 991.00 +/- 0.00\n"
      ]
     },
     "metadata": {},
     "output_type": "display_data"
    },
    {
     "data": {
      "text/html": [
       "<pre style=\"white-space:pre;overflow-x:auto;line-height:normal;font-family:Menlo,'DejaVu Sans Mono',consolas,'Courier New',monospace\">Eval num_timesteps=581600, episode_reward=96.19 +/- 69.81\n",
       "</pre>\n"
      ],
      "text/plain": [
       "Eval num_timesteps=581600, episode_reward=96.19 +/- 69.81\n"
      ]
     },
     "metadata": {},
     "output_type": "display_data"
    },
    {
     "data": {
      "text/html": [
       "<pre style=\"white-space:pre;overflow-x:auto;line-height:normal;font-family:Menlo,'DejaVu Sans Mono',consolas,'Courier New',monospace\">Episode length: 991.00 +/- 0.00\n",
       "</pre>\n"
      ],
      "text/plain": [
       "Episode length: 991.00 +/- 0.00\n"
      ]
     },
     "metadata": {},
     "output_type": "display_data"
    },
    {
     "data": {
      "text/html": [
       "<pre style=\"white-space:pre;overflow-x:auto;line-height:normal;font-family:Menlo,'DejaVu Sans Mono',consolas,'Courier New',monospace\">Eval num_timesteps=591600, episode_reward=151.58 +/- 65.73\n",
       "</pre>\n"
      ],
      "text/plain": [
       "Eval num_timesteps=591600, episode_reward=151.58 +/- 65.73\n"
      ]
     },
     "metadata": {},
     "output_type": "display_data"
    },
    {
     "data": {
      "text/html": [
       "<pre style=\"white-space:pre;overflow-x:auto;line-height:normal;font-family:Menlo,'DejaVu Sans Mono',consolas,'Courier New',monospace\">Episode length: 991.00 +/- 0.00\n",
       "</pre>\n"
      ],
      "text/plain": [
       "Episode length: 991.00 +/- 0.00\n"
      ]
     },
     "metadata": {},
     "output_type": "display_data"
    },
    {
     "data": {
      "text/html": [
       "<pre style=\"white-space:pre;overflow-x:auto;line-height:normal;font-family:Menlo,'DejaVu Sans Mono',consolas,'Courier New',monospace\">Eval num_timesteps=601600, episode_reward=125.60 +/- 41.05\n",
       "</pre>\n"
      ],
      "text/plain": [
       "Eval num_timesteps=601600, episode_reward=125.60 +/- 41.05\n"
      ]
     },
     "metadata": {},
     "output_type": "display_data"
    },
    {
     "data": {
      "text/html": [
       "<pre style=\"white-space:pre;overflow-x:auto;line-height:normal;font-family:Menlo,'DejaVu Sans Mono',consolas,'Courier New',monospace\">Episode length: 991.00 +/- 0.00\n",
       "</pre>\n"
      ],
      "text/plain": [
       "Episode length: 991.00 +/- 0.00\n"
      ]
     },
     "metadata": {},
     "output_type": "display_data"
    },
    {
     "data": {
      "text/html": [
       "<pre style=\"white-space:pre;overflow-x:auto;line-height:normal;font-family:Menlo,'DejaVu Sans Mono',consolas,'Courier New',monospace\">Saving model at step 500000 to ./ppo_spidy_v4_1/model/ppo_spidy_v4_1\n",
       "</pre>\n"
      ],
      "text/plain": [
       "Saving model at step 500000 to ./ppo_spidy_v4_1/model/ppo_spidy_v4_1\n"
      ]
     },
     "metadata": {},
     "output_type": "display_data"
    },
    {
     "data": {
      "text/html": [
       "<pre style=\"white-space:pre;overflow-x:auto;line-height:normal;font-family:Menlo,'DejaVu Sans Mono',consolas,'Courier New',monospace\">Eval num_timesteps=611600, episode_reward=121.51 +/- 43.98\n",
       "</pre>\n"
      ],
      "text/plain": [
       "Eval num_timesteps=611600, episode_reward=121.51 +/- 43.98\n"
      ]
     },
     "metadata": {},
     "output_type": "display_data"
    },
    {
     "data": {
      "text/html": [
       "<pre style=\"white-space:pre;overflow-x:auto;line-height:normal;font-family:Menlo,'DejaVu Sans Mono',consolas,'Courier New',monospace\">Episode length: 991.00 +/- 0.00\n",
       "</pre>\n"
      ],
      "text/plain": [
       "Episode length: 991.00 +/- 0.00\n"
      ]
     },
     "metadata": {},
     "output_type": "display_data"
    },
    {
     "data": {
      "text/html": [
       "<pre style=\"white-space:pre;overflow-x:auto;line-height:normal;font-family:Menlo,'DejaVu Sans Mono',consolas,'Courier New',monospace\">Eval num_timesteps=621600, episode_reward=149.28 +/- 46.35\n",
       "</pre>\n"
      ],
      "text/plain": [
       "Eval num_timesteps=621600, episode_reward=149.28 +/- 46.35\n"
      ]
     },
     "metadata": {},
     "output_type": "display_data"
    },
    {
     "data": {
      "text/html": [
       "<pre style=\"white-space:pre;overflow-x:auto;line-height:normal;font-family:Menlo,'DejaVu Sans Mono',consolas,'Courier New',monospace\">Episode length: 991.00 +/- 0.00\n",
       "</pre>\n"
      ],
      "text/plain": [
       "Episode length: 991.00 +/- 0.00\n"
      ]
     },
     "metadata": {},
     "output_type": "display_data"
    },
    {
     "data": {
      "text/html": [
       "<pre style=\"white-space:pre;overflow-x:auto;line-height:normal;font-family:Menlo,'DejaVu Sans Mono',consolas,'Courier New',monospace\">Eval num_timesteps=631600, episode_reward=70.77 +/- 34.34\n",
       "</pre>\n"
      ],
      "text/plain": [
       "Eval num_timesteps=631600, episode_reward=70.77 +/- 34.34\n"
      ]
     },
     "metadata": {},
     "output_type": "display_data"
    },
    {
     "data": {
      "text/html": [
       "<pre style=\"white-space:pre;overflow-x:auto;line-height:normal;font-family:Menlo,'DejaVu Sans Mono',consolas,'Courier New',monospace\">Episode length: 991.00 +/- 0.00\n",
       "</pre>\n"
      ],
      "text/plain": [
       "Episode length: 991.00 +/- 0.00\n"
      ]
     },
     "metadata": {},
     "output_type": "display_data"
    },
    {
     "data": {
      "text/html": [
       "<pre style=\"white-space:pre;overflow-x:auto;line-height:normal;font-family:Menlo,'DejaVu Sans Mono',consolas,'Courier New',monospace\">Eval num_timesteps=641600, episode_reward=93.15 +/- 31.60\n",
       "</pre>\n"
      ],
      "text/plain": [
       "Eval num_timesteps=641600, episode_reward=93.15 +/- 31.60\n"
      ]
     },
     "metadata": {},
     "output_type": "display_data"
    },
    {
     "data": {
      "text/html": [
       "<pre style=\"white-space:pre;overflow-x:auto;line-height:normal;font-family:Menlo,'DejaVu Sans Mono',consolas,'Courier New',monospace\">Episode length: 991.00 +/- 0.00\n",
       "</pre>\n"
      ],
      "text/plain": [
       "Episode length: 991.00 +/- 0.00\n"
      ]
     },
     "metadata": {},
     "output_type": "display_data"
    },
    {
     "data": {
      "text/html": [
       "<pre style=\"white-space:pre;overflow-x:auto;line-height:normal;font-family:Menlo,'DejaVu Sans Mono',consolas,'Courier New',monospace\">Eval num_timesteps=651600, episode_reward=130.15 +/- 79.32\n",
       "</pre>\n"
      ],
      "text/plain": [
       "Eval num_timesteps=651600, episode_reward=130.15 +/- 79.32\n"
      ]
     },
     "metadata": {},
     "output_type": "display_data"
    },
    {
     "data": {
      "text/html": [
       "<pre style=\"white-space:pre;overflow-x:auto;line-height:normal;font-family:Menlo,'DejaVu Sans Mono',consolas,'Courier New',monospace\">Episode length: 991.00 +/- 0.00\n",
       "</pre>\n"
      ],
      "text/plain": [
       "Episode length: 991.00 +/- 0.00\n"
      ]
     },
     "metadata": {},
     "output_type": "display_data"
    },
    {
     "data": {
      "text/html": [
       "<pre style=\"white-space:pre;overflow-x:auto;line-height:normal;font-family:Menlo,'DejaVu Sans Mono',consolas,'Courier New',monospace\">Eval num_timesteps=661600, episode_reward=108.20 +/- 49.12\n",
       "</pre>\n"
      ],
      "text/plain": [
       "Eval num_timesteps=661600, episode_reward=108.20 +/- 49.12\n"
      ]
     },
     "metadata": {},
     "output_type": "display_data"
    },
    {
     "data": {
      "text/html": [
       "<pre style=\"white-space:pre;overflow-x:auto;line-height:normal;font-family:Menlo,'DejaVu Sans Mono',consolas,'Courier New',monospace\">Episode length: 991.00 +/- 0.00\n",
       "</pre>\n"
      ],
      "text/plain": [
       "Episode length: 991.00 +/- 0.00\n"
      ]
     },
     "metadata": {},
     "output_type": "display_data"
    },
    {
     "data": {
      "text/html": [
       "<pre style=\"white-space:pre;overflow-x:auto;line-height:normal;font-family:Menlo,'DejaVu Sans Mono',consolas,'Courier New',monospace\">Eval num_timesteps=671600, episode_reward=142.54 +/- 121.51\n",
       "</pre>\n"
      ],
      "text/plain": [
       "Eval num_timesteps=671600, episode_reward=142.54 +/- 121.51\n"
      ]
     },
     "metadata": {},
     "output_type": "display_data"
    },
    {
     "data": {
      "text/html": [
       "<pre style=\"white-space:pre;overflow-x:auto;line-height:normal;font-family:Menlo,'DejaVu Sans Mono',consolas,'Courier New',monospace\">Episode length: 991.00 +/- 0.00\n",
       "</pre>\n"
      ],
      "text/plain": [
       "Episode length: 991.00 +/- 0.00\n"
      ]
     },
     "metadata": {},
     "output_type": "display_data"
    },
    {
     "data": {
      "text/html": [
       "<pre style=\"white-space:pre;overflow-x:auto;line-height:normal;font-family:Menlo,'DejaVu Sans Mono',consolas,'Courier New',monospace\">Eval num_timesteps=681600, episode_reward=68.37 +/- 30.40\n",
       "</pre>\n"
      ],
      "text/plain": [
       "Eval num_timesteps=681600, episode_reward=68.37 +/- 30.40\n"
      ]
     },
     "metadata": {},
     "output_type": "display_data"
    },
    {
     "data": {
      "text/html": [
       "<pre style=\"white-space:pre;overflow-x:auto;line-height:normal;font-family:Menlo,'DejaVu Sans Mono',consolas,'Courier New',monospace\">Episode length: 991.00 +/- 0.00\n",
       "</pre>\n"
      ],
      "text/plain": [
       "Episode length: 991.00 +/- 0.00\n"
      ]
     },
     "metadata": {},
     "output_type": "display_data"
    },
    {
     "data": {
      "text/html": [
       "<pre style=\"white-space:pre;overflow-x:auto;line-height:normal;font-family:Menlo,'DejaVu Sans Mono',consolas,'Courier New',monospace\">Eval num_timesteps=691600, episode_reward=74.05 +/- 24.34\n",
       "</pre>\n"
      ],
      "text/plain": [
       "Eval num_timesteps=691600, episode_reward=74.05 +/- 24.34\n"
      ]
     },
     "metadata": {},
     "output_type": "display_data"
    },
    {
     "data": {
      "text/html": [
       "<pre style=\"white-space:pre;overflow-x:auto;line-height:normal;font-family:Menlo,'DejaVu Sans Mono',consolas,'Courier New',monospace\">Episode length: 991.00 +/- 0.00\n",
       "</pre>\n"
      ],
      "text/plain": [
       "Episode length: 991.00 +/- 0.00\n"
      ]
     },
     "metadata": {},
     "output_type": "display_data"
    },
    {
     "data": {
      "text/html": [
       "<pre style=\"white-space:pre;overflow-x:auto;line-height:normal;font-family:Menlo,'DejaVu Sans Mono',consolas,'Courier New',monospace\">Eval num_timesteps=701600, episode_reward=84.14 +/- 60.31\n",
       "</pre>\n"
      ],
      "text/plain": [
       "Eval num_timesteps=701600, episode_reward=84.14 +/- 60.31\n"
      ]
     },
     "metadata": {},
     "output_type": "display_data"
    },
    {
     "data": {
      "text/html": [
       "<pre style=\"white-space:pre;overflow-x:auto;line-height:normal;font-family:Menlo,'DejaVu Sans Mono',consolas,'Courier New',monospace\">Episode length: 991.00 +/- 0.00\n",
       "</pre>\n"
      ],
      "text/plain": [
       "Episode length: 991.00 +/- 0.00\n"
      ]
     },
     "metadata": {},
     "output_type": "display_data"
    },
    {
     "data": {
      "text/html": [
       "<pre style=\"white-space:pre;overflow-x:auto;line-height:normal;font-family:Menlo,'DejaVu Sans Mono',consolas,'Courier New',monospace\">Saving model at step 600000 to ./ppo_spidy_v4_1/model/ppo_spidy_v4_1\n",
       "</pre>\n"
      ],
      "text/plain": [
       "Saving model at step 600000 to ./ppo_spidy_v4_1/model/ppo_spidy_v4_1\n"
      ]
     },
     "metadata": {},
     "output_type": "display_data"
    },
    {
     "data": {
      "text/html": [
       "<pre style=\"white-space:pre;overflow-x:auto;line-height:normal;font-family:Menlo,'DejaVu Sans Mono',consolas,'Courier New',monospace\">Eval num_timesteps=711600, episode_reward=132.39 +/- 72.42\n",
       "</pre>\n"
      ],
      "text/plain": [
       "Eval num_timesteps=711600, episode_reward=132.39 +/- 72.42\n"
      ]
     },
     "metadata": {},
     "output_type": "display_data"
    },
    {
     "data": {
      "text/html": [
       "<pre style=\"white-space:pre;overflow-x:auto;line-height:normal;font-family:Menlo,'DejaVu Sans Mono',consolas,'Courier New',monospace\">Episode length: 991.00 +/- 0.00\n",
       "</pre>\n"
      ],
      "text/plain": [
       "Episode length: 991.00 +/- 0.00\n"
      ]
     },
     "metadata": {},
     "output_type": "display_data"
    },
    {
     "data": {
      "text/html": [
       "<pre style=\"white-space:pre;overflow-x:auto;line-height:normal;font-family:Menlo,'DejaVu Sans Mono',consolas,'Courier New',monospace\">Eval num_timesteps=721600, episode_reward=84.66 +/- 17.68\n",
       "</pre>\n"
      ],
      "text/plain": [
       "Eval num_timesteps=721600, episode_reward=84.66 +/- 17.68\n"
      ]
     },
     "metadata": {},
     "output_type": "display_data"
    },
    {
     "data": {
      "text/html": [
       "<pre style=\"white-space:pre;overflow-x:auto;line-height:normal;font-family:Menlo,'DejaVu Sans Mono',consolas,'Courier New',monospace\">Episode length: 991.00 +/- 0.00\n",
       "</pre>\n"
      ],
      "text/plain": [
       "Episode length: 991.00 +/- 0.00\n"
      ]
     },
     "metadata": {},
     "output_type": "display_data"
    },
    {
     "data": {
      "text/html": [
       "<pre style=\"white-space:pre;overflow-x:auto;line-height:normal;font-family:Menlo,'DejaVu Sans Mono',consolas,'Courier New',monospace\">Eval num_timesteps=731600, episode_reward=95.29 +/- 47.16\n",
       "</pre>\n"
      ],
      "text/plain": [
       "Eval num_timesteps=731600, episode_reward=95.29 +/- 47.16\n"
      ]
     },
     "metadata": {},
     "output_type": "display_data"
    },
    {
     "data": {
      "text/html": [
       "<pre style=\"white-space:pre;overflow-x:auto;line-height:normal;font-family:Menlo,'DejaVu Sans Mono',consolas,'Courier New',monospace\">Episode length: 991.00 +/- 0.00\n",
       "</pre>\n"
      ],
      "text/plain": [
       "Episode length: 991.00 +/- 0.00\n"
      ]
     },
     "metadata": {},
     "output_type": "display_data"
    },
    {
     "data": {
      "text/html": [
       "<pre style=\"white-space:pre;overflow-x:auto;line-height:normal;font-family:Menlo,'DejaVu Sans Mono',consolas,'Courier New',monospace\">Eval num_timesteps=741600, episode_reward=98.13 +/- 31.76\n",
       "</pre>\n"
      ],
      "text/plain": [
       "Eval num_timesteps=741600, episode_reward=98.13 +/- 31.76\n"
      ]
     },
     "metadata": {},
     "output_type": "display_data"
    },
    {
     "data": {
      "text/html": [
       "<pre style=\"white-space:pre;overflow-x:auto;line-height:normal;font-family:Menlo,'DejaVu Sans Mono',consolas,'Courier New',monospace\">Episode length: 991.00 +/- 0.00\n",
       "</pre>\n"
      ],
      "text/plain": [
       "Episode length: 991.00 +/- 0.00\n"
      ]
     },
     "metadata": {},
     "output_type": "display_data"
    },
    {
     "data": {
      "text/html": [
       "<pre style=\"white-space:pre;overflow-x:auto;line-height:normal;font-family:Menlo,'DejaVu Sans Mono',consolas,'Courier New',monospace\">Eval num_timesteps=751600, episode_reward=124.24 +/- 93.01\n",
       "</pre>\n"
      ],
      "text/plain": [
       "Eval num_timesteps=751600, episode_reward=124.24 +/- 93.01\n"
      ]
     },
     "metadata": {},
     "output_type": "display_data"
    },
    {
     "data": {
      "text/html": [
       "<pre style=\"white-space:pre;overflow-x:auto;line-height:normal;font-family:Menlo,'DejaVu Sans Mono',consolas,'Courier New',monospace\">Episode length: 991.00 +/- 0.00\n",
       "</pre>\n"
      ],
      "text/plain": [
       "Episode length: 991.00 +/- 0.00\n"
      ]
     },
     "metadata": {},
     "output_type": "display_data"
    },
    {
     "data": {
      "text/html": [
       "<pre style=\"white-space:pre;overflow-x:auto;line-height:normal;font-family:Menlo,'DejaVu Sans Mono',consolas,'Courier New',monospace\">Eval num_timesteps=761600, episode_reward=92.67 +/- 13.73\n",
       "</pre>\n"
      ],
      "text/plain": [
       "Eval num_timesteps=761600, episode_reward=92.67 +/- 13.73\n"
      ]
     },
     "metadata": {},
     "output_type": "display_data"
    },
    {
     "data": {
      "text/html": [
       "<pre style=\"white-space:pre;overflow-x:auto;line-height:normal;font-family:Menlo,'DejaVu Sans Mono',consolas,'Courier New',monospace\">Episode length: 991.00 +/- 0.00\n",
       "</pre>\n"
      ],
      "text/plain": [
       "Episode length: 991.00 +/- 0.00\n"
      ]
     },
     "metadata": {},
     "output_type": "display_data"
    },
    {
     "data": {
      "text/html": [
       "<pre style=\"white-space:pre;overflow-x:auto;line-height:normal;font-family:Menlo,'DejaVu Sans Mono',consolas,'Courier New',monospace\">Eval num_timesteps=771600, episode_reward=100.44 +/- 28.91\n",
       "</pre>\n"
      ],
      "text/plain": [
       "Eval num_timesteps=771600, episode_reward=100.44 +/- 28.91\n"
      ]
     },
     "metadata": {},
     "output_type": "display_data"
    },
    {
     "data": {
      "text/html": [
       "<pre style=\"white-space:pre;overflow-x:auto;line-height:normal;font-family:Menlo,'DejaVu Sans Mono',consolas,'Courier New',monospace\">Episode length: 991.00 +/- 0.00\n",
       "</pre>\n"
      ],
      "text/plain": [
       "Episode length: 991.00 +/- 0.00\n"
      ]
     },
     "metadata": {},
     "output_type": "display_data"
    },
    {
     "data": {
      "text/html": [
       "<pre style=\"white-space:pre;overflow-x:auto;line-height:normal;font-family:Menlo,'DejaVu Sans Mono',consolas,'Courier New',monospace\">Eval num_timesteps=781600, episode_reward=34.41 +/- 8.03\n",
       "</pre>\n"
      ],
      "text/plain": [
       "Eval num_timesteps=781600, episode_reward=34.41 +/- 8.03\n"
      ]
     },
     "metadata": {},
     "output_type": "display_data"
    },
    {
     "data": {
      "text/html": [
       "<pre style=\"white-space:pre;overflow-x:auto;line-height:normal;font-family:Menlo,'DejaVu Sans Mono',consolas,'Courier New',monospace\">Episode length: 991.00 +/- 0.00\n",
       "</pre>\n"
      ],
      "text/plain": [
       "Episode length: 991.00 +/- 0.00\n"
      ]
     },
     "metadata": {},
     "output_type": "display_data"
    },
    {
     "data": {
      "text/html": [
       "<pre style=\"white-space:pre;overflow-x:auto;line-height:normal;font-family:Menlo,'DejaVu Sans Mono',consolas,'Courier New',monospace\">Eval num_timesteps=791600, episode_reward=62.40 +/- 37.63\n",
       "</pre>\n"
      ],
      "text/plain": [
       "Eval num_timesteps=791600, episode_reward=62.40 +/- 37.63\n"
      ]
     },
     "metadata": {},
     "output_type": "display_data"
    },
    {
     "data": {
      "text/html": [
       "<pre style=\"white-space:pre;overflow-x:auto;line-height:normal;font-family:Menlo,'DejaVu Sans Mono',consolas,'Courier New',monospace\">Episode length: 991.00 +/- 0.00\n",
       "</pre>\n"
      ],
      "text/plain": [
       "Episode length: 991.00 +/- 0.00\n"
      ]
     },
     "metadata": {},
     "output_type": "display_data"
    },
    {
     "data": {
      "text/html": [
       "<pre style=\"white-space:pre;overflow-x:auto;line-height:normal;font-family:Menlo,'DejaVu Sans Mono',consolas,'Courier New',monospace\">Eval num_timesteps=801600, episode_reward=63.67 +/- 42.02\n",
       "</pre>\n"
      ],
      "text/plain": [
       "Eval num_timesteps=801600, episode_reward=63.67 +/- 42.02\n"
      ]
     },
     "metadata": {},
     "output_type": "display_data"
    },
    {
     "data": {
      "text/html": [
       "<pre style=\"white-space:pre;overflow-x:auto;line-height:normal;font-family:Menlo,'DejaVu Sans Mono',consolas,'Courier New',monospace\">Episode length: 991.00 +/- 0.00\n",
       "</pre>\n"
      ],
      "text/plain": [
       "Episode length: 991.00 +/- 0.00\n"
      ]
     },
     "metadata": {},
     "output_type": "display_data"
    },
    {
     "data": {
      "text/html": [
       "<pre style=\"white-space:pre;overflow-x:auto;line-height:normal;font-family:Menlo,'DejaVu Sans Mono',consolas,'Courier New',monospace\">Saving model at step 700000 to ./ppo_spidy_v4_1/model/ppo_spidy_v4_1\n",
       "</pre>\n"
      ],
      "text/plain": [
       "Saving model at step 700000 to ./ppo_spidy_v4_1/model/ppo_spidy_v4_1\n"
      ]
     },
     "metadata": {},
     "output_type": "display_data"
    },
    {
     "data": {
      "text/html": [
       "<pre style=\"white-space:pre;overflow-x:auto;line-height:normal;font-family:Menlo,'DejaVu Sans Mono',consolas,'Courier New',monospace\">Eval num_timesteps=811600, episode_reward=56.61 +/- 30.78\n",
       "</pre>\n"
      ],
      "text/plain": [
       "Eval num_timesteps=811600, episode_reward=56.61 +/- 30.78\n"
      ]
     },
     "metadata": {},
     "output_type": "display_data"
    },
    {
     "data": {
      "text/html": [
       "<pre style=\"white-space:pre;overflow-x:auto;line-height:normal;font-family:Menlo,'DejaVu Sans Mono',consolas,'Courier New',monospace\">Episode length: 991.00 +/- 0.00\n",
       "</pre>\n"
      ],
      "text/plain": [
       "Episode length: 991.00 +/- 0.00\n"
      ]
     },
     "metadata": {},
     "output_type": "display_data"
    },
    {
     "data": {
      "text/html": [
       "<pre style=\"white-space:pre;overflow-x:auto;line-height:normal;font-family:Menlo,'DejaVu Sans Mono',consolas,'Courier New',monospace\">Eval num_timesteps=821600, episode_reward=110.13 +/- 55.80\n",
       "</pre>\n"
      ],
      "text/plain": [
       "Eval num_timesteps=821600, episode_reward=110.13 +/- 55.80\n"
      ]
     },
     "metadata": {},
     "output_type": "display_data"
    },
    {
     "data": {
      "text/html": [
       "<pre style=\"white-space:pre;overflow-x:auto;line-height:normal;font-family:Menlo,'DejaVu Sans Mono',consolas,'Courier New',monospace\">Episode length: 991.00 +/- 0.00\n",
       "</pre>\n"
      ],
      "text/plain": [
       "Episode length: 991.00 +/- 0.00\n"
      ]
     },
     "metadata": {},
     "output_type": "display_data"
    },
    {
     "data": {
      "text/html": [
       "<pre style=\"white-space:pre;overflow-x:auto;line-height:normal;font-family:Menlo,'DejaVu Sans Mono',consolas,'Courier New',monospace\">Eval num_timesteps=831600, episode_reward=123.65 +/- 36.80\n",
       "</pre>\n"
      ],
      "text/plain": [
       "Eval num_timesteps=831600, episode_reward=123.65 +/- 36.80\n"
      ]
     },
     "metadata": {},
     "output_type": "display_data"
    },
    {
     "data": {
      "text/html": [
       "<pre style=\"white-space:pre;overflow-x:auto;line-height:normal;font-family:Menlo,'DejaVu Sans Mono',consolas,'Courier New',monospace\">Episode length: 991.00 +/- 0.00\n",
       "</pre>\n"
      ],
      "text/plain": [
       "Episode length: 991.00 +/- 0.00\n"
      ]
     },
     "metadata": {},
     "output_type": "display_data"
    },
    {
     "data": {
      "text/html": [
       "<pre style=\"white-space:pre;overflow-x:auto;line-height:normal;font-family:Menlo,'DejaVu Sans Mono',consolas,'Courier New',monospace\">Eval num_timesteps=841600, episode_reward=40.18 +/- 14.89\n",
       "</pre>\n"
      ],
      "text/plain": [
       "Eval num_timesteps=841600, episode_reward=40.18 +/- 14.89\n"
      ]
     },
     "metadata": {},
     "output_type": "display_data"
    },
    {
     "data": {
      "text/html": [
       "<pre style=\"white-space:pre;overflow-x:auto;line-height:normal;font-family:Menlo,'DejaVu Sans Mono',consolas,'Courier New',monospace\">Episode length: 991.00 +/- 0.00\n",
       "</pre>\n"
      ],
      "text/plain": [
       "Episode length: 991.00 +/- 0.00\n"
      ]
     },
     "metadata": {},
     "output_type": "display_data"
    },
    {
     "data": {
      "text/html": [
       "<pre style=\"white-space:pre;overflow-x:auto;line-height:normal;font-family:Menlo,'DejaVu Sans Mono',consolas,'Courier New',monospace\">Eval num_timesteps=851600, episode_reward=65.00 +/- 11.22\n",
       "</pre>\n"
      ],
      "text/plain": [
       "Eval num_timesteps=851600, episode_reward=65.00 +/- 11.22\n"
      ]
     },
     "metadata": {},
     "output_type": "display_data"
    },
    {
     "data": {
      "text/html": [
       "<pre style=\"white-space:pre;overflow-x:auto;line-height:normal;font-family:Menlo,'DejaVu Sans Mono',consolas,'Courier New',monospace\">Episode length: 991.00 +/- 0.00\n",
       "</pre>\n"
      ],
      "text/plain": [
       "Episode length: 991.00 +/- 0.00\n"
      ]
     },
     "metadata": {},
     "output_type": "display_data"
    },
    {
     "data": {
      "text/html": [
       "<pre style=\"white-space:pre;overflow-x:auto;line-height:normal;font-family:Menlo,'DejaVu Sans Mono',consolas,'Courier New',monospace\">Eval num_timesteps=861600, episode_reward=211.99 +/- 82.16\n",
       "</pre>\n"
      ],
      "text/plain": [
       "Eval num_timesteps=861600, episode_reward=211.99 +/- 82.16\n"
      ]
     },
     "metadata": {},
     "output_type": "display_data"
    },
    {
     "data": {
      "text/html": [
       "<pre style=\"white-space:pre;overflow-x:auto;line-height:normal;font-family:Menlo,'DejaVu Sans Mono',consolas,'Courier New',monospace\">Episode length: 991.00 +/- 0.00\n",
       "</pre>\n"
      ],
      "text/plain": [
       "Episode length: 991.00 +/- 0.00\n"
      ]
     },
     "metadata": {},
     "output_type": "display_data"
    },
    {
     "data": {
      "text/html": [
       "<pre style=\"white-space:pre;overflow-x:auto;line-height:normal;font-family:Menlo,'DejaVu Sans Mono',consolas,'Courier New',monospace\">Eval num_timesteps=871600, episode_reward=84.07 +/- 10.60\n",
       "</pre>\n"
      ],
      "text/plain": [
       "Eval num_timesteps=871600, episode_reward=84.07 +/- 10.60\n"
      ]
     },
     "metadata": {},
     "output_type": "display_data"
    },
    {
     "data": {
      "text/html": [
       "<pre style=\"white-space:pre;overflow-x:auto;line-height:normal;font-family:Menlo,'DejaVu Sans Mono',consolas,'Courier New',monospace\">Episode length: 991.00 +/- 0.00\n",
       "</pre>\n"
      ],
      "text/plain": [
       "Episode length: 991.00 +/- 0.00\n"
      ]
     },
     "metadata": {},
     "output_type": "display_data"
    },
    {
     "data": {
      "text/html": [
       "<pre style=\"white-space:pre;overflow-x:auto;line-height:normal;font-family:Menlo,'DejaVu Sans Mono',consolas,'Courier New',monospace\">Eval num_timesteps=881600, episode_reward=48.13 +/- 21.02\n",
       "</pre>\n"
      ],
      "text/plain": [
       "Eval num_timesteps=881600, episode_reward=48.13 +/- 21.02\n"
      ]
     },
     "metadata": {},
     "output_type": "display_data"
    },
    {
     "data": {
      "text/html": [
       "<pre style=\"white-space:pre;overflow-x:auto;line-height:normal;font-family:Menlo,'DejaVu Sans Mono',consolas,'Courier New',monospace\">Episode length: 991.00 +/- 0.00\n",
       "</pre>\n"
      ],
      "text/plain": [
       "Episode length: 991.00 +/- 0.00\n"
      ]
     },
     "metadata": {},
     "output_type": "display_data"
    },
    {
     "data": {
      "text/html": [
       "<pre style=\"white-space:pre;overflow-x:auto;line-height:normal;font-family:Menlo,'DejaVu Sans Mono',consolas,'Courier New',monospace\">Eval num_timesteps=891600, episode_reward=44.33 +/- 30.73\n",
       "</pre>\n"
      ],
      "text/plain": [
       "Eval num_timesteps=891600, episode_reward=44.33 +/- 30.73\n"
      ]
     },
     "metadata": {},
     "output_type": "display_data"
    },
    {
     "data": {
      "text/html": [
       "<pre style=\"white-space:pre;overflow-x:auto;line-height:normal;font-family:Menlo,'DejaVu Sans Mono',consolas,'Courier New',monospace\">Episode length: 991.00 +/- 0.00\n",
       "</pre>\n"
      ],
      "text/plain": [
       "Episode length: 991.00 +/- 0.00\n"
      ]
     },
     "metadata": {},
     "output_type": "display_data"
    },
    {
     "data": {
      "text/html": [
       "<pre style=\"white-space:pre;overflow-x:auto;line-height:normal;font-family:Menlo,'DejaVu Sans Mono',consolas,'Courier New',monospace\">Eval num_timesteps=901600, episode_reward=29.96 +/- 14.26\n",
       "</pre>\n"
      ],
      "text/plain": [
       "Eval num_timesteps=901600, episode_reward=29.96 +/- 14.26\n"
      ]
     },
     "metadata": {},
     "output_type": "display_data"
    },
    {
     "data": {
      "text/html": [
       "<pre style=\"white-space:pre;overflow-x:auto;line-height:normal;font-family:Menlo,'DejaVu Sans Mono',consolas,'Courier New',monospace\">Episode length: 991.00 +/- 0.00\n",
       "</pre>\n"
      ],
      "text/plain": [
       "Episode length: 991.00 +/- 0.00\n"
      ]
     },
     "metadata": {},
     "output_type": "display_data"
    },
    {
     "data": {
      "text/html": [
       "<pre style=\"white-space:pre;overflow-x:auto;line-height:normal;font-family:Menlo,'DejaVu Sans Mono',consolas,'Courier New',monospace\">Saving model at step 800000 to ./ppo_spidy_v4_1/model/ppo_spidy_v4_1\n",
       "</pre>\n"
      ],
      "text/plain": [
       "Saving model at step 800000 to ./ppo_spidy_v4_1/model/ppo_spidy_v4_1\n"
      ]
     },
     "metadata": {},
     "output_type": "display_data"
    },
    {
     "data": {
      "text/html": [
       "<pre style=\"white-space:pre;overflow-x:auto;line-height:normal;font-family:Menlo,'DejaVu Sans Mono',consolas,'Courier New',monospace\">Eval num_timesteps=911600, episode_reward=94.42 +/- 39.26\n",
       "</pre>\n"
      ],
      "text/plain": [
       "Eval num_timesteps=911600, episode_reward=94.42 +/- 39.26\n"
      ]
     },
     "metadata": {},
     "output_type": "display_data"
    },
    {
     "data": {
      "text/html": [
       "<pre style=\"white-space:pre;overflow-x:auto;line-height:normal;font-family:Menlo,'DejaVu Sans Mono',consolas,'Courier New',monospace\">Episode length: 991.00 +/- 0.00\n",
       "</pre>\n"
      ],
      "text/plain": [
       "Episode length: 991.00 +/- 0.00\n"
      ]
     },
     "metadata": {},
     "output_type": "display_data"
    },
    {
     "data": {
      "text/html": [
       "<pre style=\"white-space:pre;overflow-x:auto;line-height:normal;font-family:Menlo,'DejaVu Sans Mono',consolas,'Courier New',monospace\">Eval num_timesteps=921600, episode_reward=60.97 +/- 51.91\n",
       "</pre>\n"
      ],
      "text/plain": [
       "Eval num_timesteps=921600, episode_reward=60.97 +/- 51.91\n"
      ]
     },
     "metadata": {},
     "output_type": "display_data"
    },
    {
     "data": {
      "text/html": [
       "<pre style=\"white-space:pre;overflow-x:auto;line-height:normal;font-family:Menlo,'DejaVu Sans Mono',consolas,'Courier New',monospace\">Episode length: 991.00 +/- 0.00\n",
       "</pre>\n"
      ],
      "text/plain": [
       "Episode length: 991.00 +/- 0.00\n"
      ]
     },
     "metadata": {},
     "output_type": "display_data"
    },
    {
     "data": {
      "text/html": [
       "<pre style=\"white-space:pre;overflow-x:auto;line-height:normal;font-family:Menlo,'DejaVu Sans Mono',consolas,'Courier New',monospace\">Eval num_timesteps=931600, episode_reward=94.18 +/- 26.82\n",
       "</pre>\n"
      ],
      "text/plain": [
       "Eval num_timesteps=931600, episode_reward=94.18 +/- 26.82\n"
      ]
     },
     "metadata": {},
     "output_type": "display_data"
    },
    {
     "data": {
      "text/html": [
       "<pre style=\"white-space:pre;overflow-x:auto;line-height:normal;font-family:Menlo,'DejaVu Sans Mono',consolas,'Courier New',monospace\">Episode length: 991.00 +/- 0.00\n",
       "</pre>\n"
      ],
      "text/plain": [
       "Episode length: 991.00 +/- 0.00\n"
      ]
     },
     "metadata": {},
     "output_type": "display_data"
    },
    {
     "data": {
      "text/html": [
       "<pre style=\"white-space:pre;overflow-x:auto;line-height:normal;font-family:Menlo,'DejaVu Sans Mono',consolas,'Courier New',monospace\">Eval num_timesteps=941600, episode_reward=86.33 +/- 14.77\n",
       "</pre>\n"
      ],
      "text/plain": [
       "Eval num_timesteps=941600, episode_reward=86.33 +/- 14.77\n"
      ]
     },
     "metadata": {},
     "output_type": "display_data"
    },
    {
     "data": {
      "text/html": [
       "<pre style=\"white-space:pre;overflow-x:auto;line-height:normal;font-family:Menlo,'DejaVu Sans Mono',consolas,'Courier New',monospace\">Episode length: 991.00 +/- 0.00\n",
       "</pre>\n"
      ],
      "text/plain": [
       "Episode length: 991.00 +/- 0.00\n"
      ]
     },
     "metadata": {},
     "output_type": "display_data"
    },
    {
     "data": {
      "text/html": [
       "<pre style=\"white-space:pre;overflow-x:auto;line-height:normal;font-family:Menlo,'DejaVu Sans Mono',consolas,'Courier New',monospace\">Eval num_timesteps=951600, episode_reward=170.81 +/- 67.63\n",
       "</pre>\n"
      ],
      "text/plain": [
       "Eval num_timesteps=951600, episode_reward=170.81 +/- 67.63\n"
      ]
     },
     "metadata": {},
     "output_type": "display_data"
    },
    {
     "data": {
      "text/html": [
       "<pre style=\"white-space:pre;overflow-x:auto;line-height:normal;font-family:Menlo,'DejaVu Sans Mono',consolas,'Courier New',monospace\">Episode length: 991.00 +/- 0.00\n",
       "</pre>\n"
      ],
      "text/plain": [
       "Episode length: 991.00 +/- 0.00\n"
      ]
     },
     "metadata": {},
     "output_type": "display_data"
    },
    {
     "data": {
      "text/html": [
       "<pre style=\"white-space:pre;overflow-x:auto;line-height:normal;font-family:Menlo,'DejaVu Sans Mono',consolas,'Courier New',monospace\">Eval num_timesteps=961600, episode_reward=129.90 +/- 41.81\n",
       "</pre>\n"
      ],
      "text/plain": [
       "Eval num_timesteps=961600, episode_reward=129.90 +/- 41.81\n"
      ]
     },
     "metadata": {},
     "output_type": "display_data"
    },
    {
     "data": {
      "text/html": [
       "<pre style=\"white-space:pre;overflow-x:auto;line-height:normal;font-family:Menlo,'DejaVu Sans Mono',consolas,'Courier New',monospace\">Episode length: 991.00 +/- 0.00\n",
       "</pre>\n"
      ],
      "text/plain": [
       "Episode length: 991.00 +/- 0.00\n"
      ]
     },
     "metadata": {},
     "output_type": "display_data"
    },
    {
     "data": {
      "text/html": [
       "<pre style=\"white-space:pre;overflow-x:auto;line-height:normal;font-family:Menlo,'DejaVu Sans Mono',consolas,'Courier New',monospace\">Eval num_timesteps=971600, episode_reward=80.05 +/- 29.51\n",
       "</pre>\n"
      ],
      "text/plain": [
       "Eval num_timesteps=971600, episode_reward=80.05 +/- 29.51\n"
      ]
     },
     "metadata": {},
     "output_type": "display_data"
    },
    {
     "data": {
      "text/html": [
       "<pre style=\"white-space:pre;overflow-x:auto;line-height:normal;font-family:Menlo,'DejaVu Sans Mono',consolas,'Courier New',monospace\">Episode length: 991.00 +/- 0.00\n",
       "</pre>\n"
      ],
      "text/plain": [
       "Episode length: 991.00 +/- 0.00\n"
      ]
     },
     "metadata": {},
     "output_type": "display_data"
    },
    {
     "data": {
      "text/html": [
       "<pre style=\"white-space:pre;overflow-x:auto;line-height:normal;font-family:Menlo,'DejaVu Sans Mono',consolas,'Courier New',monospace\">Eval num_timesteps=981600, episode_reward=80.45 +/- 16.04\n",
       "</pre>\n"
      ],
      "text/plain": [
       "Eval num_timesteps=981600, episode_reward=80.45 +/- 16.04\n"
      ]
     },
     "metadata": {},
     "output_type": "display_data"
    },
    {
     "data": {
      "text/html": [
       "<pre style=\"white-space:pre;overflow-x:auto;line-height:normal;font-family:Menlo,'DejaVu Sans Mono',consolas,'Courier New',monospace\">Episode length: 991.00 +/- 0.00\n",
       "</pre>\n"
      ],
      "text/plain": [
       "Episode length: 991.00 +/- 0.00\n"
      ]
     },
     "metadata": {},
     "output_type": "display_data"
    },
    {
     "data": {
      "text/html": [
       "<pre style=\"white-space:pre;overflow-x:auto;line-height:normal;font-family:Menlo,'DejaVu Sans Mono',consolas,'Courier New',monospace\">Eval num_timesteps=991600, episode_reward=118.38 +/- 36.96\n",
       "</pre>\n"
      ],
      "text/plain": [
       "Eval num_timesteps=991600, episode_reward=118.38 +/- 36.96\n"
      ]
     },
     "metadata": {},
     "output_type": "display_data"
    },
    {
     "data": {
      "text/html": [
       "<pre style=\"white-space:pre;overflow-x:auto;line-height:normal;font-family:Menlo,'DejaVu Sans Mono',consolas,'Courier New',monospace\">Episode length: 991.00 +/- 0.00\n",
       "</pre>\n"
      ],
      "text/plain": [
       "Episode length: 991.00 +/- 0.00\n"
      ]
     },
     "metadata": {},
     "output_type": "display_data"
    },
    {
     "data": {
      "text/html": [
       "<pre style=\"white-space:pre;overflow-x:auto;line-height:normal;font-family:Menlo,'DejaVu Sans Mono',consolas,'Courier New',monospace\">Eval num_timesteps=1001600, episode_reward=151.86 +/- 96.48\n",
       "</pre>\n"
      ],
      "text/plain": [
       "Eval num_timesteps=1001600, episode_reward=151.86 +/- 96.48\n"
      ]
     },
     "metadata": {},
     "output_type": "display_data"
    },
    {
     "data": {
      "text/html": [
       "<pre style=\"white-space:pre;overflow-x:auto;line-height:normal;font-family:Menlo,'DejaVu Sans Mono',consolas,'Courier New',monospace\">Episode length: 991.00 +/- 0.00\n",
       "</pre>\n"
      ],
      "text/plain": [
       "Episode length: 991.00 +/- 0.00\n"
      ]
     },
     "metadata": {},
     "output_type": "display_data"
    },
    {
     "data": {
      "text/html": [
       "<pre style=\"white-space:pre;overflow-x:auto;line-height:normal;font-family:Menlo,'DejaVu Sans Mono',consolas,'Courier New',monospace\">Saving model at step 900000 to ./ppo_spidy_v4_1/model/ppo_spidy_v4_1\n",
       "</pre>\n"
      ],
      "text/plain": [
       "Saving model at step 900000 to ./ppo_spidy_v4_1/model/ppo_spidy_v4_1\n"
      ]
     },
     "metadata": {},
     "output_type": "display_data"
    },
    {
     "data": {
      "text/html": [
       "<pre style=\"white-space:pre;overflow-x:auto;line-height:normal;font-family:Menlo,'DejaVu Sans Mono',consolas,'Courier New',monospace\">Eval num_timesteps=1011600, episode_reward=136.37 +/- 79.55\n",
       "</pre>\n"
      ],
      "text/plain": [
       "Eval num_timesteps=1011600, episode_reward=136.37 +/- 79.55\n"
      ]
     },
     "metadata": {},
     "output_type": "display_data"
    },
    {
     "data": {
      "text/html": [
       "<pre style=\"white-space:pre;overflow-x:auto;line-height:normal;font-family:Menlo,'DejaVu Sans Mono',consolas,'Courier New',monospace\">Episode length: 991.00 +/- 0.00\n",
       "</pre>\n"
      ],
      "text/plain": [
       "Episode length: 991.00 +/- 0.00\n"
      ]
     },
     "metadata": {},
     "output_type": "display_data"
    },
    {
     "data": {
      "text/html": [
       "<pre style=\"white-space:pre;overflow-x:auto;line-height:normal;font-family:Menlo,'DejaVu Sans Mono',consolas,'Courier New',monospace\">Eval num_timesteps=1021600, episode_reward=64.27 +/- 46.79\n",
       "</pre>\n"
      ],
      "text/plain": [
       "Eval num_timesteps=1021600, episode_reward=64.27 +/- 46.79\n"
      ]
     },
     "metadata": {},
     "output_type": "display_data"
    },
    {
     "data": {
      "text/html": [
       "<pre style=\"white-space:pre;overflow-x:auto;line-height:normal;font-family:Menlo,'DejaVu Sans Mono',consolas,'Courier New',monospace\">Episode length: 991.00 +/- 0.00\n",
       "</pre>\n"
      ],
      "text/plain": [
       "Episode length: 991.00 +/- 0.00\n"
      ]
     },
     "metadata": {},
     "output_type": "display_data"
    },
    {
     "data": {
      "text/html": [
       "<pre style=\"white-space:pre;overflow-x:auto;line-height:normal;font-family:Menlo,'DejaVu Sans Mono',consolas,'Courier New',monospace\">Eval num_timesteps=1031600, episode_reward=138.12 +/- 36.82\n",
       "</pre>\n"
      ],
      "text/plain": [
       "Eval num_timesteps=1031600, episode_reward=138.12 +/- 36.82\n"
      ]
     },
     "metadata": {},
     "output_type": "display_data"
    },
    {
     "data": {
      "text/html": [
       "<pre style=\"white-space:pre;overflow-x:auto;line-height:normal;font-family:Menlo,'DejaVu Sans Mono',consolas,'Courier New',monospace\">Episode length: 991.00 +/- 0.00\n",
       "</pre>\n"
      ],
      "text/plain": [
       "Episode length: 991.00 +/- 0.00\n"
      ]
     },
     "metadata": {},
     "output_type": "display_data"
    },
    {
     "data": {
      "text/html": [
       "<pre style=\"white-space:pre;overflow-x:auto;line-height:normal;font-family:Menlo,'DejaVu Sans Mono',consolas,'Courier New',monospace\">Eval num_timesteps=1041600, episode_reward=134.35 +/- 83.13\n",
       "</pre>\n"
      ],
      "text/plain": [
       "Eval num_timesteps=1041600, episode_reward=134.35 +/- 83.13\n"
      ]
     },
     "metadata": {},
     "output_type": "display_data"
    },
    {
     "data": {
      "text/html": [
       "<pre style=\"white-space:pre;overflow-x:auto;line-height:normal;font-family:Menlo,'DejaVu Sans Mono',consolas,'Courier New',monospace\">Episode length: 991.00 +/- 0.00\n",
       "</pre>\n"
      ],
      "text/plain": [
       "Episode length: 991.00 +/- 0.00\n"
      ]
     },
     "metadata": {},
     "output_type": "display_data"
    },
    {
     "data": {
      "text/html": [
       "<pre style=\"white-space:pre;overflow-x:auto;line-height:normal;font-family:Menlo,'DejaVu Sans Mono',consolas,'Courier New',monospace\">Eval num_timesteps=1051600, episode_reward=100.20 +/- 42.50\n",
       "</pre>\n"
      ],
      "text/plain": [
       "Eval num_timesteps=1051600, episode_reward=100.20 +/- 42.50\n"
      ]
     },
     "metadata": {},
     "output_type": "display_data"
    },
    {
     "data": {
      "text/html": [
       "<pre style=\"white-space:pre;overflow-x:auto;line-height:normal;font-family:Menlo,'DejaVu Sans Mono',consolas,'Courier New',monospace\">Eval num_timesteps=1061600, episode_reward=80.84 +/- 16.98\n",
       "</pre>\n"
      ],
      "text/plain": [
       "Eval num_timesteps=1061600, episode_reward=80.84 +/- 16.98\n"
      ]
     },
     "metadata": {},
     "output_type": "display_data"
    },
    {
     "data": {
      "text/html": [
       "<pre style=\"white-space:pre;overflow-x:auto;line-height:normal;font-family:Menlo,'DejaVu Sans Mono',consolas,'Courier New',monospace\">Episode length: 991.00 +/- 0.00\n",
       "</pre>\n"
      ],
      "text/plain": [
       "Episode length: 991.00 +/- 0.00\n"
      ]
     },
     "metadata": {},
     "output_type": "display_data"
    },
    {
     "data": {
      "text/html": [
       "<pre style=\"white-space:pre;overflow-x:auto;line-height:normal;font-family:Menlo,'DejaVu Sans Mono',consolas,'Courier New',monospace\">Eval num_timesteps=1071600, episode_reward=67.09 +/- 14.50\n",
       "</pre>\n"
      ],
      "text/plain": [
       "Eval num_timesteps=1071600, episode_reward=67.09 +/- 14.50\n"
      ]
     },
     "metadata": {},
     "output_type": "display_data"
    },
    {
     "data": {
      "text/html": [
       "<pre style=\"white-space:pre;overflow-x:auto;line-height:normal;font-family:Menlo,'DejaVu Sans Mono',consolas,'Courier New',monospace\">Episode length: 991.00 +/- 0.00\n",
       "</pre>\n"
      ],
      "text/plain": [
       "Episode length: 991.00 +/- 0.00\n"
      ]
     },
     "metadata": {},
     "output_type": "display_data"
    },
    {
     "data": {
      "text/html": [
       "<pre style=\"white-space:pre;overflow-x:auto;line-height:normal;font-family:Menlo,'DejaVu Sans Mono',consolas,'Courier New',monospace\">Eval num_timesteps=1081600, episode_reward=77.47 +/- 35.02\n",
       "</pre>\n"
      ],
      "text/plain": [
       "Eval num_timesteps=1081600, episode_reward=77.47 +/- 35.02\n"
      ]
     },
     "metadata": {},
     "output_type": "display_data"
    },
    {
     "data": {
      "text/html": [
       "<pre style=\"white-space:pre;overflow-x:auto;line-height:normal;font-family:Menlo,'DejaVu Sans Mono',consolas,'Courier New',monospace\">Episode length: 991.00 +/- 0.00\n",
       "</pre>\n"
      ],
      "text/plain": [
       "Episode length: 991.00 +/- 0.00\n"
      ]
     },
     "metadata": {},
     "output_type": "display_data"
    },
    {
     "data": {
      "text/html": [
       "<pre style=\"white-space:pre;overflow-x:auto;line-height:normal;font-family:Menlo,'DejaVu Sans Mono',consolas,'Courier New',monospace\">Eval num_timesteps=1091600, episode_reward=136.86 +/- 56.86\n",
       "</pre>\n"
      ],
      "text/plain": [
       "Eval num_timesteps=1091600, episode_reward=136.86 +/- 56.86\n"
      ]
     },
     "metadata": {},
     "output_type": "display_data"
    },
    {
     "data": {
      "text/html": [
       "<pre style=\"white-space:pre;overflow-x:auto;line-height:normal;font-family:Menlo,'DejaVu Sans Mono',consolas,'Courier New',monospace\">Episode length: 991.00 +/- 0.00\n",
       "</pre>\n"
      ],
      "text/plain": [
       "Episode length: 991.00 +/- 0.00\n"
      ]
     },
     "metadata": {},
     "output_type": "display_data"
    },
    {
     "data": {
      "text/html": [
       "<pre style=\"white-space:pre;overflow-x:auto;line-height:normal;font-family:Menlo,'DejaVu Sans Mono',consolas,'Courier New',monospace\">Eval num_timesteps=1101600, episode_reward=128.66 +/- 45.38\n",
       "</pre>\n"
      ],
      "text/plain": [
       "Eval num_timesteps=1101600, episode_reward=128.66 +/- 45.38\n"
      ]
     },
     "metadata": {},
     "output_type": "display_data"
    },
    {
     "data": {
      "text/html": [
       "<pre style=\"white-space:pre;overflow-x:auto;line-height:normal;font-family:Menlo,'DejaVu Sans Mono',consolas,'Courier New',monospace\">Episode length: 991.00 +/- 0.00\n",
       "</pre>\n"
      ],
      "text/plain": [
       "Episode length: 991.00 +/- 0.00\n"
      ]
     },
     "metadata": {},
     "output_type": "display_data"
    },
    {
     "data": {
      "text/html": [
       "<pre style=\"white-space:pre;overflow-x:auto;line-height:normal;font-family:Menlo,'DejaVu Sans Mono',consolas,'Courier New',monospace\">Saving model at step 1000000 to ./ppo_spidy_v4_1/model/ppo_spidy_v4_1\n",
       "</pre>\n"
      ],
      "text/plain": [
       "Saving model at step 1000000 to ./ppo_spidy_v4_1/model/ppo_spidy_v4_1\n"
      ]
     },
     "metadata": {},
     "output_type": "display_data"
    },
    {
     "data": {
      "text/html": [
       "<pre style=\"white-space:pre;overflow-x:auto;line-height:normal;font-family:Menlo,'DejaVu Sans Mono',consolas,'Courier New',monospace\">Eval num_timesteps=1111600, episode_reward=221.75 +/- 62.86\n",
       "</pre>\n"
      ],
      "text/plain": [
       "Eval num_timesteps=1111600, episode_reward=221.75 +/- 62.86\n"
      ]
     },
     "metadata": {},
     "output_type": "display_data"
    },
    {
     "data": {
      "text/html": [
       "<pre style=\"white-space:pre;overflow-x:auto;line-height:normal;font-family:Menlo,'DejaVu Sans Mono',consolas,'Courier New',monospace\">Episode length: 991.00 +/- 0.00\n",
       "</pre>\n"
      ],
      "text/plain": [
       "Episode length: 991.00 +/- 0.00\n"
      ]
     },
     "metadata": {},
     "output_type": "display_data"
    },
    {
     "data": {
      "text/html": [
       "<pre style=\"white-space:pre;overflow-x:auto;line-height:normal;font-family:Menlo,'DejaVu Sans Mono',consolas,'Courier New',monospace\"></pre>\n"
      ],
      "text/plain": []
     },
     "metadata": {},
     "output_type": "display_data"
    }
   ],
   "source": [
    "class InfoCallback(BaseCallback):\n",
    "    def __init__(self, verbose=0):\n",
    "        super().__init__(verbose)\n",
    "\n",
    "    def _on_step(self) -> bool:\n",
    "        # Access the training environment's 'step_info' attribute\n",
    "        \n",
    "        info = self.locals['infos']\n",
    "        info = info[0]\n",
    "\n",
    "        self.logger.record(\"rewards/distance_reward\", info[\"distance_reward\"])\n",
    "        self.logger.record(\"rewards/last_ep_mean_rew\", info[\"last_ep_mean_rew\"])\n",
    "\n",
    "        return True\n",
    "            \n",
    "train_env = Monitor(make_env())\n",
    "eval_env = make_env()\n",
    "\n",
    "eval_callback = EvalCallback(eval_env,\n",
    "                             log_path=log_path, eval_freq=1e4,\n",
    "                             deterministic=True, render=False)\n",
    "\n",
    "class SaveOnStep(BaseCallback):\n",
    "    def __init__(self, steps: int, path: str):\n",
    "        super().__init__()\n",
    "        self.steps = steps\n",
    "        self.save_path = path\n",
    "\n",
    "    def _on_step(self) -> bool:\n",
    "        # Check if the current step matches the saving frequency\n",
    "        if self.n_calls % self.steps == 0:\n",
    "            # Save model with the current timestep in the filename\n",
    "\n",
    "            print(f\"Saving model at step {self.n_calls} to {self.save_path}\")\n",
    "            self.model.save(self.save_path)\n",
    "        return True\n",
    "    \n",
    "callbacks = [SaveOnStep(1e5, path), InfoCallback(), eval_callback]\n",
    "\n",
    "model = PPO.load(path,train_env ,device=device)\n",
    "\n",
    "model.learn(total_timesteps=1e6, progress_bar=True, callback=callbacks, reset_num_timesteps=False)\n",
    "\n",
    "model.save(path)\n",
    "\n",
    "train_env.close()\n"
   ]
  },
  {
   "cell_type": "markdown",
   "metadata": {},
   "source": [
    "# Display"
   ]
  },
  {
   "cell_type": "code",
   "execution_count": 10,
   "metadata": {},
   "outputs": [
    {
     "name": "stdout",
     "output_type": "stream",
     "text": [
      "startThreads creating 1 threads.\n",
      "starting thread 0\n",
      "started thread 0 \n",
      "argc=2\n",
      "argv[0] = --unused\n",
      "argv[1] = --start_demo_name=Physics Server\n",
      "ExampleBrowserThreadFunc started\n",
      "X11 functions dynamically loaded using dlopen/dlsym OK!\n",
      "X11 functions dynamically loaded using dlopen/dlsym OK!\n",
      "Creating context\n",
      "Created GL 3.3 context\n",
      "Direct GLX rendering context obtained\n",
      "Making context current\n",
      "GL_VENDOR=Intel\n",
      "GL_RENDERER=Mesa Intel(R) UHD Graphics 620 (KBL GT2)\n",
      "GL_VERSION=4.6 (Core Profile) Mesa 23.2.1-1ubuntu3.1~22.04.2\n",
      "GL_SHADING_LANGUAGE_VERSION=4.60\n",
      "pthread_getconcurrency()=0\n",
      "Version = 4.6 (Core Profile) Mesa 23.2.1-1ubuntu3.1~22.04.2\n",
      "Vendor = Intel\n",
      "Renderer = Mesa Intel(R) UHD Graphics 620 (KBL GT2)\n",
      "b3Printf: Selected demo: Physics Server\n",
      "startThreads creating 1 threads.\n",
      "starting thread 0\n",
      "started thread 0 \n",
      "MotionThreadFunc thread started\n",
      "ven = Intel\n",
      "Workaround for some crash in the Intel OpenGL driver on Linux/Ubuntu\n",
      "ven = Intel\n",
      "Workaround for some crash in the Intel OpenGL driver on Linux/Ubuntu\n",
      "0.0\n",
      "1.418141115930102e-05\n",
      "4.171609821668402e-05\n",
      "8.045898557907954e-05\n",
      "0.00012879630767763487\n",
      "0.00018543046911939764\n",
      "0.00025151459935093514\n",
      "0.0005951930286186981\n",
      "0.0009108807870465781\n",
      "0.0011663445630431756\n",
      "0.001375861038810128\n",
      "0.0015682113722456559\n",
      "0.0017653741565688483\n",
      "0.001973579827843289\n",
      "0.002167967783952005\n",
      "0.002326983205943672\n",
      "0.002474250501753728\n",
      "0.002625506579501251\n",
      "0.002770602224684113\n",
      "0.002917485727213335\n",
      "0.0030620426027372634\n",
      "0.003201773462927196\n",
      "0.003344816316015429\n",
      "0.0034803786601065733\n",
      "0.003610160346331386\n",
      "0.0034890370010508386\n",
      "0.003088032413848824\n",
      "0.00261147350427457\n",
      "0.002360599851526207\n",
      "0.002638050109561851\n",
      "0.003401634215122742\n",
      "0.0043994535094690115\n",
      "0.005510415683355785\n",
      "0.00668557072100187\n",
      "0.007893661732971617\n",
      "0.00912756061601765\n",
      "0.010138992783100927\n",
      "0.010914367214232326\n",
      "0.011573853367899763\n",
      "0.01216769455380167\n",
      "0.012741447222378669\n",
      "0.013307772141831783\n",
      "0.01387152403072433\n",
      "0.01441558720717746\n",
      "0.014942334148501627\n",
      "0.015476117722502266\n",
      "0.015892821102098997\n",
      "0.016169125555331263\n",
      "0.01631334870221579\n",
      "0.01643194287577623\n",
      "0.016413697291243933\n",
      "0.016155988091846527\n",
      "0.015689169022511214\n",
      "0.015062007142932127\n",
      "0.01431314804555994\n",
      "0.013537482715256068\n",
      "0.01281369922071998\n",
      "0.012267219222432695\n",
      "0.012010887263163213\n",
      "0.012058041314908178\n",
      "0.012495463806418219\n",
      "0.013338772957907448\n",
      "0.014538270214992613\n",
      "0.016045287020442684\n",
      "0.01776712135810375\n",
      "0.019614460895072995\n",
      "0.021514340896781614\n",
      "0.02343414296704626\n",
      "0.025291073617404278\n",
      "0.026848494205489525\n",
      "0.02822717831432339\n",
      "0.029397462559867995\n",
      "0.030351879606796677\n",
      "0.03113785034931422\n",
      "0.0316313638198608\n",
      "0.03188768465973421\n",
      "0.031973792527762994\n",
      "0.03188847375050354\n",
      "0.03154729255473572\n",
      "0.03095789673927844\n",
      "0.030222450045604157\n",
      "0.029427523257959217\n",
      "0.02848197754560213\n",
      "0.027383978403863987\n",
      "0.026037162899499457\n",
      "0.02550804044313349\n",
      "0.02558752812749328\n",
      "0.02600281492486964\n",
      "0.02658782690993888\n",
      "0.02693495682876535\n",
      "0.027005054367140353\n",
      "0.02678871239873269\n",
      "0.02635992013897382\n",
      "0.02588877115141735\n",
      "0.02521971974786632\n",
      "0.024389128517223864\n",
      "0.023413804392648386\n",
      "0.022349016735137797\n",
      "0.021266964848669887\n",
      "0.020225651769646705\n",
      "0.019348591794799672\n",
      "0.01869827059254887\n",
      "0.018306954548680636\n",
      "0.018183991771921242\n",
      "0.018300463315513084\n",
      "0.018641496758831925\n",
      "0.018873516477412314\n",
      "0.018877534613776607\n",
      "0.018595201500326022\n",
      "0.01803260359661028\n",
      "0.01727751868395099\n",
      "0.016470213087418393\n",
      "0.015763686157437905\n",
      "0.015404975647201929\n",
      "0.0155523335542202\n",
      "0.016194029997563038\n",
      "0.017290094034199448\n",
      "0.01872274637850385\n",
      "0.020412699468289986\n",
      "0.022313100466695365\n",
      "0.024320185405112434\n",
      "0.026404815120759137\n",
      "0.02852944453619746\n",
      "0.030689217637628375\n",
      "0.032781688164458964\n",
      "0.034784282595345266\n",
      "0.03664604841323599\n",
      "0.038403016986178665\n",
      "0.03994725713371864\n",
      "0.04125165305293168\n",
      "0.04228807316912659\n",
      "0.04298938527415683\n",
      "0.04329186784091121\n",
      "0.04319982817812716\n",
      "0.04272702987990243\n",
      "0.04188974703546185\n",
      "0.04070120353104086\n",
      "0.03919057354366633\n",
      "0.037414717692494846\n",
      "0.03538256268846451\n",
      "0.033377954651886046\n",
      "0.03133169271474731\n",
      "0.029178330379947128\n",
      "0.026875054751372786\n",
      "0.024452064384734146\n",
      "0.022067459870961315\n",
      "0.019762537659545328\n",
      "0.017551125241302593\n",
      "0.015588446148715318\n",
      "0.013953770780776984\n",
      "0.01292552439445532\n",
      "0.012443985525553477\n",
      "0.012467846280618228\n",
      "0.012946821865856325\n",
      "0.013708056152048533\n",
      "0.014595193316270141\n",
      "0.015437703859392209\n",
      "0.0161849512825392\n",
      "0.016652786734050292\n",
      "0.016742083660758404\n",
      "0.016415612824124876\n",
      "0.015694531585819113\n",
      "0.014652574305009157\n",
      "0.013411331349470885\n",
      "0.012066463045524469\n",
      "0.010667705671428867\n",
      "0.009342155341860692\n",
      "0.008094911118005938\n",
      "0.006982565047174887\n",
      "0.0062193539304482275\n",
      "0.006104156972180116\n",
      "0.006893106352541375\n",
      "0.008513152518018874\n",
      "0.01071742244030575\n",
      "0.013314680897292076\n",
      "0.01617487132264581\n",
      "0.019215913391254648\n",
      "0.022319123641889274\n",
      "0.02549141078506052\n",
      "0.028685363222582076\n",
      "0.031843857719225245\n",
      "0.034811935259992335\n",
      "0.037360201043652445\n",
      "0.03957353432401203\n",
      "0.04148061045512449\n",
      "0.04304386431457662\n",
      "0.04430997494341291\n",
      "0.045233285713646716\n",
      "0.04573882132628061\n",
      "0.04568986561378686\n",
      "0.045106556282798284\n",
      "0.044070267898897356\n",
      "0.04269001430075474\n",
      "0.04101368113481357\n",
      "0.039025148432964805\n",
      "0.03679265162868581\n",
      "0.034471897075948985\n",
      "0.03206322628197283\n",
      "0.029541617931085753\n",
      "0.02688673490307763\n",
      "0.024111918232940198\n",
      "0.02132780362188089\n",
      "0.01859746526448282\n",
      "0.016055834638905263\n",
      "0.013710518254096958\n",
      "0.011672526453995954\n",
      "0.010198153571166563\n",
      "0.009778972773409743\n",
      "0.01036860454208503\n",
      "0.011575607789505931\n",
      "0.01301048919114589\n",
      "0.014406673218578709\n",
      "0.01563133553335935\n",
      "0.016547423963288163\n",
      "0.0173257155640626\n",
      "0.01796468707790666\n",
      "0.01849494849738833\n",
      "0.018945046634120354\n",
      "0.01933143132468016\n",
      "0.019662477115429504\n",
      "0.01984768722207983\n",
      "0.01986103236652088\n",
      "0.01971743147676848\n",
      "0.019443594619039817\n",
      "0.019071909481784735\n",
      "0.018596723410751203\n",
      "0.018041722142529647\n",
      "0.01746864751828394\n",
      "0.016961600906943465\n",
      "0.01661898477273486\n",
      "0.01654746663631044\n",
      "0.01682971795538009\n",
      "0.017520224178684443\n",
      "0.018627553028271748\n",
      "0.020127407818800888\n",
      "0.021964599605899533\n",
      "0.024035335554269035\n",
      "0.02627165950297713\n",
      "0.02847555216136879\n",
      "0.03038668865995738\n",
      "0.03205948245350264\n",
      "0.033470593243008995\n",
      "0.03461871174943127\n",
      "0.035543050355401014\n",
      "0.036237777625796413\n",
      "0.036657011969767665\n",
      "0.03675699057940475\n",
      "0.03651986846463037\n",
      "0.0359474635603144\n",
      "0.03504330211425184\n",
      "0.03387998679192524\n",
      "0.03248884121225474\n",
      "0.03087656415156549\n",
      "0.029011916574240196\n",
      "0.026944816215872237\n",
      "0.02479462982152466\n",
      "0.0227095709568004\n",
      "0.020761702110161134\n",
      "0.01915711581771607\n",
      "0.017916986295289917\n",
      "0.01728034359180272\n",
      "0.017168067016492868\n",
      "0.017362961489091486\n",
      "0.017845352665914856\n",
      "0.01870337186683924\n",
      "0.01999576022135107\n",
      "0.021689900662083893\n",
      "0.023769508479623825\n",
      "0.026201534198469035\n",
      "0.02884179259997798\n",
      "0.03159013918670029\n",
      "0.03433142090443012\n",
      "0.037021619978135946\n",
      "0.039619563186378146\n",
      "0.04213681024015271\n",
      "0.04460212316549578\n",
      "0.047023167119080354\n",
      "0.0493163564332704\n",
      "0.05142451691164441\n",
      "0.053260245761981254\n",
      "0.05483718425984941\n",
      "0.056158491369003825\n",
      "0.05722388147141425\n",
      "0.05737824481045428\n",
      "0.05664056862643595\n",
      "0.05512481361731307\n",
      "0.0528482814064259\n",
      "0.04992984834122642\n",
      "0.046366184795539375\n",
      "0.04255279857874872\n",
      "0.03868171922236081\n",
      "0.034943909449724385\n",
      "0.031448766753394315\n",
      "0.028246963435202947\n",
      "0.025404698263646566\n",
      "0.02289949152845112\n",
      "0.021125220611660035\n",
      "0.019714246356116856\n",
      "0.01855672258891858\n",
      "0.017732001515675375\n",
      "0.017239548181022996\n",
      "0.017014689409219484\n",
      "0.01696664885003989\n",
      "0.017000321366469333\n",
      "0.01707668884932003\n",
      "0.017160757906113152\n",
      "0.017295437448697177\n",
      "0.017542009165776928\n",
      "0.01797862404682138\n",
      "0.018732524777266273\n",
      "0.01985641138674993\n",
      "0.021326120069139226\n",
      "0.023135900743114564\n",
      "0.025310455771811628\n",
      "0.02788709710178801\n",
      "0.030801141535939585\n",
      "0.03392417124579061\n",
      "0.037297022053254775\n",
      "0.04090809074663658\n",
      "0.044614453344790084\n",
      "0.048291244559353096\n",
      "0.05195234290185922\n",
      "0.05563208149090651\n",
      "0.05927827657615942\n",
      "0.06286440048199438\n",
      "0.0660320770476011\n",
      "0.06899891155769054\n",
      "0.07176847191082276\n",
      "0.07423388412486313\n",
      "0.07632484527938926\n",
      "0.07798227927720884\n",
      "0.07918089073799606\n",
      "0.07984930661730587\n",
      "0.08000889127310612\n",
      "0.07962633141684661\n",
      "0.07881408997035398\n",
      "0.0774337540650162\n",
      "0.07555525260215085\n",
      "0.07317532152148334\n",
      "0.0702856001954776\n",
      "0.06688128704546699\n",
      "0.06303398396462113\n",
      "0.05906771772722314\n",
      "0.0550814435585698\n",
      "0.05106946769318171\n",
      "0.04709505231203521\n",
      "0.043161367070364345\n",
      "0.03946649402007945\n",
      "0.03601202990964684\n",
      "0.03302076634262507\n",
      "0.030596252874592212\n",
      "0.028872703153472044\n",
      "0.027899359068351032\n",
      "0.027649970001009896\n",
      "0.028020242709779708\n",
      "0.028849275729621798\n",
      "0.02994836329248497\n",
      "0.03116545164880543\n",
      "0.032504494043906484\n",
      "0.03394143762027211\n",
      "0.03539396061582743\n",
      "0.03677504460737798\n",
      "0.03801046322241456\n",
      "0.03906899715297086\n",
      "0.039739620880709724\n",
      "0.040188645065722374\n",
      "0.040527028473873405\n",
      "0.04082565569836356\n",
      "0.041093558058115445\n",
      "0.0413464387224739\n",
      "0.04163160578852563\n",
      "0.041885640345914944\n",
      "0.04210601194665886\n",
      "0.04244769217481524\n",
      "0.0428963304136153\n",
      "0.043369141514228216\n",
      "0.04384215863226314\n",
      "0.04432268474245242\n",
      "0.04478522901896848\n",
      "0.04522520470811209\n",
      "0.04564669854696162\n",
      "0.04606277130618008\n",
      "0.046523189735596555\n",
      "0.04703027474206385\n",
      "0.04763084687463699\n",
      "0.04828864724609477\n",
      "0.04902676027472113\n",
      "0.04984591981890792\n",
      "0.05077004078109047\n",
      "0.05182147748909851\n",
      "0.05294472273118917\n",
      "0.05410317576645647\n",
      "0.05491444389745007\n",
      "0.055009225901596064\n",
      "0.054408509590734566\n",
      "0.05333781512827812\n",
      "0.05211239206121946\n",
      "0.05096001936009556\n",
      "0.04999522642304176\n",
      "0.04931190049155563\n",
      "0.04894953912224306\n",
      "0.04893864282053004\n",
      "0.049272415223278604\n",
      "0.04971742170612572\n",
      "0.05012160740881145\n",
      "0.050509844655116334\n",
      "0.05093805182300059\n",
      "0.051479537317008675\n",
      "0.05212872782449981\n",
      "0.05286224952314522\n",
      "0.05366412522538999\n",
      "0.054508063617916096\n",
      "0.055378242113144675\n",
      "0.05605420941266281\n",
      "0.056545346078647224\n",
      "0.05688716939353719\n",
      "0.05712824043574774\n",
      "0.05725696084972813\n",
      "0.05722647349324814\n",
      "0.05697156705662238\n",
      "0.05647237967603581\n",
      "0.055770812794834194\n",
      "0.05491282107159572\n",
      "0.0539430552912238\n",
      "0.05297212535759765\n",
      "0.052120245603867695\n",
      "0.05143754477277814\n",
      "0.05089565053284414\n",
      "0.05041547193057709\n",
      "0.050027982331794035\n",
      "0.04977431322487825\n",
      "0.04966071108432756\n",
      "0.049715616456499606\n",
      "0.049954118143885444\n",
      "0.050402802845244635\n",
      "0.051069986392552766\n",
      "0.052047540555158936\n",
      "0.05314675726024784\n",
      "0.05442404222675252\n",
      "0.05582921599037009\n",
      "0.05715707848902487\n",
      "0.058373788998459936\n",
      "0.05949926495208553\n",
      "0.060514867582512365\n",
      "0.06145056018998844\n",
      "0.06217093490777623\n",
      "0.06261313050676179\n",
      "0.0627298146682442\n",
      "0.06249015778953759\n",
      "0.0618856355442798\n",
      "0.061002750565719153\n",
      "0.059958710286963465\n",
      "0.058813834934566274\n",
      "0.057586176918873654\n",
      "0.05633502184132228\n",
      "0.05503798348347794\n",
      "0.05367284965189515\n",
      "0.0523553228580546\n",
      "0.05120691837805812\n",
      "0.05030886977516183\n",
      "0.049729115362872445\n",
      "0.04950617665317574\n",
      "0.049447160691315835\n",
      "0.04957790739923989\n",
      "0.049932050800925276\n",
      "0.050558615691736565\n",
      "0.051410343076502954\n",
      "0.052429225468387304\n",
      "0.053541055212304796\n",
      "0.05468039655862684\n",
      "0.05577710417324211\n",
      "0.05674497875968982\n",
      "0.05754810071646602\n",
      "0.05824817848311674\n",
      "0.05881521655858962\n",
      "0.05919343817821154\n",
      "0.0594992340108516\n",
      "0.05976728488143241\n",
      "0.05993493996241343\n",
      "0.060070530380722985\n",
      "0.06022162841971187\n",
      "0.0604196232654638\n",
      "0.060660682720759924\n",
      "0.06094547853633055\n",
      "0.061164641493721465\n",
      "0.06135298404399022\n",
      "0.06153100869103796\n",
      "0.06170974226321439\n",
      "0.061912761105938324\n",
      "0.062129001504054364\n",
      "0.06232116896303957\n",
      "0.06248797594116324\n",
      "0.06204497911916291\n",
      "0.060949769264010106\n",
      "0.05927119652859618\n",
      "0.05739752299928192\n",
      "0.05556448809932399\n",
      "0.05398142032697754\n",
      "0.052780982526336534\n",
      "0.05200699948072858\n",
      "0.05163115946240638\n",
      "0.05157794042959644\n",
      "0.05160990394751722\n",
      "0.05169328514856278\n",
      "0.05183667619030841\n",
      "0.052066137465657567\n",
      "0.052340293023039115\n",
      "0.05268057048377227\n",
      "0.05303444093470232\n",
      "0.053440234910250545\n",
      "0.05394375842407979\n",
      "0.05461383686308292\n",
      "0.05550903716535271\n",
      "0.056727668514309486\n",
      "0.0583623342892741\n",
      "0.06042998998352064\n",
      "0.06285049085283223\n",
      "0.06548784746128272\n",
      "0.06814311664230421\n",
      "0.07064232580229571\n",
      "0.07305248924193072\n",
      "0.07537892276781805\n",
      "0.07760033697644292\n",
      "0.07967006859387028\n",
      "0.081525162867417\n",
      "0.08313681787104545\n",
      "0.08443288501911468\n",
      "0.08546193528204911\n",
      "0.08627720956285899\n",
      "0.08673750436532207\n",
      "0.08696969495524169\n",
      "0.08708865200829057\n",
      "0.08712432854229943\n",
      "0.08709946579354508\n",
      "0.08704615469582488\n",
      "0.08701322794832586\n",
      "0.08699469298388952\n",
      "0.0869937189887547\n",
      "0.08698562374690307\n",
      "0.0869468155828389\n",
      "0.08688918503145503\n",
      "0.08685859870301241\n",
      "0.08683773339925475\n",
      "0.0868286127000131\n",
      "0.08675871359723271\n",
      "0.08663889452267105\n",
      "0.08645074766849659\n",
      "0.08625387971215812\n",
      "0.0860945346462391\n",
      "0.08599042004571983\n",
      "0.08596041851256395\n",
      "0.08600988058850499\n",
      "0.08611769282329172\n",
      "0.08628565221869086\n",
      "0.08642052239426917\n",
      "0.08630135228736359\n",
      "0.0862931181347109\n",
      "0.0866225728267364\n",
      "0.08717167771407662\n",
      "0.08714065700832883\n",
      "0.08682428700958865\n",
      "0.08653055686917786\n",
      "0.08644196072134071\n",
      "0.08665500231130023\n",
      "0.08724555020290652\n",
      "0.08818515993010237\n",
      "0.08953729777499632\n",
      "0.09129021433372622\n",
      "0.09343860523684024\n",
      "0.09588819787641788\n",
      "0.09863226039431391\n",
      "0.10162988637518441\n",
      "0.10485824038600339\n",
      "0.10824719471282986\n",
      "0.11172826176489417\n",
      "0.11530349013970768\n",
      "0.11893082305115626\n",
      "0.12251421751502573\n",
      "0.1259657239528575\n",
      "0.12920735848913398\n",
      "0.13192152056551298\n",
      "0.13422787784592927\n",
      "0.13603435285595591\n",
      "0.13738723671183004\n",
      "0.1383971639994782\n",
      "0.13907018943763036\n",
      "0.1395854514939627\n",
      "0.14017535240908569\n",
      "0.14096827517256755\n",
      "0.1419968867178076\n",
      "0.143172372389063\n",
      "0.14437073427457384\n",
      "0.14553002396040388\n",
      "0.14665672207364414\n",
      "0.14773491481709206\n",
      "0.1487516519321123\n",
      "0.14966682437326212\n",
      "0.15047752915479043\n",
      "0.15113387969926087\n",
      "0.1516418743099134\n",
      "0.15195822196788566\n",
      "0.15198618069821815\n",
      "0.15164238540286223\n",
      "0.15103542078664736\n",
      "0.15028705706285753\n",
      "0.14959186352768675\n",
      "0.1489014544827317\n",
      "0.14800792883308864\n",
      "0.14686780436424812\n",
      "0.14546024253855677\n",
      "0.1437645809171176\n",
      "0.14192539732439058\n",
      "0.13988790693878858\n",
      "0.13767099408913458\n",
      "0.13518866589768125\n",
      "0.1326988515428763\n",
      "0.1303529184607239\n",
      "0.1281982088123361\n",
      "0.12620752546776712\n",
      "0.12449779286868218\n",
      "0.1230939239838963\n",
      "0.12204613713184204\n",
      "0.12130480302675974\n",
      "0.1208638567524484\n",
      "0.12125001232047987\n",
      "0.12249700317252679\n",
      "0.12465675390687384\n",
      "0.12761602857099233\n",
      "0.13113227202266725\n",
      "0.13498015544509334\n",
      "0.13906547461019475\n",
      "0.143232359189761\n",
      "0.14728827168684072\n",
      "0.15111954381781026\n",
      "0.15450470100507677\n",
      "0.15740891106228233\n",
      "0.15994953592344166\n",
      "0.16215241728409127\n",
      "0.1639643943858446\n",
      "0.16533770207509768\n",
      "0.16647957189212928\n",
      "0.16739862741939174\n",
      "0.16816753603318976\n",
      "0.16876082543117332\n",
      "0.16919589682591113\n",
      "0.169963763531838\n",
      "0.17100010470198296\n",
      "0.17209120417746457\n",
      "0.17315422194147528\n",
      "0.17408879019518314\n",
      "0.17486000399278945\n",
      "0.17546423771627617\n",
      "0.17594379977874616\n",
      "0.1763075899629672\n",
      "0.17658090475796992\n",
      "0.176795191584101\n",
      "0.17670783508963048\n",
      "0.17620512897757512\n",
      "0.17547135312023515\n",
      "0.1745373126711061\n",
      "0.1734627308943261\n",
      "0.172325724246239\n",
      "0.17124067618978336\n",
      "0.1702169633150077\n",
      "0.16904456823557457\n",
      "0.16687941444068916\n",
      "0.16378171395444405\n",
      "0.16040135311392845\n",
      "0.15715767787940985\n",
      "0.15413346955929857\n",
      "0.15137232770374096\n",
      "0.1489044505368881\n",
      "0.14674620753650633\n",
      "0.14500812729750176\n",
      "0.1437512660716559\n",
      "0.14295186908333202\n",
      "0.14264508633756742\n",
      "0.14282876142146897\n",
      "0.1434671374850926\n",
      "0.14450938903073993\n",
      "0.1459025435835135\n",
      "0.1476605494724883\n",
      "0.1497598911845431\n",
      "0.1521905271481545\n",
      "0.15493260130540712\n",
      "0.157958292141214\n",
      "0.16131271010183518\n",
      "0.16490735890161728\n",
      "0.1687306806509022\n",
      "0.1727305894960283\n",
      "0.17684302303266636\n",
      "0.1809677718489233\n",
      "0.18501346182692557\n",
      "0.1882026996138763\n",
      "0.19091277658983563\n",
      "0.19339651363327684\n",
      "0.19565750175547963\n",
      "0.1977316928409695\n",
      "0.1993575730118661\n",
      "0.2005007672242054\n",
      "0.20110492539941166\n",
      "0.20144520589288623\n",
      "0.2017217657405392\n",
      "0.2019326236181899\n",
      "0.2022717921363954\n",
      "0.20276539282886552\n",
      "0.20344789749359865\n",
      "0.20425659479170685\n",
      "0.2050915236227094\n",
      "0.20592828132363614\n",
      "0.20672875508080935\n",
      "0.20745046406967804\n",
      "0.208009947283131\n",
      "0.2083032326512613\n",
      "0.2081418618150891\n",
      "0.2072869393708383\n",
      "0.2054608277967066\n",
      "0.20241978927210466\n",
      "0.19865542193414223\n",
      "0.19460342777009648\n",
      "0.1906704419808399\n",
      "0.18680668863042296\n",
      "0.1830757700172056\n",
      "0.17955348487099548\n",
      "0.17628584441585662\n",
      "0.1732406147880909\n",
      "0.17045456287117752\n",
      "0.1680460414585855\n",
      "0.16592939075384025\n",
      "0.16417164530899445\n",
      "0.1628267573850121\n",
      "0.1618424528967335\n",
      "0.1612350834309497\n",
      "0.16099518517320202\n",
      "0.16110311298341623\n",
      "0.16168004800576616\n",
      "0.16269268120330385\n",
      "0.16412542539454456\n",
      "0.16595749418299519\n",
      "0.16815781075094932\n",
      "0.17067453344960118\n",
      "0.1734647967950566\n",
      "0.1764113432837587\n",
      "0.1794804355902147\n",
      "0.18265475238412382\n",
      "0.18589575467148375\n",
      "0.18915687177286933\n",
      "0.1924163881371288\n",
      "0.19567935126985964\n",
      "0.19900069668884543\n",
      "0.20148290606309097\n",
      "0.20322559622003933\n",
      "0.2047908219367819\n",
      "0.20643591728715177\n",
      "0.20809844629322297\n",
      "0.20992690413886883\n",
      "0.21198349233304645\n",
      "0.21428757764126516\n",
      "0.21686370387301818\n",
      "0.2196423808329785\n",
      "0.2225375260062921\n",
      "0.22547127858635488\n",
      "0.22837417041312114\n",
      "0.231238354084011\n",
      "0.23406271090839217\n",
      "0.23685402316389156\n",
      "0.23958624156065422\n",
      "0.24225858222142466\n",
      "0.24381953771767623\n",
      "0.24468681047254998\n",
      "0.24496969398420412\n",
      "0.24476556890549978\n",
      "0.24414487894543924\n",
      "0.2431739863852308\n",
      "0.24186186469459836\n",
      "0.24023440776226396\n",
      "0.23831541008488955\n",
      "0.23613515319047207\n",
      "0.23368940575279065\n",
      "0.23100649244870639\n",
      "0.22818226831412272\n",
      "0.22523955724689884\n",
      "0.2222180282807973\n",
      "0.21919504600236217\n",
      "0.21622855368704508\n",
      "0.21337060183604872\n",
      "0.21066025692216625\n",
      "0.2080586768258353\n",
      "0.20568438029130745\n",
      "0.2037110001418377\n",
      "0.20202421999776973\n",
      "0.2006161927926394\n",
      "0.19944018150230391\n",
      "0.19847345285751414\n",
      "0.19764290171684012\n",
      "0.19690835047262598\n",
      "0.1966744289167794\n",
      "0.1974353322711693\n",
      "0.1991479345989935\n",
      "0.20170958727573268\n",
      "0.20497338966650733\n",
      "0.20851699941729235\n",
      "0.2119777117243026\n",
      "0.21513225413867235\n",
      "0.21785598696631783\n",
      "0.22013984835894507\n",
      "0.22200418580387488\n",
      "0.22367734274656453\n",
      "0.22540491838795526\n",
      "0.22729876454107303\n",
      "0.22936476041725556\n",
      "0.23151949308867986\n",
      "0.2336785056418087\n",
      "0.23579201633753213\n",
      "0.23779481220542786\n",
      "0.2396994235619919\n",
      "0.24149397539935347\n",
      "0.2431604084572711\n",
      "0.24472993665825069\n",
      "0.2462556639174359\n",
      "0.24775793831040524\n",
      "0.2492009537454296\n",
      "0.2506144670075969\n",
      "0.25201509189288285\n",
      "0.2528619765398128\n",
      "0.25316660558956433\n",
      "0.25315776322026357\n",
      "0.2529004552840119\n",
      "0.2523865117904621\n",
      "0.2516507781148095\n",
      "0.25071078456625673\n",
      "0.24961864936263498\n",
      "0.24842531574709842\n",
      "0.24716092959078276\n",
      "0.24582258619145633\n",
      "0.244423722891058\n",
      "0.24300906096245206\n",
      "0.24160758919091482\n",
      "0.24025161699916608\n",
      "0.23883010755770362\n",
      "0.2374013400584576\n",
      "0.2361384662576721\n",
      "0.23527482411588813\n",
      "0.2348116735241681\n",
      "0.23452564264363904\n",
      "0.23454291766324\n",
      "0.23496365011839257\n",
      "0.23583172042340997\n",
      "0.2371280902776405\n",
      "0.23882231642757107\n",
      "0.24086970250910486\n",
      "0.24320514962852796\n",
      "0.2457711190529478\n",
      "0.24853843989674224\n",
      "0.2514844808303306\n",
      "0.25464274696575223\n",
      "0.2579765464673353\n",
      "0.26147867125317076\n",
      "0.2650988203465397\n",
      "0.26872193185141785\n",
      "0.27227655849264865\n",
      "0.274974197993421\n",
      "0.2769909401516916\n",
      "0.2784522503227874\n",
      "0.27942950871653033\n",
      "0.2809896748630629\n",
      "0.28305067837751113\n",
      "0.28507478300210604\n",
      "0.286756096463011\n",
      "0.28796491658284246\n",
      "0.2887140491618453\n",
      "0.2890615888676278\n",
      "0.28904895240785283\n",
      "0.2887109251307028\n",
      "0.28804872429167855\n",
      "0.2872611455474988\n",
      "0.2864463169270756\n",
      "0.2857033572646799\n",
      "0.28500702910210945\n",
      "0.28431600264427204\n",
      "0.2835813848206048\n",
      "0.2827809716219244\n",
      "0.2818895991255278\n",
      "0.2809724997306728\n",
      "0.28012837474786356\n",
      "0.279375436938547\n",
      "0.2787122885441614\n",
      "0.2781531597196308\n",
      "0.2777253513141158\n",
      "0.27738249907732976\n",
      "0.2770997614163343\n",
      "0.2769026008717948\n",
      "0.2768159757467048\n",
      "0.2768402668526508\n",
      "0.27699958402234415\n",
      "0.27734892476372386\n",
      "0.2778294725710344\n",
      "0.2787496627916772\n",
      "0.2798430966210695\n",
      "0.28095967337186556\n",
      "0.2816129088392013\n",
      "0.28230255730748494\n",
      "0.28329822322586184\n",
      "0.284645259394036\n",
      "0.28639189871376997\n",
      "0.28856771020036465\n",
      "0.29116350708713234\n",
      "0.2941225704632562\n",
      "0.2973580673184982\n",
      "0.3008174927986082\n",
      "0.3043961806022465\n",
      "0.3080454677990282\n",
      "0.31174267021834456\n",
      "0.3154544712715682\n",
      "0.3191427828159927\n",
      "0.3226961548398561\n",
      "0.3260547882204869\n",
      "0.32919812359966716\n",
      "0.33213764192348777\n",
      "0.3345068042873147\n",
      "0.3365150383666473\n",
      "0.338259137080476\n",
      "0.33975071890593095\n",
      "0.3409344883855411\n",
      "0.3418273065334544\n",
      "0.34233856267067386\n",
      "0.3424149673350992\n",
      "0.34204586613179\n",
      "0.34118897678260257\n",
      "0.33985578746263434\n",
      "0.33813442909488706\n",
      "0.33609216758190696\n",
      "0.3337097001421997\n",
      "0.33095757719701707\n",
      "0.3278822109267895\n",
      "0.32451113257236885\n",
      "0.3209047097110775\n",
      "0.3171691916978234\n",
      "0.3133726783819566\n",
      "0.3095319700258962\n",
      "0.30564219279183863\n",
      "0.30174949674991985\n",
      "0.2980261171126661\n",
      "0.2944988547231892\n",
      "0.29124636320091324\n",
      "0.28824401121109205\n",
      "0.2855313344438479\n",
      "0.28312124733484106\n",
      "0.2810217807403307\n",
      "0.27924929982369273\n",
      "0.277803180387881\n",
      "0.2766992442233295\n",
      "0.2758595035409475\n",
      "0.2749990910115093\n",
      "0.2744156627230186\n",
      "0.27413195879442015\n",
      "0.2742034156224572\n",
      "0.27464754719347717\n",
      "0.27547407287784953\n",
      "0.2766851401332201\n",
      "0.2783168526482996\n",
      "0.28036475758388546\n",
      "0.2827948484206943\n",
      "0.28554405033935126\n",
      "0.2885016987151771\n",
      "0.2916753487322085\n",
      "0.2950069824441179\n",
      "0.2984918681103212\n",
      "0.30201846878006994\n",
      "0.30563147573780247\n",
      "0.30932250821148954\n",
      "0.3130746519463717\n",
      "0.31680010547032345\n",
      "0.32046814297984\n",
      "0.32403641665147154\n",
      "0.32753363319125933\n",
      "0.330350563177082\n",
      "0.33259940840886304\n",
      "0.3343797132727732\n",
      "0.3357999331331971\n",
      "0.3369171177176206\n",
      "0.33772127988693196\n",
      "0.33817876598219854\n",
      "0.3382779353117004\n",
      "0.33801933932018197\n",
      "0.337452904258559\n",
      "0.3367173303181188\n",
      "0.33582774402583687\n",
      "0.33468214121996165\n",
      "0.3332772602818388\n",
      "numActiveThreads = 0\n",
      "stopping threads\n",
      "Thread with taskId 0 exiting\n",
      "Thread TERMINATED\n",
      "destroy semaphore\n",
      "semaphore destroyed\n",
      "destroy main semaphore\n",
      "main semaphore destroyed\n",
      "finished\n",
      "numActiveThreads = 0\n",
      "btShutDownExampleBrowser stopping threads\n",
      "Thread with taskId 0 exiting\n",
      "Thread TERMINATED\n",
      "destroy semaphore\n",
      "semaphore destroyed\n",
      "destroy main semaphore\n",
      "main semaphore destroyed\n"
     ]
    }
   ],
   "source": [
    "\n",
    "test_env = gym.make(env_id,max_episode_steps=n_steps, render_mode=\"human\", )\n",
    "model = PPO.load(path)\n",
    "info = {}\n",
    "\n",
    "for episode in range(1):\n",
    "\n",
    "    done = False\n",
    "    obs, info = test_env.reset()\n",
    "    for t in range(n_steps):\n",
    "\n",
    "        action = model.predict(obs)[0]\n",
    "        #action = np.zeros(66)\n",
    "        \n",
    "        obs, reward, terminate, trunc, info = test_env.step(action)\n",
    "    \n",
    "        if terminate or trunc:\n",
    "            break\n",
    "\n",
    "        print(reward)\n",
    "\n",
    "test_env.close()\n",
    "\n",
    "\n"
   ]
  },
  {
   "cell_type": "code",
   "execution_count": 11,
   "metadata": {},
   "outputs": [
    {
     "data": {
      "image/png": "[encoded data removed]",
      "text/plain": [
       "<Figure size 1200x600 with 4 Axes>"
      ]
     },
     "metadata": {},
     "output_type": "display_data"
    }
   ],
   "source": [
    "# Show CPG parameters\n",
    "coupling_weights = info['coupling_weights']\n",
    "phase_biases= info['phase_biases']\n",
    "\n",
    "\n",
    "\n",
    "fig, axs = plt.subplots(2,1, figsize=(12, 6))  # Adjust size if needed\n",
    "\n",
    "im1 = axs[0].imshow(coupling_weights, cmap='viridis', aspect='equal')\n",
    "fig.colorbar(im1, ax=axs[0], orientation='vertical')  # Add a color bar for reference\n",
    "axs[0].set_title(\"coupling_weights\")\n",
    "axs[0].set_xlabel(\"Column Index\")\n",
    "axs[0].set_ylabel(\"Row Index\")\n",
    "axs[0].set_xticks(range(12))\n",
    "axs[0].set_yticks(range(12))\n",
    "\n",
    "im2 = axs[1].imshow(phase_biases, cmap='viridis', aspect='equal')\n",
    "fig.colorbar(im1, ax=axs[1], orientation='vertical')  # Add a color bar for reference\n",
    "axs[1].set_title(\"phase_biases\")\n",
    "axs[1].set_xlabel(\"Column Index\")\n",
    "axs[1].set_ylabel(\"Row Index\")\n",
    "axs[1].set_xticks(range(12))\n",
    "axs[1].set_yticks(range(12))\n",
    "\n",
    "\n",
    "plt.tight_layout()\n",
    "plt.show()"
   ]
  }
 ],
 "metadata": {
  "kernelspec": {
   "display_name": "hostEnv",
   "language": "python",
   "name": "python3"
  },
  "language_info": {
   "codemirror_mode": {
    "name": "ipython",
    "version": 3
   },
   "file_extension": ".py",
   "mimetype": "text/x-python",
   "name": "python",
   "nbconvert_exporter": "python",
   "pygments_lexer": "ipython3",
   "version": "3.10.12"
  }
 },
 "nbformat": 4,
 "nbformat_minor": 2
}
