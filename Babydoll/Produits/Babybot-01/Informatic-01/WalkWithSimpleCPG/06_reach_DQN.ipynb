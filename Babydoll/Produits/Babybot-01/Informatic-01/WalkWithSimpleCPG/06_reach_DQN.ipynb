{
 "cells": [
  {
   "cell_type": "markdown",
   "metadata": {},
   "source": [
    "# Setup"
   ]
  },
  {
   "cell_type": "code",
   "execution_count": 1,
   "metadata": {
    "tags": [
     "setup"
    ]
   },
   "outputs": [],
   "source": [
    "import gymnasium as gym\n",
    "import babybot01_env\n",
    "from tqdm import tqdm\n",
    "from stable_baselines3 import PPO, DQN\n",
    "from stable_baselines3.common.env_util import make_vec_env\n",
    "from stable_baselines3.common.callbacks import BaseCallback, EvalCallback, CallbackList\n",
    "import numpy as np\n",
    "from pathlib import Path\n",
    "import matplotlib.pyplot as plt\n",
    "from stable_baselines3.common.monitor import Monitor\n",
    "from torch.utils.tensorboard import SummaryWriter\n",
    "import time\n",
    "\n",
    "'''\n",
    "Use DQN to reach the target.\n",
    "\n",
    " - Run env at 60 fps (under 60 it srcew up)\n",
    " - Set a sim_factor to 5 to make the env_freq 5x slower than the sim_freq\n",
    " - Expose 2 phases_biases (0,65)\n",
    " - Performe 6 discrete action (\n",
    "    - do noting, \n",
    "    - increase phases_biases 0\n",
    "    - decrease phases_biases 0\n",
    "    - increase phases_biases 65\n",
    "    - decrease phases_biases 65\n",
    "    )\n",
    " - Observe 3 continuous values \n",
    "    - phase_biases 0 [-1, 1]\n",
    "    - phase_biases 65 [-1, 1]\n",
    "    - alignement [-1,1]\n",
    "\n",
    "Task:\n",
    "    Map phase_biase 0 and 65 incrementation according to current phase_biases 0 and 65 and current alignment.\n",
    "     \n",
    "\n",
    "'''\n",
    "\n",
    "name = 'dqn_spidy_v4_4'\n",
    "env_id = \"Spidy-v4_4\"\n",
    "sim_frequence = 60\n",
    "sim_factor = 60\n",
    "n_steps = 60\n",
    "n_envs = 1\n",
    "exposed_phases_indexes = [0,65]\n",
    "action_mode = \"discrete\"\n",
    "\n",
    "policy = 'MlpPolicy'\n",
    "tensorboard_log = f\"./{name}/t_logs/\"\n",
    "save_path = f\"./{name}/model/\"\n",
    "path = f\"./{name}/model/{name}\"\n",
    "log_path = f\"./{name}/logs/\"\n",
    "device = 'cpu'\n",
    "\n",
    "def make_env(render_mode:str=None, debug_mode = False):\n",
    "    return gym.make(\n",
    "        env_id, \n",
    "        sim_frequence=sim_frequence,\n",
    "        sim_factor=sim_factor,\n",
    "        max_episode_steps=n_steps, \n",
    "        exposed_phases_indexes= exposed_phases_indexes, \n",
    "        render_mode=render_mode,\n",
    "        debug_mode= debug_mode,\n",
    "        action_mode=action_mode,\n",
    "        )\n",
    "    "
   ]
  },
  {
   "cell_type": "markdown",
   "metadata": {},
   "source": [
    "# Test action"
   ]
  },
  {
   "cell_type": "code",
   "execution_count": 5,
   "metadata": {},
   "outputs": [
    {
     "ename": "error",
     "evalue": "Only one local in-process GUI/GUI_SERVER connection allowed. Use DIRECT connection mode or start a separate GUI physics server (ExampleBrowser, App_SharedMemoryPhysics_GUI, App_SharedMemoryPhysics_VR) and connect over SHARED_MEMORY, UDP or TCP instead.",
     "output_type": "error",
     "traceback": [
      "\u001b[0;31m---------------------------------------------------------------------------\u001b[0m",
      "\u001b[0;31merror\u001b[0m                                     Traceback (most recent call last)",
      "Cell \u001b[0;32mIn[5], line 1\u001b[0m\n\u001b[0;32m----> 1\u001b[0m env \u001b[38;5;241m=\u001b[39m \u001b[43mmake_env\u001b[49m\u001b[43m(\u001b[49m\u001b[43mrender_mode\u001b[49m\u001b[38;5;241;43m=\u001b[39;49m\u001b[38;5;124;43m\"\u001b[39;49m\u001b[38;5;124;43mhuman\u001b[39;49m\u001b[38;5;124;43m\"\u001b[39;49m\u001b[43m)\u001b[49m\n\u001b[1;32m      2\u001b[0m obs, info \u001b[38;5;241m=\u001b[39m env\u001b[38;5;241m.\u001b[39mreset()\n\u001b[1;32m      4\u001b[0m \u001b[38;5;28mprint\u001b[39m(\u001b[38;5;124mf\u001b[39m\u001b[38;5;124m\"\u001b[39m\u001b[38;5;124mFirst Obs: \u001b[39m\u001b[38;5;132;01m{\u001b[39;00mobs\u001b[38;5;132;01m}\u001b[39;00m\u001b[38;5;124m\"\u001b[39m)\n",
      "Cell \u001b[0;32mIn[4], line 55\u001b[0m, in \u001b[0;36mmake_env\u001b[0;34m(render_mode, debug_mode)\u001b[0m\n\u001b[1;32m     54\u001b[0m \u001b[38;5;28;01mdef\u001b[39;00m \u001b[38;5;21mmake_env\u001b[39m(render_mode:\u001b[38;5;28mstr\u001b[39m\u001b[38;5;241m=\u001b[39m\u001b[38;5;28;01mNone\u001b[39;00m, debug_mode \u001b[38;5;241m=\u001b[39m \u001b[38;5;28;01mFalse\u001b[39;00m):\n\u001b[0;32m---> 55\u001b[0m     \u001b[38;5;28;01mreturn\u001b[39;00m \u001b[43mgym\u001b[49m\u001b[38;5;241;43m.\u001b[39;49m\u001b[43mmake\u001b[49m\u001b[43m(\u001b[49m\n\u001b[1;32m     56\u001b[0m \u001b[43m        \u001b[49m\u001b[43menv_id\u001b[49m\u001b[43m,\u001b[49m\u001b[43m \u001b[49m\n\u001b[1;32m     57\u001b[0m \u001b[43m        \u001b[49m\u001b[43msim_frequence\u001b[49m\u001b[38;5;241;43m=\u001b[39;49m\u001b[43msim_frequence\u001b[49m\u001b[43m,\u001b[49m\n\u001b[1;32m     58\u001b[0m \u001b[43m        \u001b[49m\u001b[43msim_factor\u001b[49m\u001b[38;5;241;43m=\u001b[39;49m\u001b[43msim_factor\u001b[49m\u001b[43m,\u001b[49m\n\u001b[1;32m     59\u001b[0m \u001b[43m        \u001b[49m\u001b[43mmax_episode_steps\u001b[49m\u001b[38;5;241;43m=\u001b[39;49m\u001b[43mn_steps\u001b[49m\u001b[43m,\u001b[49m\u001b[43m \u001b[49m\n\u001b[1;32m     60\u001b[0m \u001b[43m        \u001b[49m\u001b[43mexposed_phases_indexes\u001b[49m\u001b[38;5;241;43m=\u001b[39;49m\u001b[43m \u001b[49m\u001b[43mexposed_phases_indexes\u001b[49m\u001b[43m,\u001b[49m\u001b[43m \u001b[49m\n\u001b[1;32m     61\u001b[0m \u001b[43m        \u001b[49m\u001b[43mrender_mode\u001b[49m\u001b[38;5;241;43m=\u001b[39;49m\u001b[43mrender_mode\u001b[49m\u001b[43m,\u001b[49m\n\u001b[1;32m     62\u001b[0m \u001b[43m        \u001b[49m\u001b[43mdebug_mode\u001b[49m\u001b[38;5;241;43m=\u001b[39;49m\u001b[43m \u001b[49m\u001b[43mdebug_mode\u001b[49m\u001b[43m,\u001b[49m\n\u001b[1;32m     63\u001b[0m \u001b[43m        \u001b[49m\u001b[43maction_mode\u001b[49m\u001b[38;5;241;43m=\u001b[39;49m\u001b[43maction_mode\u001b[49m\u001b[43m,\u001b[49m\n\u001b[1;32m     64\u001b[0m \u001b[43m        \u001b[49m\u001b[43m)\u001b[49m\n",
      "File \u001b[0;32m~/Documents/dorvan/Babydoll/Produits/Babybot-01/Informatic-01/venv/hostEnv/lib/python3.10/site-packages/gymnasium/envs/registration.py:740\u001b[0m, in \u001b[0;36mmake\u001b[0;34m(id, max_episode_steps, disable_env_checker, **kwargs)\u001b[0m\n\u001b[1;32m    734\u001b[0m         logger\u001b[38;5;241m.\u001b[39mwarn(\n\u001b[1;32m    735\u001b[0m             \u001b[38;5;124mf\u001b[39m\u001b[38;5;124m\"\u001b[39m\u001b[38;5;124mThe environment is being initialised with render_mode=\u001b[39m\u001b[38;5;132;01m{\u001b[39;00mrender_mode\u001b[38;5;132;01m!r}\u001b[39;00m\u001b[38;5;124m \u001b[39m\u001b[38;5;124m\"\u001b[39m\n\u001b[1;32m    736\u001b[0m             \u001b[38;5;124mf\u001b[39m\u001b[38;5;124m\"\u001b[39m\u001b[38;5;124mthat is not in the possible render_modes (\u001b[39m\u001b[38;5;132;01m{\u001b[39;00mrender_modes\u001b[38;5;132;01m}\u001b[39;00m\u001b[38;5;124m).\u001b[39m\u001b[38;5;124m\"\u001b[39m\n\u001b[1;32m    737\u001b[0m         )\n\u001b[1;32m    739\u001b[0m \u001b[38;5;28;01mtry\u001b[39;00m:\n\u001b[0;32m--> 740\u001b[0m     env \u001b[38;5;241m=\u001b[39m \u001b[43menv_creator\u001b[49m\u001b[43m(\u001b[49m\u001b[38;5;241;43m*\u001b[39;49m\u001b[38;5;241;43m*\u001b[39;49m\u001b[43menv_spec_kwargs\u001b[49m\u001b[43m)\u001b[49m\n\u001b[1;32m    741\u001b[0m \u001b[38;5;28;01mexcept\u001b[39;00m \u001b[38;5;167;01mTypeError\u001b[39;00m \u001b[38;5;28;01mas\u001b[39;00m e:\n\u001b[1;32m    742\u001b[0m     \u001b[38;5;28;01mif\u001b[39;00m (\n\u001b[1;32m    743\u001b[0m         \u001b[38;5;28mstr\u001b[39m(e)\u001b[38;5;241m.\u001b[39mfind(\u001b[38;5;124m\"\u001b[39m\u001b[38;5;124mgot an unexpected keyword argument \u001b[39m\u001b[38;5;124m'\u001b[39m\u001b[38;5;124mrender_mode\u001b[39m\u001b[38;5;124m'\u001b[39m\u001b[38;5;124m\"\u001b[39m) \u001b[38;5;241m>\u001b[39m\u001b[38;5;241m=\u001b[39m \u001b[38;5;241m0\u001b[39m\n\u001b[1;32m    744\u001b[0m         \u001b[38;5;129;01mand\u001b[39;00m apply_human_rendering\n\u001b[1;32m    745\u001b[0m     ):\n",
      "File \u001b[0;32m~/Documents/dorvan/Babydoll/Produits/Babybot-01/Informatic-01/Create_environment/babybot01_env/babybot01_env/envs/spidyv4_4.py:282\u001b[0m, in \u001b[0;36mSpidyEnvV4_4.__init__\u001b[0;34m(self, sim_frequence, sim_factor, render_mode, exposed_phases_indexes, action_mode, debug_mode)\u001b[0m\n\u001b[1;32m    279\u001b[0m \u001b[38;5;28mself\u001b[39m\u001b[38;5;241m.\u001b[39mcpg_network \u001b[38;5;241m=\u001b[39m \u001b[38;5;28mself\u001b[39m\u001b[38;5;241m.\u001b[39mbase_cpg_network\n\u001b[1;32m    281\u001b[0m \u001b[38;5;66;03m# PyBullet\u001b[39;00m\n\u001b[0;32m--> 282\u001b[0m \u001b[43mp\u001b[49m\u001b[38;5;241;43m.\u001b[39;49m\u001b[43mconnect\u001b[49m\u001b[43m(\u001b[49m\u001b[43mp\u001b[49m\u001b[38;5;241;43m.\u001b[39;49m\u001b[43mGUI\u001b[49m\u001b[43m \u001b[49m\u001b[38;5;28;43;01mif\u001b[39;49;00m\u001b[43m \u001b[49m\u001b[38;5;28;43mself\u001b[39;49m\u001b[38;5;241;43m.\u001b[39;49m\u001b[43mrender_mode\u001b[49m\u001b[43m \u001b[49m\u001b[38;5;241;43m==\u001b[39;49m\u001b[43m \u001b[49m\u001b[38;5;124;43m\"\u001b[39;49m\u001b[38;5;124;43mhuman\u001b[39;49m\u001b[38;5;124;43m\"\u001b[39;49m\u001b[43m \u001b[49m\u001b[38;5;28;43;01melse\u001b[39;49;00m\u001b[43m \u001b[49m\u001b[43mp\u001b[49m\u001b[38;5;241;43m.\u001b[39;49m\u001b[43mDIRECT\u001b[49m\u001b[43m)\u001b[49m\n\u001b[1;32m    283\u001b[0m p\u001b[38;5;241m.\u001b[39msetAdditionalSearchPath(pybullet_data\u001b[38;5;241m.\u001b[39mgetDataPath())\n\u001b[1;32m    284\u001b[0m p\u001b[38;5;241m.\u001b[39msetGravity(\u001b[38;5;241m0\u001b[39m, \u001b[38;5;241m0\u001b[39m, \u001b[38;5;241m-\u001b[39m\u001b[38;5;241m9.81\u001b[39m)\n",
      "\u001b[0;31merror\u001b[0m: Only one local in-process GUI/GUI_SERVER connection allowed. Use DIRECT connection mode or start a separate GUI physics server (ExampleBrowser, App_SharedMemoryPhysics_GUI, App_SharedMemoryPhysics_VR) and connect over SHARED_MEMORY, UDP or TCP instead."
     ]
    }
   ],
   "source": [
    "env = make_env(render_mode=\"human\")\n",
    "obs, info = env.reset()\n",
    "\n",
    "print(f\"First Obs: {obs}\")\n",
    "#print(f\"First Phases biases: {info['phase_biases']}\")\n",
    "\n",
    "action = [0.1, -0.1]\n",
    "obs, rew, terminated, truncated, info = env.step(action)\n",
    "\n",
    "print(f\"After action Obs: {obs}\")\n",
    "#print(f\"Second Phases biases: {info['phase_biases']}\")\n",
    "\n",
    "obs, info = env.reset()\n",
    "print(f\"After reset Obs: {obs}\")\n",
    "\n",
    "env.close()\n"
   ]
  },
  {
   "cell_type": "markdown",
   "metadata": {},
   "source": [
    "# Test Env"
   ]
  },
  {
   "cell_type": "code",
   "execution_count": 2,
   "metadata": {},
   "outputs": [
    {
     "name": "stderr",
     "output_type": "stream",
     "text": [
      "pybullet build time: Nov 28 2023 23:45:17\n"
     ]
    },
    {
     "name": "stdout",
     "output_type": "stream",
     "text": [
      "startThreads creating 1 threads.\n",
      "starting thread 0\n",
      "started thread 0 \n",
      "argc=2\n",
      "argv[0] = --unused\n",
      "argv[1] = --start_demo_name=Physics Server\n",
      "ExampleBrowserThreadFunc started\n",
      "X11 functions dynamically loaded using dlopen/dlsym OK!\n",
      "X11 functions dynamically loaded using dlopen/dlsym OK!\n",
      "Creating context\n",
      "Created GL 3.3 context\n",
      "Direct GLX rendering context obtained\n",
      "Making context current\n",
      "GL_VENDOR=Intel\n",
      "GL_RENDERER=Mesa Intel(R) UHD Graphics 620 (KBL GT2)\n",
      "GL_VERSION=4.6 (Core Profile) Mesa 23.2.1-1ubuntu3.1~22.04.2\n",
      "GL_SHADING_LANGUAGE_VERSION=4.60\n",
      "pthread_getconcurrency()=0\n",
      "Version = 4.6 (Core Profile) Mesa 23.2.1-1ubuntu3.1~22.04.2\n",
      "Vendor = Intel\n",
      "Renderer = Mesa Intel(R) UHD Graphics 620 (KBL GT2)\n",
      "b3Printf: Selected demo: Physics Server\n",
      "startThreads creating 1 threads.\n",
      "starting thread 0\n",
      "started thread 0 \n",
      "MotionThreadFunc thread started\n",
      "ven = Intel\n",
      "Workaround for some crash in the Intel OpenGL driver on Linux/Ubuntu\n",
      "ven = Intel\n",
      "Workaround for some crash in the Intel OpenGL driver on Linux/Ubuntu\n",
      "obs: [ 0.5         0.4        -0.44470656  0.30037642]\n",
      "rew: -14.845982972861727\n",
      "t: 0\n",
      "proximity_reward: -15.01882014418821, alignement_reward: 0.17283717132648393\n",
      "terminate: False, truncated: False\n",
      "obs: [ 0.6         0.4        -0.4339524   0.29988286]\n",
      "rew: 0.23068620134622417\n",
      "t: 1\n",
      "proximity_reward: 0.0246772308617893, alignement_reward: 0.20600897048443487\n",
      "terminate: False, truncated: False\n",
      "obs: [ 0.6         0.4        -0.45347962  0.29801488]\n",
      "rew: 0.23902805569012917\n",
      "t: 2\n",
      "proximity_reward: 0.09339967877669775, alignement_reward: 0.14562837691343142\n",
      "terminate: False, truncated: False\n",
      "obs: [ 0.6         0.4        -0.4856767   0.29684448]\n",
      "rew: 0.10350142084774869\n",
      "t: 3\n",
      "proximity_reward: 0.05851864902379322, alignement_reward: 0.04498277182395547\n",
      "terminate: False, truncated: False\n",
      "obs: [ 0.5         0.4        -0.51098853  0.29632533]\n",
      "rew: -0.008555754157926358\n",
      "t: 4\n",
      "proximity_reward: 0.025958885619739025, alignement_reward: -0.03451463977766538\n",
      "terminate: False, truncated: False\n",
      "obs: [ 0.4         0.4        -0.52574474  0.29663888]\n",
      "rew: -0.09646917718219096\n",
      "t: 5\n",
      "proximity_reward: -0.015677852950892746, alignement_reward: -0.08079132423129821\n",
      "terminate: False, truncated: False\n",
      "obs: [ 0.3         0.4        -0.5317415   0.29775354]\n",
      "rew: -0.15528705462301462\n",
      "t: 6\n",
      "proximity_reward: -0.0557333745010169, alignement_reward: -0.09955368012199771\n",
      "terminate: False, truncated: False\n",
      "obs: [ 0.4         0.4        -0.53930074  0.2990542 ]\n",
      "rew: -0.18818694869359923\n",
      "t: 7\n",
      "proximity_reward: -0.06503348426334599, alignement_reward: -0.12315346443025324\n",
      "terminate: False, truncated: False\n",
      "obs: [ 0.3         0.4        -0.54548866  0.30058596]\n",
      "rew: -0.2190076467151109\n",
      "t: 8\n",
      "proximity_reward: -0.07658673991501219, alignement_reward: -0.1424209068000987\n",
      "terminate: False, truncated: False\n",
      "obs: [ 0.3         0.5        -0.54990613  0.3024234 ]\n",
      "rew: -0.24801587371935793\n",
      "t: 9\n",
      "proximity_reward: -0.09187267176435254, alignement_reward: -0.1561432019550054\n",
      "terminate: False, truncated: False\n",
      "numActiveThreads = 0\n",
      "stopping threads\n",
      "Thread with taskId 0 exiting\n",
      "Thread TERMINATED\n",
      "destroy semaphore\n",
      "semaphore destroyed\n",
      "destroy main semaphore\n",
      "main semaphore destroyed\n",
      "finished\n",
      "numActiveThreads = 0\n",
      "btShutDownExampleBrowser stopping threads\n",
      "Thread with taskId 0 exiting\n",
      "Thread TERMINATED\n",
      "destroy semaphore\n",
      "semaphore destroyed\n",
      "destroy main semaphore\n",
      "main semaphore destroyed\n"
     ]
    }
   ],
   "source": [
    "# Execute Setup\n",
    "import nbformat\n",
    "from IPython import get_ipython\n",
    "with open(\"06_reach_DQN.ipynb\", \"r\", encoding=\"utf-8\") as f:\n",
    "    notebook = nbformat.read(f, as_version=4)\n",
    "for cell in notebook.cells:\n",
    "    if \"tags\" in cell.metadata and \"setup\" in cell.metadata.tags:\n",
    "        exec(cell.source)\n",
    "\n",
    "# Create Env\n",
    "env = make_env(debug_mode=False, render_mode='human')\n",
    "\n",
    "# Run env\n",
    "\n",
    "obs, info = env.reset()\n",
    "for t in range(10):\n",
    "    \n",
    "    action = np.random.randint(0, 5)\n",
    "    obs, rew, terminated, truncated, info = env.step(action)\n",
    "    print(f\"obs: {obs}\")\n",
    "    print(f\"rew: {rew}\")\n",
    "    print(f\"t: {t}\")\n",
    "    print(f\"proximity_reward: {info['proximity_reward']}, alignement_reward: {info['alignement_reward']}\")\n",
    "    print(f\"terminate: {terminated}, truncated: {truncated}\")\n",
    "    if terminated or truncated:\n",
    "        break\n",
    "\n",
    "env.close()"
   ]
  },
  {
   "cell_type": "markdown",
   "metadata": {},
   "source": [
    "# Create agent"
   ]
  },
  {
   "cell_type": "code",
   "execution_count": 3,
   "metadata": {},
   "outputs": [
    {
     "name": "stderr",
     "output_type": "stream",
     "text": [
      "/home/dorvan/Documents/dorvan/Babydoll/Produits/Babybot-01/Informatic-01/venv/hostEnv/lib/python3.10/site-packages/stable_baselines3/common/save_util.py:284: UserWarning: Path 'dqn_spidy_v4_4/model' does not exist. Will create it.\n",
      "  warnings.warn(f\"Path '{path.parent}' does not exist. Will create it.\")\n"
     ]
    }
   ],
   "source": [
    "train_env = make_env()\n",
    "\n",
    "# PPO\n",
    "# model = PPO(\n",
    "#     policy, \n",
    "#     train_env, \n",
    "#     batch_size = 30, \n",
    "#     verbose=0, \n",
    "#     n_steps=n_steps, \n",
    "#     tensorboard_log=tensorboard_log,\n",
    "#     ent_coef=0           \n",
    "# )\n",
    "\n",
    "model = DQN(\n",
    "    policy,\n",
    "    train_env,\n",
    "    verbose=0,\n",
    "    tensorboard_log=tensorboard_log\n",
    "    )\n",
    "\n",
    "model.save(path)"
   ]
  },
  {
   "cell_type": "markdown",
   "metadata": {},
   "source": [
    "# Train"
   ]
  },
  {
   "cell_type": "code",
   "execution_count": 2,
   "metadata": {},
   "outputs": [
    {
     "name": "stderr",
     "output_type": "stream",
     "text": [
      "pybullet build time: Nov 28 2023 23:45:17\n"
     ]
    },
    {
     "data": {
      "application/vnd.jupyter.widget-view+json": {
       "model_id": "e46c7512b36a4e7998ddf3b08ef0c837",
       "version_major": 2,
       "version_minor": 0
      },
      "text/plain": [
       "Output()"
      ]
     },
     "metadata": {},
     "output_type": "display_data"
    },
    {
     "data": {
      "text/html": [
       "<pre style=\"white-space:pre;overflow-x:auto;line-height:normal;font-family:Menlo,'DejaVu Sans Mono',consolas,'Courier New',monospace\">Saving model at step 1000 to ./dqn_spidy_v4_4/model/dqn_spidy_v4_4\n",
       "</pre>\n"
      ],
      "text/plain": [
       "Saving model at step 1000 to ./dqn_spidy_v4_4/model/dqn_spidy_v4_4\n"
      ]
     },
     "metadata": {},
     "output_type": "display_data"
    },
    {
     "data": {
      "text/html": [
       "<pre style=\"white-space:pre;overflow-x:auto;line-height:normal;font-family:Menlo,'DejaVu Sans Mono',consolas,'Courier New',monospace\">Eval num_timesteps=1000, episode_reward=-32.99 +/- 42.95\n",
       "</pre>\n"
      ],
      "text/plain": [
       "Eval num_timesteps=1000, episode_reward=-32.99 +/- 42.95\n"
      ]
     },
     "metadata": {},
     "output_type": "display_data"
    },
    {
     "data": {
      "text/html": [
       "<pre style=\"white-space:pre;overflow-x:auto;line-height:normal;font-family:Menlo,'DejaVu Sans Mono',consolas,'Courier New',monospace\">Episode length: 60.00 +/- 0.00\n",
       "</pre>\n"
      ],
      "text/plain": [
       "Episode length: 60.00 +/- 0.00\n"
      ]
     },
     "metadata": {},
     "output_type": "display_data"
    },
    {
     "data": {
      "text/html": [
       "<pre style=\"white-space:pre;overflow-x:auto;line-height:normal;font-family:Menlo,'DejaVu Sans Mono',consolas,'Courier New',monospace\">New best mean reward!\n",
       "</pre>\n"
      ],
      "text/plain": [
       "New best mean reward!\n"
      ]
     },
     "metadata": {},
     "output_type": "display_data"
    },
    {
     "data": {
      "text/html": [
       "<pre style=\"white-space:pre;overflow-x:auto;line-height:normal;font-family:Menlo,'DejaVu Sans Mono',consolas,'Courier New',monospace\">Saving model at step 2000 to ./dqn_spidy_v4_4/model/dqn_spidy_v4_4\n",
       "</pre>\n"
      ],
      "text/plain": [
       "Saving model at step 2000 to ./dqn_spidy_v4_4/model/dqn_spidy_v4_4\n"
      ]
     },
     "metadata": {},
     "output_type": "display_data"
    },
    {
     "data": {
      "text/html": [
       "<pre style=\"white-space:pre;overflow-x:auto;line-height:normal;font-family:Menlo,'DejaVu Sans Mono',consolas,'Courier New',monospace\">Eval num_timesteps=2000, episode_reward=-36.20 +/- 17.87\n",
       "</pre>\n"
      ],
      "text/plain": [
       "Eval num_timesteps=2000, episode_reward=-36.20 +/- 17.87\n"
      ]
     },
     "metadata": {},
     "output_type": "display_data"
    },
    {
     "data": {
      "text/html": [
       "<pre style=\"white-space:pre;overflow-x:auto;line-height:normal;font-family:Menlo,'DejaVu Sans Mono',consolas,'Courier New',monospace\">Episode length: 60.00 +/- 0.00\n",
       "</pre>\n"
      ],
      "text/plain": [
       "Episode length: 60.00 +/- 0.00\n"
      ]
     },
     "metadata": {},
     "output_type": "display_data"
    },
    {
     "data": {
      "text/html": [
       "<pre style=\"white-space:pre;overflow-x:auto;line-height:normal;font-family:Menlo,'DejaVu Sans Mono',consolas,'Courier New',monospace\">Saving model at step 3000 to ./dqn_spidy_v4_4/model/dqn_spidy_v4_4\n",
       "</pre>\n"
      ],
      "text/plain": [
       "Saving model at step 3000 to ./dqn_spidy_v4_4/model/dqn_spidy_v4_4\n"
      ]
     },
     "metadata": {},
     "output_type": "display_data"
    },
    {
     "data": {
      "text/html": [
       "<pre style=\"white-space:pre;overflow-x:auto;line-height:normal;font-family:Menlo,'DejaVu Sans Mono',consolas,'Courier New',monospace\">Eval num_timesteps=3000, episode_reward=1979.83 +/- 4041.25\n",
       "</pre>\n"
      ],
      "text/plain": [
       "Eval num_timesteps=3000, episode_reward=1979.83 +/- 4041.25\n"
      ]
     },
     "metadata": {},
     "output_type": "display_data"
    },
    {
     "data": {
      "text/html": [
       "<pre style=\"white-space:pre;overflow-x:auto;line-height:normal;font-family:Menlo,'DejaVu Sans Mono',consolas,'Courier New',monospace\">Episode length: 59.80 +/- 0.40\n",
       "</pre>\n"
      ],
      "text/plain": [
       "Episode length: 59.80 +/- 0.40\n"
      ]
     },
     "metadata": {},
     "output_type": "display_data"
    },
    {
     "data": {
      "text/html": [
       "<pre style=\"white-space:pre;overflow-x:auto;line-height:normal;font-family:Menlo,'DejaVu Sans Mono',consolas,'Courier New',monospace\">New best mean reward!\n",
       "</pre>\n"
      ],
      "text/plain": [
       "New best mean reward!\n"
      ]
     },
     "metadata": {},
     "output_type": "display_data"
    },
    {
     "data": {
      "text/html": [
       "<pre style=\"white-space:pre;overflow-x:auto;line-height:normal;font-family:Menlo,'DejaVu Sans Mono',consolas,'Courier New',monospace\">Saving model at step 4000 to ./dqn_spidy_v4_4/model/dqn_spidy_v4_4\n",
       "</pre>\n"
      ],
      "text/plain": [
       "Saving model at step 4000 to ./dqn_spidy_v4_4/model/dqn_spidy_v4_4\n"
      ]
     },
     "metadata": {},
     "output_type": "display_data"
    },
    {
     "data": {
      "text/html": [
       "<pre style=\"white-space:pre;overflow-x:auto;line-height:normal;font-family:Menlo,'DejaVu Sans Mono',consolas,'Courier New',monospace\">Eval num_timesteps=4000, episode_reward=1981.81 +/- 4038.70\n",
       "</pre>\n"
      ],
      "text/plain": [
       "Eval num_timesteps=4000, episode_reward=1981.81 +/- 4038.70\n"
      ]
     },
     "metadata": {},
     "output_type": "display_data"
    },
    {
     "data": {
      "text/html": [
       "<pre style=\"white-space:pre;overflow-x:auto;line-height:normal;font-family:Menlo,'DejaVu Sans Mono',consolas,'Courier New',monospace\">Episode length: 55.40 +/- 9.20\n",
       "</pre>\n"
      ],
      "text/plain": [
       "Episode length: 55.40 +/- 9.20\n"
      ]
     },
     "metadata": {},
     "output_type": "display_data"
    },
    {
     "data": {
      "text/html": [
       "<pre style=\"white-space:pre;overflow-x:auto;line-height:normal;font-family:Menlo,'DejaVu Sans Mono',consolas,'Courier New',monospace\">New best mean reward!\n",
       "</pre>\n"
      ],
      "text/plain": [
       "New best mean reward!\n"
      ]
     },
     "metadata": {},
     "output_type": "display_data"
    },
    {
     "data": {
      "text/html": [
       "<pre style=\"white-space:pre;overflow-x:auto;line-height:normal;font-family:Menlo,'DejaVu Sans Mono',consolas,'Courier New',monospace\">Saving model at step 5000 to ./dqn_spidy_v4_4/model/dqn_spidy_v4_4\n",
       "</pre>\n"
      ],
      "text/plain": [
       "Saving model at step 5000 to ./dqn_spidy_v4_4/model/dqn_spidy_v4_4\n"
      ]
     },
     "metadata": {},
     "output_type": "display_data"
    },
    {
     "data": {
      "text/html": [
       "<pre style=\"white-space:pre;overflow-x:auto;line-height:normal;font-family:Menlo,'DejaVu Sans Mono',consolas,'Courier New',monospace\">Eval num_timesteps=5000, episode_reward=-20.87 +/- 41.33\n",
       "</pre>\n"
      ],
      "text/plain": [
       "Eval num_timesteps=5000, episode_reward=-20.87 +/- 41.33\n"
      ]
     },
     "metadata": {},
     "output_type": "display_data"
    },
    {
     "data": {
      "text/html": [
       "<pre style=\"white-space:pre;overflow-x:auto;line-height:normal;font-family:Menlo,'DejaVu Sans Mono',consolas,'Courier New',monospace\">Episode length: 60.00 +/- 0.00\n",
       "</pre>\n"
      ],
      "text/plain": [
       "Episode length: 60.00 +/- 0.00\n"
      ]
     },
     "metadata": {},
     "output_type": "display_data"
    },
    {
     "data": {
      "text/html": [
       "<pre style=\"white-space:pre;overflow-x:auto;line-height:normal;font-family:Menlo,'DejaVu Sans Mono',consolas,'Courier New',monospace\">Saving model at step 6000 to ./dqn_spidy_v4_4/model/dqn_spidy_v4_4\n",
       "</pre>\n"
      ],
      "text/plain": [
       "Saving model at step 6000 to ./dqn_spidy_v4_4/model/dqn_spidy_v4_4\n"
      ]
     },
     "metadata": {},
     "output_type": "display_data"
    },
    {
     "data": {
      "text/html": [
       "<pre style=\"white-space:pre;overflow-x:auto;line-height:normal;font-family:Menlo,'DejaVu Sans Mono',consolas,'Courier New',monospace\">Eval num_timesteps=6000, episode_reward=1991.38 +/- 4029.46\n",
       "</pre>\n"
      ],
      "text/plain": [
       "Eval num_timesteps=6000, episode_reward=1991.38 +/- 4029.46\n"
      ]
     },
     "metadata": {},
     "output_type": "display_data"
    },
    {
     "data": {
      "text/html": [
       "<pre style=\"white-space:pre;overflow-x:auto;line-height:normal;font-family:Menlo,'DejaVu Sans Mono',consolas,'Courier New',monospace\">Episode length: 54.20 +/- 11.60\n",
       "</pre>\n"
      ],
      "text/plain": [
       "Episode length: 54.20 +/- 11.60\n"
      ]
     },
     "metadata": {},
     "output_type": "display_data"
    },
    {
     "data": {
      "text/html": [
       "<pre style=\"white-space:pre;overflow-x:auto;line-height:normal;font-family:Menlo,'DejaVu Sans Mono',consolas,'Courier New',monospace\">New best mean reward!\n",
       "</pre>\n"
      ],
      "text/plain": [
       "New best mean reward!\n"
      ]
     },
     "metadata": {},
     "output_type": "display_data"
    },
    {
     "data": {
      "text/html": [
       "<pre style=\"white-space:pre;overflow-x:auto;line-height:normal;font-family:Menlo,'DejaVu Sans Mono',consolas,'Courier New',monospace\">Saving model at step 7000 to ./dqn_spidy_v4_4/model/dqn_spidy_v4_4\n",
       "</pre>\n"
      ],
      "text/plain": [
       "Saving model at step 7000 to ./dqn_spidy_v4_4/model/dqn_spidy_v4_4\n"
      ]
     },
     "metadata": {},
     "output_type": "display_data"
    },
    {
     "data": {
      "text/html": [
       "<pre style=\"white-space:pre;overflow-x:auto;line-height:normal;font-family:Menlo,'DejaVu Sans Mono',consolas,'Courier New',monospace\">Eval num_timesteps=7000, episode_reward=-22.79 +/- 19.04\n",
       "</pre>\n"
      ],
      "text/plain": [
       "Eval num_timesteps=7000, episode_reward=-22.79 +/- 19.04\n"
      ]
     },
     "metadata": {},
     "output_type": "display_data"
    },
    {
     "data": {
      "text/html": [
       "<pre style=\"white-space:pre;overflow-x:auto;line-height:normal;font-family:Menlo,'DejaVu Sans Mono',consolas,'Courier New',monospace\">Episode length: 60.00 +/- 0.00\n",
       "</pre>\n"
      ],
      "text/plain": [
       "Episode length: 60.00 +/- 0.00\n"
      ]
     },
     "metadata": {},
     "output_type": "display_data"
    },
    {
     "data": {
      "text/html": [
       "<pre style=\"white-space:pre;overflow-x:auto;line-height:normal;font-family:Menlo,'DejaVu Sans Mono',consolas,'Courier New',monospace\">Saving model at step 8000 to ./dqn_spidy_v4_4/model/dqn_spidy_v4_4\n",
       "</pre>\n"
      ],
      "text/plain": [
       "Saving model at step 8000 to ./dqn_spidy_v4_4/model/dqn_spidy_v4_4\n"
      ]
     },
     "metadata": {},
     "output_type": "display_data"
    },
    {
     "data": {
      "text/html": [
       "<pre style=\"white-space:pre;overflow-x:auto;line-height:normal;font-family:Menlo,'DejaVu Sans Mono',consolas,'Courier New',monospace\">Eval num_timesteps=8000, episode_reward=-14.42 +/- 19.63\n",
       "</pre>\n"
      ],
      "text/plain": [
       "Eval num_timesteps=8000, episode_reward=-14.42 +/- 19.63\n"
      ]
     },
     "metadata": {},
     "output_type": "display_data"
    },
    {
     "data": {
      "text/html": [
       "<pre style=\"white-space:pre;overflow-x:auto;line-height:normal;font-family:Menlo,'DejaVu Sans Mono',consolas,'Courier New',monospace\">Episode length: 60.00 +/- 0.00\n",
       "</pre>\n"
      ],
      "text/plain": [
       "Episode length: 60.00 +/- 0.00\n"
      ]
     },
     "metadata": {},
     "output_type": "display_data"
    },
    {
     "data": {
      "text/html": [
       "<pre style=\"white-space:pre;overflow-x:auto;line-height:normal;font-family:Menlo,'DejaVu Sans Mono',consolas,'Courier New',monospace\">Saving model at step 9000 to ./dqn_spidy_v4_4/model/dqn_spidy_v4_4\n",
       "</pre>\n"
      ],
      "text/plain": [
       "Saving model at step 9000 to ./dqn_spidy_v4_4/model/dqn_spidy_v4_4\n"
      ]
     },
     "metadata": {},
     "output_type": "display_data"
    },
    {
     "data": {
      "text/html": [
       "<pre style=\"white-space:pre;overflow-x:auto;line-height:normal;font-family:Menlo,'DejaVu Sans Mono',consolas,'Courier New',monospace\">Eval num_timesteps=9000, episode_reward=-28.34 +/- 50.13\n",
       "</pre>\n"
      ],
      "text/plain": [
       "Eval num_timesteps=9000, episode_reward=-28.34 +/- 50.13\n"
      ]
     },
     "metadata": {},
     "output_type": "display_data"
    },
    {
     "data": {
      "text/html": [
       "<pre style=\"white-space:pre;overflow-x:auto;line-height:normal;font-family:Menlo,'DejaVu Sans Mono',consolas,'Courier New',monospace\">Episode length: 60.00 +/- 0.00\n",
       "</pre>\n"
      ],
      "text/plain": [
       "Episode length: 60.00 +/- 0.00\n"
      ]
     },
     "metadata": {},
     "output_type": "display_data"
    },
    {
     "data": {
      "text/html": [
       "<pre style=\"white-space:pre;overflow-x:auto;line-height:normal;font-family:Menlo,'DejaVu Sans Mono',consolas,'Courier New',monospace\">Saving model at step 10000 to ./dqn_spidy_v4_4/model/dqn_spidy_v4_4\n",
       "</pre>\n"
      ],
      "text/plain": [
       "Saving model at step 10000 to ./dqn_spidy_v4_4/model/dqn_spidy_v4_4\n"
      ]
     },
     "metadata": {},
     "output_type": "display_data"
    },
    {
     "data": {
      "text/html": [
       "<pre style=\"white-space:pre;overflow-x:auto;line-height:normal;font-family:Menlo,'DejaVu Sans Mono',consolas,'Courier New',monospace\">Eval num_timesteps=10000, episode_reward=1982.94 +/- 4035.94\n",
       "</pre>\n"
      ],
      "text/plain": [
       "Eval num_timesteps=10000, episode_reward=1982.94 +/- 4035.94\n"
      ]
     },
     "metadata": {},
     "output_type": "display_data"
    },
    {
     "data": {
      "text/html": [
       "<pre style=\"white-space:pre;overflow-x:auto;line-height:normal;font-family:Menlo,'DejaVu Sans Mono',consolas,'Courier New',monospace\">Episode length: 54.40 +/- 11.20\n",
       "</pre>\n"
      ],
      "text/plain": [
       "Episode length: 54.40 +/- 11.20\n"
      ]
     },
     "metadata": {},
     "output_type": "display_data"
    },
    {
     "data": {
      "text/html": [
       "<pre style=\"white-space:pre;overflow-x:auto;line-height:normal;font-family:Menlo,'DejaVu Sans Mono',consolas,'Courier New',monospace\">Saving model at step 11000 to ./dqn_spidy_v4_4/model/dqn_spidy_v4_4\n",
       "</pre>\n"
      ],
      "text/plain": [
       "Saving model at step 11000 to ./dqn_spidy_v4_4/model/dqn_spidy_v4_4\n"
      ]
     },
     "metadata": {},
     "output_type": "display_data"
    },
    {
     "data": {
      "text/html": [
       "<pre style=\"white-space:pre;overflow-x:auto;line-height:normal;font-family:Menlo,'DejaVu Sans Mono',consolas,'Courier New',monospace\">Eval num_timesteps=11000, episode_reward=2005.22 +/- 4014.90\n",
       "</pre>\n"
      ],
      "text/plain": [
       "Eval num_timesteps=11000, episode_reward=2005.22 +/- 4014.90\n"
      ]
     },
     "metadata": {},
     "output_type": "display_data"
    },
    {
     "data": {
      "text/html": [
       "<pre style=\"white-space:pre;overflow-x:auto;line-height:normal;font-family:Menlo,'DejaVu Sans Mono',consolas,'Courier New',monospace\">Episode length: 54.40 +/- 11.20\n",
       "</pre>\n"
      ],
      "text/plain": [
       "Episode length: 54.40 +/- 11.20\n"
      ]
     },
     "metadata": {},
     "output_type": "display_data"
    },
    {
     "data": {
      "text/html": [
       "<pre style=\"white-space:pre;overflow-x:auto;line-height:normal;font-family:Menlo,'DejaVu Sans Mono',consolas,'Courier New',monospace\">New best mean reward!\n",
       "</pre>\n"
      ],
      "text/plain": [
       "New best mean reward!\n"
      ]
     },
     "metadata": {},
     "output_type": "display_data"
    },
    {
     "data": {
      "text/html": [
       "<pre style=\"white-space:pre;overflow-x:auto;line-height:normal;font-family:Menlo,'DejaVu Sans Mono',consolas,'Courier New',monospace\">Saving model at step 12000 to ./dqn_spidy_v4_4/model/dqn_spidy_v4_4\n",
       "</pre>\n"
      ],
      "text/plain": [
       "Saving model at step 12000 to ./dqn_spidy_v4_4/model/dqn_spidy_v4_4\n"
      ]
     },
     "metadata": {},
     "output_type": "display_data"
    },
    {
     "data": {
      "text/html": [
       "<pre style=\"white-space:pre;overflow-x:auto;line-height:normal;font-family:Menlo,'DejaVu Sans Mono',consolas,'Courier New',monospace\">Eval num_timesteps=12000, episode_reward=1983.31 +/- 4036.58\n",
       "</pre>\n"
      ],
      "text/plain": [
       "Eval num_timesteps=12000, episode_reward=1983.31 +/- 4036.58\n"
      ]
     },
     "metadata": {},
     "output_type": "display_data"
    },
    {
     "data": {
      "text/html": [
       "<pre style=\"white-space:pre;overflow-x:auto;line-height:normal;font-family:Menlo,'DejaVu Sans Mono',consolas,'Courier New',monospace\">Episode length: 57.80 +/- 4.40\n",
       "</pre>\n"
      ],
      "text/plain": [
       "Episode length: 57.80 +/- 4.40\n"
      ]
     },
     "metadata": {},
     "output_type": "display_data"
    },
    {
     "data": {
      "text/html": [
       "<pre style=\"white-space:pre;overflow-x:auto;line-height:normal;font-family:Menlo,'DejaVu Sans Mono',consolas,'Courier New',monospace\">Saving model at step 13000 to ./dqn_spidy_v4_4/model/dqn_spidy_v4_4\n",
       "</pre>\n"
      ],
      "text/plain": [
       "Saving model at step 13000 to ./dqn_spidy_v4_4/model/dqn_spidy_v4_4\n"
      ]
     },
     "metadata": {},
     "output_type": "display_data"
    },
    {
     "data": {
      "text/html": [
       "<pre style=\"white-space:pre;overflow-x:auto;line-height:normal;font-family:Menlo,'DejaVu Sans Mono',consolas,'Courier New',monospace\">Eval num_timesteps=13000, episode_reward=-26.51 +/- 22.44\n",
       "</pre>\n"
      ],
      "text/plain": [
       "Eval num_timesteps=13000, episode_reward=-26.51 +/- 22.44\n"
      ]
     },
     "metadata": {},
     "output_type": "display_data"
    },
    {
     "data": {
      "text/html": [
       "<pre style=\"white-space:pre;overflow-x:auto;line-height:normal;font-family:Menlo,'DejaVu Sans Mono',consolas,'Courier New',monospace\">Episode length: 60.00 +/- 0.00\n",
       "</pre>\n"
      ],
      "text/plain": [
       "Episode length: 60.00 +/- 0.00\n"
      ]
     },
     "metadata": {},
     "output_type": "display_data"
    },
    {
     "data": {
      "text/html": [
       "<pre style=\"white-space:pre;overflow-x:auto;line-height:normal;font-family:Menlo,'DejaVu Sans Mono',consolas,'Courier New',monospace\">Saving model at step 14000 to ./dqn_spidy_v4_4/model/dqn_spidy_v4_4\n",
       "</pre>\n"
      ],
      "text/plain": [
       "Saving model at step 14000 to ./dqn_spidy_v4_4/model/dqn_spidy_v4_4\n"
      ]
     },
     "metadata": {},
     "output_type": "display_data"
    },
    {
     "data": {
      "text/html": [
       "<pre style=\"white-space:pre;overflow-x:auto;line-height:normal;font-family:Menlo,'DejaVu Sans Mono',consolas,'Courier New',monospace\">Eval num_timesteps=14000, episode_reward=-22.75 +/- 29.59\n",
       "</pre>\n"
      ],
      "text/plain": [
       "Eval num_timesteps=14000, episode_reward=-22.75 +/- 29.59\n"
      ]
     },
     "metadata": {},
     "output_type": "display_data"
    },
    {
     "data": {
      "text/html": [
       "<pre style=\"white-space:pre;overflow-x:auto;line-height:normal;font-family:Menlo,'DejaVu Sans Mono',consolas,'Courier New',monospace\">Episode length: 60.00 +/- 0.00\n",
       "</pre>\n"
      ],
      "text/plain": [
       "Episode length: 60.00 +/- 0.00\n"
      ]
     },
     "metadata": {},
     "output_type": "display_data"
    },
    {
     "data": {
      "text/html": [
       "<pre style=\"white-space:pre;overflow-x:auto;line-height:normal;font-family:Menlo,'DejaVu Sans Mono',consolas,'Courier New',monospace\">Saving model at step 15000 to ./dqn_spidy_v4_4/model/dqn_spidy_v4_4\n",
       "</pre>\n"
      ],
      "text/plain": [
       "Saving model at step 15000 to ./dqn_spidy_v4_4/model/dqn_spidy_v4_4\n"
      ]
     },
     "metadata": {},
     "output_type": "display_data"
    },
    {
     "data": {
      "text/html": [
       "<pre style=\"white-space:pre;overflow-x:auto;line-height:normal;font-family:Menlo,'DejaVu Sans Mono',consolas,'Courier New',monospace\">Eval num_timesteps=15000, episode_reward=1986.42 +/- 4034.76\n",
       "</pre>\n"
      ],
      "text/plain": [
       "Eval num_timesteps=15000, episode_reward=1986.42 +/- 4034.76\n"
      ]
     },
     "metadata": {},
     "output_type": "display_data"
    },
    {
     "data": {
      "text/html": [
       "<pre style=\"white-space:pre;overflow-x:auto;line-height:normal;font-family:Menlo,'DejaVu Sans Mono',consolas,'Courier New',monospace\">Episode length: 55.20 +/- 9.60\n",
       "</pre>\n"
      ],
      "text/plain": [
       "Episode length: 55.20 +/- 9.60\n"
      ]
     },
     "metadata": {},
     "output_type": "display_data"
    },
    {
     "data": {
      "text/html": [
       "<pre style=\"white-space:pre;overflow-x:auto;line-height:normal;font-family:Menlo,'DejaVu Sans Mono',consolas,'Courier New',monospace\">Saving model at step 16000 to ./dqn_spidy_v4_4/model/dqn_spidy_v4_4\n",
       "</pre>\n"
      ],
      "text/plain": [
       "Saving model at step 16000 to ./dqn_spidy_v4_4/model/dqn_spidy_v4_4\n"
      ]
     },
     "metadata": {},
     "output_type": "display_data"
    },
    {
     "data": {
      "text/html": [
       "<pre style=\"white-space:pre;overflow-x:auto;line-height:normal;font-family:Menlo,'DejaVu Sans Mono',consolas,'Courier New',monospace\">Eval num_timesteps=16000, episode_reward=-24.40 +/- 13.65\n",
       "</pre>\n"
      ],
      "text/plain": [
       "Eval num_timesteps=16000, episode_reward=-24.40 +/- 13.65\n"
      ]
     },
     "metadata": {},
     "output_type": "display_data"
    },
    {
     "data": {
      "text/html": [
       "<pre style=\"white-space:pre;overflow-x:auto;line-height:normal;font-family:Menlo,'DejaVu Sans Mono',consolas,'Courier New',monospace\">Episode length: 60.00 +/- 0.00\n",
       "</pre>\n"
      ],
      "text/plain": [
       "Episode length: 60.00 +/- 0.00\n"
      ]
     },
     "metadata": {},
     "output_type": "display_data"
    },
    {
     "data": {
      "text/html": [
       "<pre style=\"white-space:pre;overflow-x:auto;line-height:normal;font-family:Menlo,'DejaVu Sans Mono',consolas,'Courier New',monospace\">Saving model at step 17000 to ./dqn_spidy_v4_4/model/dqn_spidy_v4_4\n",
       "</pre>\n"
      ],
      "text/plain": [
       "Saving model at step 17000 to ./dqn_spidy_v4_4/model/dqn_spidy_v4_4\n"
      ]
     },
     "metadata": {},
     "output_type": "display_data"
    },
    {
     "data": {
      "text/html": [
       "<pre style=\"white-space:pre;overflow-x:auto;line-height:normal;font-family:Menlo,'DejaVu Sans Mono',consolas,'Courier New',monospace\">Eval num_timesteps=17000, episode_reward=-35.11 +/- 12.91\n",
       "</pre>\n"
      ],
      "text/plain": [
       "Eval num_timesteps=17000, episode_reward=-35.11 +/- 12.91\n"
      ]
     },
     "metadata": {},
     "output_type": "display_data"
    },
    {
     "data": {
      "text/html": [
       "<pre style=\"white-space:pre;overflow-x:auto;line-height:normal;font-family:Menlo,'DejaVu Sans Mono',consolas,'Courier New',monospace\">Episode length: 60.00 +/- 0.00\n",
       "</pre>\n"
      ],
      "text/plain": [
       "Episode length: 60.00 +/- 0.00\n"
      ]
     },
     "metadata": {},
     "output_type": "display_data"
    },
    {
     "data": {
      "text/html": [
       "<pre style=\"white-space:pre;overflow-x:auto;line-height:normal;font-family:Menlo,'DejaVu Sans Mono',consolas,'Courier New',monospace\">Saving model at step 18000 to ./dqn_spidy_v4_4/model/dqn_spidy_v4_4\n",
       "</pre>\n"
      ],
      "text/plain": [
       "Saving model at step 18000 to ./dqn_spidy_v4_4/model/dqn_spidy_v4_4\n"
      ]
     },
     "metadata": {},
     "output_type": "display_data"
    },
    {
     "data": {
      "text/html": [
       "<pre style=\"white-space:pre;overflow-x:auto;line-height:normal;font-family:Menlo,'DejaVu Sans Mono',consolas,'Courier New',monospace\">Eval num_timesteps=18000, episode_reward=-29.41 +/- 46.24\n",
       "</pre>\n"
      ],
      "text/plain": [
       "Eval num_timesteps=18000, episode_reward=-29.41 +/- 46.24\n"
      ]
     },
     "metadata": {},
     "output_type": "display_data"
    },
    {
     "data": {
      "text/html": [
       "<pre style=\"white-space:pre;overflow-x:auto;line-height:normal;font-family:Menlo,'DejaVu Sans Mono',consolas,'Courier New',monospace\">Episode length: 60.00 +/- 0.00\n",
       "</pre>\n"
      ],
      "text/plain": [
       "Episode length: 60.00 +/- 0.00\n"
      ]
     },
     "metadata": {},
     "output_type": "display_data"
    },
    {
     "data": {
      "text/html": [
       "<pre style=\"white-space:pre;overflow-x:auto;line-height:normal;font-family:Menlo,'DejaVu Sans Mono',consolas,'Courier New',monospace\">Saving model at step 19000 to ./dqn_spidy_v4_4/model/dqn_spidy_v4_4\n",
       "</pre>\n"
      ],
      "text/plain": [
       "Saving model at step 19000 to ./dqn_spidy_v4_4/model/dqn_spidy_v4_4\n"
      ]
     },
     "metadata": {},
     "output_type": "display_data"
    },
    {
     "data": {
      "text/html": [
       "<pre style=\"white-space:pre;overflow-x:auto;line-height:normal;font-family:Menlo,'DejaVu Sans Mono',consolas,'Courier New',monospace\">Eval num_timesteps=19000, episode_reward=-21.65 +/- 19.82\n",
       "</pre>\n"
      ],
      "text/plain": [
       "Eval num_timesteps=19000, episode_reward=-21.65 +/- 19.82\n"
      ]
     },
     "metadata": {},
     "output_type": "display_data"
    },
    {
     "data": {
      "text/html": [
       "<pre style=\"white-space:pre;overflow-x:auto;line-height:normal;font-family:Menlo,'DejaVu Sans Mono',consolas,'Courier New',monospace\">Episode length: 60.00 +/- 0.00\n",
       "</pre>\n"
      ],
      "text/plain": [
       "Episode length: 60.00 +/- 0.00\n"
      ]
     },
     "metadata": {},
     "output_type": "display_data"
    },
    {
     "data": {
      "text/html": [
       "<pre style=\"white-space:pre;overflow-x:auto;line-height:normal;font-family:Menlo,'DejaVu Sans Mono',consolas,'Courier New',monospace\">Saving model at step 20000 to ./dqn_spidy_v4_4/model/dqn_spidy_v4_4\n",
       "</pre>\n"
      ],
      "text/plain": [
       "Saving model at step 20000 to ./dqn_spidy_v4_4/model/dqn_spidy_v4_4\n"
      ]
     },
     "metadata": {},
     "output_type": "display_data"
    },
    {
     "data": {
      "text/html": [
       "<pre style=\"white-space:pre;overflow-x:auto;line-height:normal;font-family:Menlo,'DejaVu Sans Mono',consolas,'Courier New',monospace\">Eval num_timesteps=20000, episode_reward=-24.25 +/- 36.24\n",
       "</pre>\n"
      ],
      "text/plain": [
       "Eval num_timesteps=20000, episode_reward=-24.25 +/- 36.24\n"
      ]
     },
     "metadata": {},
     "output_type": "display_data"
    },
    {
     "data": {
      "text/html": [
       "<pre style=\"white-space:pre;overflow-x:auto;line-height:normal;font-family:Menlo,'DejaVu Sans Mono',consolas,'Courier New',monospace\">Episode length: 60.00 +/- 0.00\n",
       "</pre>\n"
      ],
      "text/plain": [
       "Episode length: 60.00 +/- 0.00\n"
      ]
     },
     "metadata": {},
     "output_type": "display_data"
    },
    {
     "data": {
      "text/html": [
       "<pre style=\"white-space:pre;overflow-x:auto;line-height:normal;font-family:Menlo,'DejaVu Sans Mono',consolas,'Courier New',monospace\">Saving model at step 21000 to ./dqn_spidy_v4_4/model/dqn_spidy_v4_4\n",
       "</pre>\n"
      ],
      "text/plain": [
       "Saving model at step 21000 to ./dqn_spidy_v4_4/model/dqn_spidy_v4_4\n"
      ]
     },
     "metadata": {},
     "output_type": "display_data"
    },
    {
     "data": {
      "text/html": [
       "<pre style=\"white-space:pre;overflow-x:auto;line-height:normal;font-family:Menlo,'DejaVu Sans Mono',consolas,'Courier New',monospace\">Eval num_timesteps=21000, episode_reward=-25.95 +/- 35.93\n",
       "</pre>\n"
      ],
      "text/plain": [
       "Eval num_timesteps=21000, episode_reward=-25.95 +/- 35.93\n"
      ]
     },
     "metadata": {},
     "output_type": "display_data"
    },
    {
     "data": {
      "text/html": [
       "<pre style=\"white-space:pre;overflow-x:auto;line-height:normal;font-family:Menlo,'DejaVu Sans Mono',consolas,'Courier New',monospace\">Episode length: 60.00 +/- 0.00\n",
       "</pre>\n"
      ],
      "text/plain": [
       "Episode length: 60.00 +/- 0.00\n"
      ]
     },
     "metadata": {},
     "output_type": "display_data"
    },
    {
     "data": {
      "text/html": [
       "<pre style=\"white-space:pre;overflow-x:auto;line-height:normal;font-family:Menlo,'DejaVu Sans Mono',consolas,'Courier New',monospace\">Saving model at step 22000 to ./dqn_spidy_v4_4/model/dqn_spidy_v4_4\n",
       "</pre>\n"
      ],
      "text/plain": [
       "Saving model at step 22000 to ./dqn_spidy_v4_4/model/dqn_spidy_v4_4\n"
      ]
     },
     "metadata": {},
     "output_type": "display_data"
    },
    {
     "data": {
      "text/html": [
       "<pre style=\"white-space:pre;overflow-x:auto;line-height:normal;font-family:Menlo,'DejaVu Sans Mono',consolas,'Courier New',monospace\">Eval num_timesteps=22000, episode_reward=-29.41 +/- 30.36\n",
       "</pre>\n"
      ],
      "text/plain": [
       "Eval num_timesteps=22000, episode_reward=-29.41 +/- 30.36\n"
      ]
     },
     "metadata": {},
     "output_type": "display_data"
    },
    {
     "data": {
      "text/html": [
       "<pre style=\"white-space:pre;overflow-x:auto;line-height:normal;font-family:Menlo,'DejaVu Sans Mono',consolas,'Courier New',monospace\">Episode length: 60.00 +/- 0.00\n",
       "</pre>\n"
      ],
      "text/plain": [
       "Episode length: 60.00 +/- 0.00\n"
      ]
     },
     "metadata": {},
     "output_type": "display_data"
    },
    {
     "data": {
      "text/html": [
       "<pre style=\"white-space:pre;overflow-x:auto;line-height:normal;font-family:Menlo,'DejaVu Sans Mono',consolas,'Courier New',monospace\">Saving model at step 23000 to ./dqn_spidy_v4_4/model/dqn_spidy_v4_4\n",
       "</pre>\n"
      ],
      "text/plain": [
       "Saving model at step 23000 to ./dqn_spidy_v4_4/model/dqn_spidy_v4_4\n"
      ]
     },
     "metadata": {},
     "output_type": "display_data"
    },
    {
     "data": {
      "text/html": [
       "<pre style=\"white-space:pre;overflow-x:auto;line-height:normal;font-family:Menlo,'DejaVu Sans Mono',consolas,'Courier New',monospace\">Eval num_timesteps=23000, episode_reward=-38.08 +/- 25.67\n",
       "</pre>\n"
      ],
      "text/plain": [
       "Eval num_timesteps=23000, episode_reward=-38.08 +/- 25.67\n"
      ]
     },
     "metadata": {},
     "output_type": "display_data"
    },
    {
     "data": {
      "text/html": [
       "<pre style=\"white-space:pre;overflow-x:auto;line-height:normal;font-family:Menlo,'DejaVu Sans Mono',consolas,'Courier New',monospace\">Episode length: 60.00 +/- 0.00\n",
       "</pre>\n"
      ],
      "text/plain": [
       "Episode length: 60.00 +/- 0.00\n"
      ]
     },
     "metadata": {},
     "output_type": "display_data"
    },
    {
     "data": {
      "text/html": [
       "<pre style=\"white-space:pre;overflow-x:auto;line-height:normal;font-family:Menlo,'DejaVu Sans Mono',consolas,'Courier New',monospace\">Saving model at step 24000 to ./dqn_spidy_v4_4/model/dqn_spidy_v4_4\n",
       "</pre>\n"
      ],
      "text/plain": [
       "Saving model at step 24000 to ./dqn_spidy_v4_4/model/dqn_spidy_v4_4\n"
      ]
     },
     "metadata": {},
     "output_type": "display_data"
    },
    {
     "data": {
      "text/html": [
       "<pre style=\"white-space:pre;overflow-x:auto;line-height:normal;font-family:Menlo,'DejaVu Sans Mono',consolas,'Courier New',monospace\">Eval num_timesteps=24000, episode_reward=1988.93 +/- 4032.69\n",
       "</pre>\n"
      ],
      "text/plain": [
       "Eval num_timesteps=24000, episode_reward=1988.93 +/- 4032.69\n"
      ]
     },
     "metadata": {},
     "output_type": "display_data"
    },
    {
     "data": {
      "text/html": [
       "<pre style=\"white-space:pre;overflow-x:auto;line-height:normal;font-family:Menlo,'DejaVu Sans Mono',consolas,'Courier New',monospace\">Episode length: 57.00 +/- 6.00\n",
       "</pre>\n"
      ],
      "text/plain": [
       "Episode length: 57.00 +/- 6.00\n"
      ]
     },
     "metadata": {},
     "output_type": "display_data"
    },
    {
     "data": {
      "text/html": [
       "<pre style=\"white-space:pre;overflow-x:auto;line-height:normal;font-family:Menlo,'DejaVu Sans Mono',consolas,'Courier New',monospace\">Saving model at step 25000 to ./dqn_spidy_v4_4/model/dqn_spidy_v4_4\n",
       "</pre>\n"
      ],
      "text/plain": [
       "Saving model at step 25000 to ./dqn_spidy_v4_4/model/dqn_spidy_v4_4\n"
      ]
     },
     "metadata": {},
     "output_type": "display_data"
    },
    {
     "data": {
      "text/html": [
       "<pre style=\"white-space:pre;overflow-x:auto;line-height:normal;font-family:Menlo,'DejaVu Sans Mono',consolas,'Courier New',monospace\">Eval num_timesteps=25000, episode_reward=1999.19 +/- 4026.52\n",
       "</pre>\n"
      ],
      "text/plain": [
       "Eval num_timesteps=25000, episode_reward=1999.19 +/- 4026.52\n"
      ]
     },
     "metadata": {},
     "output_type": "display_data"
    },
    {
     "data": {
      "text/html": [
       "<pre style=\"white-space:pre;overflow-x:auto;line-height:normal;font-family:Menlo,'DejaVu Sans Mono',consolas,'Courier New',monospace\">Episode length: 54.60 +/- 10.80\n",
       "</pre>\n"
      ],
      "text/plain": [
       "Episode length: 54.60 +/- 10.80\n"
      ]
     },
     "metadata": {},
     "output_type": "display_data"
    },
    {
     "data": {
      "text/html": [
       "<pre style=\"white-space:pre;overflow-x:auto;line-height:normal;font-family:Menlo,'DejaVu Sans Mono',consolas,'Courier New',monospace\">Saving model at step 26000 to ./dqn_spidy_v4_4/model/dqn_spidy_v4_4\n",
       "</pre>\n"
      ],
      "text/plain": [
       "Saving model at step 26000 to ./dqn_spidy_v4_4/model/dqn_spidy_v4_4\n"
      ]
     },
     "metadata": {},
     "output_type": "display_data"
    },
    {
     "data": {
      "text/html": [
       "<pre style=\"white-space:pre;overflow-x:auto;line-height:normal;font-family:Menlo,'DejaVu Sans Mono',consolas,'Courier New',monospace\">Eval num_timesteps=26000, episode_reward=1965.13 +/- 4041.36\n",
       "</pre>\n"
      ],
      "text/plain": [
       "Eval num_timesteps=26000, episode_reward=1965.13 +/- 4041.36\n"
      ]
     },
     "metadata": {},
     "output_type": "display_data"
    },
    {
     "data": {
      "text/html": [
       "<pre style=\"white-space:pre;overflow-x:auto;line-height:normal;font-family:Menlo,'DejaVu Sans Mono',consolas,'Courier New',monospace\">Episode length: 54.60 +/- 10.80\n",
       "</pre>\n"
      ],
      "text/plain": [
       "Episode length: 54.60 +/- 10.80\n"
      ]
     },
     "metadata": {},
     "output_type": "display_data"
    },
    {
     "data": {
      "text/html": [
       "<pre style=\"white-space:pre;overflow-x:auto;line-height:normal;font-family:Menlo,'DejaVu Sans Mono',consolas,'Courier New',monospace\">Saving model at step 27000 to ./dqn_spidy_v4_4/model/dqn_spidy_v4_4\n",
       "</pre>\n"
      ],
      "text/plain": [
       "Saving model at step 27000 to ./dqn_spidy_v4_4/model/dqn_spidy_v4_4\n"
      ]
     },
     "metadata": {},
     "output_type": "display_data"
    },
    {
     "data": {
      "text/html": [
       "<pre style=\"white-space:pre;overflow-x:auto;line-height:normal;font-family:Menlo,'DejaVu Sans Mono',consolas,'Courier New',monospace\">Eval num_timesteps=27000, episode_reward=2.37 +/- 25.26\n",
       "</pre>\n"
      ],
      "text/plain": [
       "Eval num_timesteps=27000, episode_reward=2.37 +/- 25.26\n"
      ]
     },
     "metadata": {},
     "output_type": "display_data"
    },
    {
     "data": {
      "text/html": [
       "<pre style=\"white-space:pre;overflow-x:auto;line-height:normal;font-family:Menlo,'DejaVu Sans Mono',consolas,'Courier New',monospace\">Episode length: 60.00 +/- 0.00\n",
       "</pre>\n"
      ],
      "text/plain": [
       "Episode length: 60.00 +/- 0.00\n"
      ]
     },
     "metadata": {},
     "output_type": "display_data"
    },
    {
     "data": {
      "text/html": [
       "<pre style=\"white-space:pre;overflow-x:auto;line-height:normal;font-family:Menlo,'DejaVu Sans Mono',consolas,'Courier New',monospace\">Saving model at step 28000 to ./dqn_spidy_v4_4/model/dqn_spidy_v4_4\n",
       "</pre>\n"
      ],
      "text/plain": [
       "Saving model at step 28000 to ./dqn_spidy_v4_4/model/dqn_spidy_v4_4\n"
      ]
     },
     "metadata": {},
     "output_type": "display_data"
    },
    {
     "data": {
      "text/html": [
       "<pre style=\"white-space:pre;overflow-x:auto;line-height:normal;font-family:Menlo,'DejaVu Sans Mono',consolas,'Courier New',monospace\">Eval num_timesteps=28000, episode_reward=-15.18 +/- 21.02\n",
       "</pre>\n"
      ],
      "text/plain": [
       "Eval num_timesteps=28000, episode_reward=-15.18 +/- 21.02\n"
      ]
     },
     "metadata": {},
     "output_type": "display_data"
    },
    {
     "data": {
      "text/html": [
       "<pre style=\"white-space:pre;overflow-x:auto;line-height:normal;font-family:Menlo,'DejaVu Sans Mono',consolas,'Courier New',monospace\">Episode length: 60.00 +/- 0.00\n",
       "</pre>\n"
      ],
      "text/plain": [
       "Episode length: 60.00 +/- 0.00\n"
      ]
     },
     "metadata": {},
     "output_type": "display_data"
    },
    {
     "data": {
      "text/html": [
       "<pre style=\"white-space:pre;overflow-x:auto;line-height:normal;font-family:Menlo,'DejaVu Sans Mono',consolas,'Courier New',monospace\">Saving model at step 29000 to ./dqn_spidy_v4_4/model/dqn_spidy_v4_4\n",
       "</pre>\n"
      ],
      "text/plain": [
       "Saving model at step 29000 to ./dqn_spidy_v4_4/model/dqn_spidy_v4_4\n"
      ]
     },
     "metadata": {},
     "output_type": "display_data"
    },
    {
     "data": {
      "text/html": [
       "<pre style=\"white-space:pre;overflow-x:auto;line-height:normal;font-family:Menlo,'DejaVu Sans Mono',consolas,'Courier New',monospace\">Eval num_timesteps=29000, episode_reward=1992.47 +/- 4025.93\n",
       "</pre>\n"
      ],
      "text/plain": [
       "Eval num_timesteps=29000, episode_reward=1992.47 +/- 4025.93\n"
      ]
     },
     "metadata": {},
     "output_type": "display_data"
    },
    {
     "data": {
      "text/html": [
       "<pre style=\"white-space:pre;overflow-x:auto;line-height:normal;font-family:Menlo,'DejaVu Sans Mono',consolas,'Courier New',monospace\">Episode length: 57.20 +/- 5.60\n",
       "</pre>\n"
      ],
      "text/plain": [
       "Episode length: 57.20 +/- 5.60\n"
      ]
     },
     "metadata": {},
     "output_type": "display_data"
    },
    {
     "data": {
      "text/html": [
       "<pre style=\"white-space:pre;overflow-x:auto;line-height:normal;font-family:Menlo,'DejaVu Sans Mono',consolas,'Courier New',monospace\">Saving model at step 30000 to ./dqn_spidy_v4_4/model/dqn_spidy_v4_4\n",
       "</pre>\n"
      ],
      "text/plain": [
       "Saving model at step 30000 to ./dqn_spidy_v4_4/model/dqn_spidy_v4_4\n"
      ]
     },
     "metadata": {},
     "output_type": "display_data"
    },
    {
     "data": {
      "text/html": [
       "<pre style=\"white-space:pre;overflow-x:auto;line-height:normal;font-family:Menlo,'DejaVu Sans Mono',consolas,'Courier New',monospace\">Eval num_timesteps=30000, episode_reward=-2.93 +/- 17.59\n",
       "</pre>\n"
      ],
      "text/plain": [
       "Eval num_timesteps=30000, episode_reward=-2.93 +/- 17.59\n"
      ]
     },
     "metadata": {},
     "output_type": "display_data"
    },
    {
     "data": {
      "text/html": [
       "<pre style=\"white-space:pre;overflow-x:auto;line-height:normal;font-family:Menlo,'DejaVu Sans Mono',consolas,'Courier New',monospace\">Episode length: 60.00 +/- 0.00\n",
       "</pre>\n"
      ],
      "text/plain": [
       "Episode length: 60.00 +/- 0.00\n"
      ]
     },
     "metadata": {},
     "output_type": "display_data"
    },
    {
     "data": {
      "text/html": [
       "<pre style=\"white-space:pre;overflow-x:auto;line-height:normal;font-family:Menlo,'DejaVu Sans Mono',consolas,'Courier New',monospace\">Saving model at step 31000 to ./dqn_spidy_v4_4/model/dqn_spidy_v4_4\n",
       "</pre>\n"
      ],
      "text/plain": [
       "Saving model at step 31000 to ./dqn_spidy_v4_4/model/dqn_spidy_v4_4\n"
      ]
     },
     "metadata": {},
     "output_type": "display_data"
    },
    {
     "data": {
      "text/html": [
       "<pre style=\"white-space:pre;overflow-x:auto;line-height:normal;font-family:Menlo,'DejaVu Sans Mono',consolas,'Courier New',monospace\">Eval num_timesteps=31000, episode_reward=-2.52 +/- 26.34\n",
       "</pre>\n"
      ],
      "text/plain": [
       "Eval num_timesteps=31000, episode_reward=-2.52 +/- 26.34\n"
      ]
     },
     "metadata": {},
     "output_type": "display_data"
    },
    {
     "data": {
      "text/html": [
       "<pre style=\"white-space:pre;overflow-x:auto;line-height:normal;font-family:Menlo,'DejaVu Sans Mono',consolas,'Courier New',monospace\">Episode length: 60.00 +/- 0.00\n",
       "</pre>\n"
      ],
      "text/plain": [
       "Episode length: 60.00 +/- 0.00\n"
      ]
     },
     "metadata": {},
     "output_type": "display_data"
    },
    {
     "data": {
      "text/html": [
       "<pre style=\"white-space:pre;overflow-x:auto;line-height:normal;font-family:Menlo,'DejaVu Sans Mono',consolas,'Courier New',monospace\">Saving model at step 32000 to ./dqn_spidy_v4_4/model/dqn_spidy_v4_4\n",
       "</pre>\n"
      ],
      "text/plain": [
       "Saving model at step 32000 to ./dqn_spidy_v4_4/model/dqn_spidy_v4_4\n"
      ]
     },
     "metadata": {},
     "output_type": "display_data"
    },
    {
     "data": {
      "text/html": [
       "<pre style=\"white-space:pre;overflow-x:auto;line-height:normal;font-family:Menlo,'DejaVu Sans Mono',consolas,'Courier New',monospace\">Eval num_timesteps=32000, episode_reward=-22.87 +/- 37.97\n",
       "</pre>\n"
      ],
      "text/plain": [
       "Eval num_timesteps=32000, episode_reward=-22.87 +/- 37.97\n"
      ]
     },
     "metadata": {},
     "output_type": "display_data"
    },
    {
     "data": {
      "text/html": [
       "<pre style=\"white-space:pre;overflow-x:auto;line-height:normal;font-family:Menlo,'DejaVu Sans Mono',consolas,'Courier New',monospace\">Episode length: 60.00 +/- 0.00\n",
       "</pre>\n"
      ],
      "text/plain": [
       "Episode length: 60.00 +/- 0.00\n"
      ]
     },
     "metadata": {},
     "output_type": "display_data"
    },
    {
     "data": {
      "text/html": [
       "<pre style=\"white-space:pre;overflow-x:auto;line-height:normal;font-family:Menlo,'DejaVu Sans Mono',consolas,'Courier New',monospace\">Saving model at step 33000 to ./dqn_spidy_v4_4/model/dqn_spidy_v4_4\n",
       "</pre>\n"
      ],
      "text/plain": [
       "Saving model at step 33000 to ./dqn_spidy_v4_4/model/dqn_spidy_v4_4\n"
      ]
     },
     "metadata": {},
     "output_type": "display_data"
    },
    {
     "data": {
      "text/html": [
       "<pre style=\"white-space:pre;overflow-x:auto;line-height:normal;font-family:Menlo,'DejaVu Sans Mono',consolas,'Courier New',monospace\">Eval num_timesteps=33000, episode_reward=-24.26 +/- 23.09\n",
       "</pre>\n"
      ],
      "text/plain": [
       "Eval num_timesteps=33000, episode_reward=-24.26 +/- 23.09\n"
      ]
     },
     "metadata": {},
     "output_type": "display_data"
    },
    {
     "data": {
      "text/html": [
       "<pre style=\"white-space:pre;overflow-x:auto;line-height:normal;font-family:Menlo,'DejaVu Sans Mono',consolas,'Courier New',monospace\">Episode length: 60.00 +/- 0.00\n",
       "</pre>\n"
      ],
      "text/plain": [
       "Episode length: 60.00 +/- 0.00\n"
      ]
     },
     "metadata": {},
     "output_type": "display_data"
    },
    {
     "data": {
      "text/html": [
       "<pre style=\"white-space:pre;overflow-x:auto;line-height:normal;font-family:Menlo,'DejaVu Sans Mono',consolas,'Courier New',monospace\">Saving model at step 34000 to ./dqn_spidy_v4_4/model/dqn_spidy_v4_4\n",
       "</pre>\n"
      ],
      "text/plain": [
       "Saving model at step 34000 to ./dqn_spidy_v4_4/model/dqn_spidy_v4_4\n"
      ]
     },
     "metadata": {},
     "output_type": "display_data"
    },
    {
     "data": {
      "text/html": [
       "<pre style=\"white-space:pre;overflow-x:auto;line-height:normal;font-family:Menlo,'DejaVu Sans Mono',consolas,'Courier New',monospace\">Eval num_timesteps=34000, episode_reward=1994.27 +/- 4029.81\n",
       "</pre>\n"
      ],
      "text/plain": [
       "Eval num_timesteps=34000, episode_reward=1994.27 +/- 4029.81\n"
      ]
     },
     "metadata": {},
     "output_type": "display_data"
    },
    {
     "data": {
      "text/html": [
       "<pre style=\"white-space:pre;overflow-x:auto;line-height:normal;font-family:Menlo,'DejaVu Sans Mono',consolas,'Courier New',monospace\">Episode length: 54.00 +/- 12.00\n",
       "</pre>\n"
      ],
      "text/plain": [
       "Episode length: 54.00 +/- 12.00\n"
      ]
     },
     "metadata": {},
     "output_type": "display_data"
    },
    {
     "data": {
      "text/html": [
       "<pre style=\"white-space:pre;overflow-x:auto;line-height:normal;font-family:Menlo,'DejaVu Sans Mono',consolas,'Courier New',monospace\">Saving model at step 35000 to ./dqn_spidy_v4_4/model/dqn_spidy_v4_4\n",
       "</pre>\n"
      ],
      "text/plain": [
       "Saving model at step 35000 to ./dqn_spidy_v4_4/model/dqn_spidy_v4_4\n"
      ]
     },
     "metadata": {},
     "output_type": "display_data"
    },
    {
     "data": {
      "text/html": [
       "<pre style=\"white-space:pre;overflow-x:auto;line-height:normal;font-family:Menlo,'DejaVu Sans Mono',consolas,'Courier New',monospace\">Eval num_timesteps=35000, episode_reward=-15.32 +/- 30.74\n",
       "</pre>\n"
      ],
      "text/plain": [
       "Eval num_timesteps=35000, episode_reward=-15.32 +/- 30.74\n"
      ]
     },
     "metadata": {},
     "output_type": "display_data"
    },
    {
     "data": {
      "text/html": [
       "<pre style=\"white-space:pre;overflow-x:auto;line-height:normal;font-family:Menlo,'DejaVu Sans Mono',consolas,'Courier New',monospace\">Episode length: 60.00 +/- 0.00\n",
       "</pre>\n"
      ],
      "text/plain": [
       "Episode length: 60.00 +/- 0.00\n"
      ]
     },
     "metadata": {},
     "output_type": "display_data"
    },
    {
     "data": {
      "text/html": [
       "<pre style=\"white-space:pre;overflow-x:auto;line-height:normal;font-family:Menlo,'DejaVu Sans Mono',consolas,'Courier New',monospace\">Saving model at step 36000 to ./dqn_spidy_v4_4/model/dqn_spidy_v4_4\n",
       "</pre>\n"
      ],
      "text/plain": [
       "Saving model at step 36000 to ./dqn_spidy_v4_4/model/dqn_spidy_v4_4\n"
      ]
     },
     "metadata": {},
     "output_type": "display_data"
    },
    {
     "data": {
      "text/html": [
       "<pre style=\"white-space:pre;overflow-x:auto;line-height:normal;font-family:Menlo,'DejaVu Sans Mono',consolas,'Courier New',monospace\">Eval num_timesteps=36000, episode_reward=-37.24 +/- 16.28\n",
       "</pre>\n"
      ],
      "text/plain": [
       "Eval num_timesteps=36000, episode_reward=-37.24 +/- 16.28\n"
      ]
     },
     "metadata": {},
     "output_type": "display_data"
    },
    {
     "data": {
      "text/html": [
       "<pre style=\"white-space:pre;overflow-x:auto;line-height:normal;font-family:Menlo,'DejaVu Sans Mono',consolas,'Courier New',monospace\">Episode length: 60.00 +/- 0.00\n",
       "</pre>\n"
      ],
      "text/plain": [
       "Episode length: 60.00 +/- 0.00\n"
      ]
     },
     "metadata": {},
     "output_type": "display_data"
    },
    {
     "data": {
      "text/html": [
       "<pre style=\"white-space:pre;overflow-x:auto;line-height:normal;font-family:Menlo,'DejaVu Sans Mono',consolas,'Courier New',monospace\">Saving model at step 37000 to ./dqn_spidy_v4_4/model/dqn_spidy_v4_4\n",
       "</pre>\n"
      ],
      "text/plain": [
       "Saving model at step 37000 to ./dqn_spidy_v4_4/model/dqn_spidy_v4_4\n"
      ]
     },
     "metadata": {},
     "output_type": "display_data"
    },
    {
     "data": {
      "text/html": [
       "<pre style=\"white-space:pre;overflow-x:auto;line-height:normal;font-family:Menlo,'DejaVu Sans Mono',consolas,'Courier New',monospace\">Eval num_timesteps=37000, episode_reward=-15.24 +/- 25.67\n",
       "</pre>\n"
      ],
      "text/plain": [
       "Eval num_timesteps=37000, episode_reward=-15.24 +/- 25.67\n"
      ]
     },
     "metadata": {},
     "output_type": "display_data"
    },
    {
     "data": {
      "text/html": [
       "<pre style=\"white-space:pre;overflow-x:auto;line-height:normal;font-family:Menlo,'DejaVu Sans Mono',consolas,'Courier New',monospace\">Episode length: 60.00 +/- 0.00\n",
       "</pre>\n"
      ],
      "text/plain": [
       "Episode length: 60.00 +/- 0.00\n"
      ]
     },
     "metadata": {},
     "output_type": "display_data"
    },
    {
     "data": {
      "text/html": [
       "<pre style=\"white-space:pre;overflow-x:auto;line-height:normal;font-family:Menlo,'DejaVu Sans Mono',consolas,'Courier New',monospace\">Saving model at step 38000 to ./dqn_spidy_v4_4/model/dqn_spidy_v4_4\n",
       "</pre>\n"
      ],
      "text/plain": [
       "Saving model at step 38000 to ./dqn_spidy_v4_4/model/dqn_spidy_v4_4\n"
      ]
     },
     "metadata": {},
     "output_type": "display_data"
    },
    {
     "data": {
      "text/html": [
       "<pre style=\"white-space:pre;overflow-x:auto;line-height:normal;font-family:Menlo,'DejaVu Sans Mono',consolas,'Courier New',monospace\">Eval num_timesteps=38000, episode_reward=-3.13 +/- 35.43\n",
       "</pre>\n"
      ],
      "text/plain": [
       "Eval num_timesteps=38000, episode_reward=-3.13 +/- 35.43\n"
      ]
     },
     "metadata": {},
     "output_type": "display_data"
    },
    {
     "data": {
      "text/html": [
       "<pre style=\"white-space:pre;overflow-x:auto;line-height:normal;font-family:Menlo,'DejaVu Sans Mono',consolas,'Courier New',monospace\">Episode length: 60.00 +/- 0.00\n",
       "</pre>\n"
      ],
      "text/plain": [
       "Episode length: 60.00 +/- 0.00\n"
      ]
     },
     "metadata": {},
     "output_type": "display_data"
    },
    {
     "data": {
      "text/html": [
       "<pre style=\"white-space:pre;overflow-x:auto;line-height:normal;font-family:Menlo,'DejaVu Sans Mono',consolas,'Courier New',monospace\">Saving model at step 39000 to ./dqn_spidy_v4_4/model/dqn_spidy_v4_4\n",
       "</pre>\n"
      ],
      "text/plain": [
       "Saving model at step 39000 to ./dqn_spidy_v4_4/model/dqn_spidy_v4_4\n"
      ]
     },
     "metadata": {},
     "output_type": "display_data"
    },
    {
     "data": {
      "text/html": [
       "<pre style=\"white-space:pre;overflow-x:auto;line-height:normal;font-family:Menlo,'DejaVu Sans Mono',consolas,'Courier New',monospace\">Eval num_timesteps=39000, episode_reward=1991.33 +/- 4029.24\n",
       "</pre>\n"
      ],
      "text/plain": [
       "Eval num_timesteps=39000, episode_reward=1991.33 +/- 4029.24\n"
      ]
     },
     "metadata": {},
     "output_type": "display_data"
    },
    {
     "data": {
      "text/html": [
       "<pre style=\"white-space:pre;overflow-x:auto;line-height:normal;font-family:Menlo,'DejaVu Sans Mono',consolas,'Courier New',monospace\">Episode length: 57.80 +/- 4.40\n",
       "</pre>\n"
      ],
      "text/plain": [
       "Episode length: 57.80 +/- 4.40\n"
      ]
     },
     "metadata": {},
     "output_type": "display_data"
    },
    {
     "data": {
      "text/html": [
       "<pre style=\"white-space:pre;overflow-x:auto;line-height:normal;font-family:Menlo,'DejaVu Sans Mono',consolas,'Courier New',monospace\">Saving model at step 40000 to ./dqn_spidy_v4_4/model/dqn_spidy_v4_4\n",
       "</pre>\n"
      ],
      "text/plain": [
       "Saving model at step 40000 to ./dqn_spidy_v4_4/model/dqn_spidy_v4_4\n"
      ]
     },
     "metadata": {},
     "output_type": "display_data"
    },
    {
     "data": {
      "text/html": [
       "<pre style=\"white-space:pre;overflow-x:auto;line-height:normal;font-family:Menlo,'DejaVu Sans Mono',consolas,'Courier New',monospace\">Eval num_timesteps=40000, episode_reward=7.18 +/- 19.67\n",
       "</pre>\n"
      ],
      "text/plain": [
       "Eval num_timesteps=40000, episode_reward=7.18 +/- 19.67\n"
      ]
     },
     "metadata": {},
     "output_type": "display_data"
    },
    {
     "data": {
      "text/html": [
       "<pre style=\"white-space:pre;overflow-x:auto;line-height:normal;font-family:Menlo,'DejaVu Sans Mono',consolas,'Courier New',monospace\">Episode length: 60.00 +/- 0.00\n",
       "</pre>\n"
      ],
      "text/plain": [
       "Episode length: 60.00 +/- 0.00\n"
      ]
     },
     "metadata": {},
     "output_type": "display_data"
    },
    {
     "data": {
      "text/html": [
       "<pre style=\"white-space:pre;overflow-x:auto;line-height:normal;font-family:Menlo,'DejaVu Sans Mono',consolas,'Courier New',monospace\">Saving model at step 41000 to ./dqn_spidy_v4_4/model/dqn_spidy_v4_4\n",
       "</pre>\n"
      ],
      "text/plain": [
       "Saving model at step 41000 to ./dqn_spidy_v4_4/model/dqn_spidy_v4_4\n"
      ]
     },
     "metadata": {},
     "output_type": "display_data"
    },
    {
     "data": {
      "text/html": [
       "<pre style=\"white-space:pre;overflow-x:auto;line-height:normal;font-family:Menlo,'DejaVu Sans Mono',consolas,'Courier New',monospace\">Eval num_timesteps=41000, episode_reward=-10.71 +/- 39.49\n",
       "</pre>\n"
      ],
      "text/plain": [
       "Eval num_timesteps=41000, episode_reward=-10.71 +/- 39.49\n"
      ]
     },
     "metadata": {},
     "output_type": "display_data"
    },
    {
     "data": {
      "text/html": [
       "<pre style=\"white-space:pre;overflow-x:auto;line-height:normal;font-family:Menlo,'DejaVu Sans Mono',consolas,'Courier New',monospace\">Episode length: 60.00 +/- 0.00\n",
       "</pre>\n"
      ],
      "text/plain": [
       "Episode length: 60.00 +/- 0.00\n"
      ]
     },
     "metadata": {},
     "output_type": "display_data"
    },
    {
     "data": {
      "text/html": [
       "<pre style=\"white-space:pre;overflow-x:auto;line-height:normal;font-family:Menlo,'DejaVu Sans Mono',consolas,'Courier New',monospace\">Saving model at step 42000 to ./dqn_spidy_v4_4/model/dqn_spidy_v4_4\n",
       "</pre>\n"
      ],
      "text/plain": [
       "Saving model at step 42000 to ./dqn_spidy_v4_4/model/dqn_spidy_v4_4\n"
      ]
     },
     "metadata": {},
     "output_type": "display_data"
    },
    {
     "data": {
      "text/html": [
       "<pre style=\"white-space:pre;overflow-x:auto;line-height:normal;font-family:Menlo,'DejaVu Sans Mono',consolas,'Courier New',monospace\">Eval num_timesteps=42000, episode_reward=-8.21 +/- 31.71\n",
       "</pre>\n"
      ],
      "text/plain": [
       "Eval num_timesteps=42000, episode_reward=-8.21 +/- 31.71\n"
      ]
     },
     "metadata": {},
     "output_type": "display_data"
    },
    {
     "data": {
      "text/html": [
       "<pre style=\"white-space:pre;overflow-x:auto;line-height:normal;font-family:Menlo,'DejaVu Sans Mono',consolas,'Courier New',monospace\">Episode length: 60.00 +/- 0.00\n",
       "</pre>\n"
      ],
      "text/plain": [
       "Episode length: 60.00 +/- 0.00\n"
      ]
     },
     "metadata": {},
     "output_type": "display_data"
    },
    {
     "data": {
      "text/html": [
       "<pre style=\"white-space:pre;overflow-x:auto;line-height:normal;font-family:Menlo,'DejaVu Sans Mono',consolas,'Courier New',monospace\">Saving model at step 43000 to ./dqn_spidy_v4_4/model/dqn_spidy_v4_4\n",
       "</pre>\n"
      ],
      "text/plain": [
       "Saving model at step 43000 to ./dqn_spidy_v4_4/model/dqn_spidy_v4_4\n"
      ]
     },
     "metadata": {},
     "output_type": "display_data"
    },
    {
     "data": {
      "text/html": [
       "<pre style=\"white-space:pre;overflow-x:auto;line-height:normal;font-family:Menlo,'DejaVu Sans Mono',consolas,'Courier New',monospace\">Eval num_timesteps=43000, episode_reward=1995.17 +/- 4029.83\n",
       "</pre>\n"
      ],
      "text/plain": [
       "Eval num_timesteps=43000, episode_reward=1995.17 +/- 4029.83\n"
      ]
     },
     "metadata": {},
     "output_type": "display_data"
    },
    {
     "data": {
      "text/html": [
       "<pre style=\"white-space:pre;overflow-x:auto;line-height:normal;font-family:Menlo,'DejaVu Sans Mono',consolas,'Courier New',monospace\">Episode length: 55.40 +/- 9.20\n",
       "</pre>\n"
      ],
      "text/plain": [
       "Episode length: 55.40 +/- 9.20\n"
      ]
     },
     "metadata": {},
     "output_type": "display_data"
    },
    {
     "data": {
      "text/html": [
       "<pre style=\"white-space:pre;overflow-x:auto;line-height:normal;font-family:Menlo,'DejaVu Sans Mono',consolas,'Courier New',monospace\">Saving model at step 44000 to ./dqn_spidy_v4_4/model/dqn_spidy_v4_4\n",
       "</pre>\n"
      ],
      "text/plain": [
       "Saving model at step 44000 to ./dqn_spidy_v4_4/model/dqn_spidy_v4_4\n"
      ]
     },
     "metadata": {},
     "output_type": "display_data"
    },
    {
     "data": {
      "text/html": [
       "<pre style=\"white-space:pre;overflow-x:auto;line-height:normal;font-family:Menlo,'DejaVu Sans Mono',consolas,'Courier New',monospace\">Eval num_timesteps=44000, episode_reward=-16.39 +/- 19.92\n",
       "</pre>\n"
      ],
      "text/plain": [
       "Eval num_timesteps=44000, episode_reward=-16.39 +/- 19.92\n"
      ]
     },
     "metadata": {},
     "output_type": "display_data"
    },
    {
     "data": {
      "text/html": [
       "<pre style=\"white-space:pre;overflow-x:auto;line-height:normal;font-family:Menlo,'DejaVu Sans Mono',consolas,'Courier New',monospace\">Episode length: 60.00 +/- 0.00\n",
       "</pre>\n"
      ],
      "text/plain": [
       "Episode length: 60.00 +/- 0.00\n"
      ]
     },
     "metadata": {},
     "output_type": "display_data"
    },
    {
     "data": {
      "text/html": [
       "<pre style=\"white-space:pre;overflow-x:auto;line-height:normal;font-family:Menlo,'DejaVu Sans Mono',consolas,'Courier New',monospace\">Saving model at step 45000 to ./dqn_spidy_v4_4/model/dqn_spidy_v4_4\n",
       "</pre>\n"
      ],
      "text/plain": [
       "Saving model at step 45000 to ./dqn_spidy_v4_4/model/dqn_spidy_v4_4\n"
      ]
     },
     "metadata": {},
     "output_type": "display_data"
    },
    {
     "data": {
      "text/html": [
       "<pre style=\"white-space:pre;overflow-x:auto;line-height:normal;font-family:Menlo,'DejaVu Sans Mono',consolas,'Courier New',monospace\">Eval num_timesteps=45000, episode_reward=-2.11 +/- 30.87\n",
       "</pre>\n"
      ],
      "text/plain": [
       "Eval num_timesteps=45000, episode_reward=-2.11 +/- 30.87\n"
      ]
     },
     "metadata": {},
     "output_type": "display_data"
    },
    {
     "data": {
      "text/html": [
       "<pre style=\"white-space:pre;overflow-x:auto;line-height:normal;font-family:Menlo,'DejaVu Sans Mono',consolas,'Courier New',monospace\">Episode length: 60.00 +/- 0.00\n",
       "</pre>\n"
      ],
      "text/plain": [
       "Episode length: 60.00 +/- 0.00\n"
      ]
     },
     "metadata": {},
     "output_type": "display_data"
    },
    {
     "data": {
      "text/html": [
       "<pre style=\"white-space:pre;overflow-x:auto;line-height:normal;font-family:Menlo,'DejaVu Sans Mono',consolas,'Courier New',monospace\">Saving model at step 46000 to ./dqn_spidy_v4_4/model/dqn_spidy_v4_4\n",
       "</pre>\n"
      ],
      "text/plain": [
       "Saving model at step 46000 to ./dqn_spidy_v4_4/model/dqn_spidy_v4_4\n"
      ]
     },
     "metadata": {},
     "output_type": "display_data"
    },
    {
     "data": {
      "text/html": [
       "<pre style=\"white-space:pre;overflow-x:auto;line-height:normal;font-family:Menlo,'DejaVu Sans Mono',consolas,'Courier New',monospace\">Eval num_timesteps=46000, episode_reward=1999.52 +/- 4016.38\n",
       "</pre>\n"
      ],
      "text/plain": [
       "Eval num_timesteps=46000, episode_reward=1999.52 +/- 4016.38\n"
      ]
     },
     "metadata": {},
     "output_type": "display_data"
    },
    {
     "data": {
      "text/html": [
       "<pre style=\"white-space:pre;overflow-x:auto;line-height:normal;font-family:Menlo,'DejaVu Sans Mono',consolas,'Courier New',monospace\">Episode length: 56.60 +/- 6.80\n",
       "</pre>\n"
      ],
      "text/plain": [
       "Episode length: 56.60 +/- 6.80\n"
      ]
     },
     "metadata": {},
     "output_type": "display_data"
    },
    {
     "data": {
      "text/html": [
       "<pre style=\"white-space:pre;overflow-x:auto;line-height:normal;font-family:Menlo,'DejaVu Sans Mono',consolas,'Courier New',monospace\">Saving model at step 47000 to ./dqn_spidy_v4_4/model/dqn_spidy_v4_4\n",
       "</pre>\n"
      ],
      "text/plain": [
       "Saving model at step 47000 to ./dqn_spidy_v4_4/model/dqn_spidy_v4_4\n"
      ]
     },
     "metadata": {},
     "output_type": "display_data"
    },
    {
     "data": {
      "text/html": [
       "<pre style=\"white-space:pre;overflow-x:auto;line-height:normal;font-family:Menlo,'DejaVu Sans Mono',consolas,'Courier New',monospace\">Eval num_timesteps=47000, episode_reward=-23.67 +/- 27.66\n",
       "</pre>\n"
      ],
      "text/plain": [
       "Eval num_timesteps=47000, episode_reward=-23.67 +/- 27.66\n"
      ]
     },
     "metadata": {},
     "output_type": "display_data"
    },
    {
     "data": {
      "text/html": [
       "<pre style=\"white-space:pre;overflow-x:auto;line-height:normal;font-family:Menlo,'DejaVu Sans Mono',consolas,'Courier New',monospace\">Episode length: 60.00 +/- 0.00\n",
       "</pre>\n"
      ],
      "text/plain": [
       "Episode length: 60.00 +/- 0.00\n"
      ]
     },
     "metadata": {},
     "output_type": "display_data"
    },
    {
     "data": {
      "text/html": [
       "<pre style=\"white-space:pre;overflow-x:auto;line-height:normal;font-family:Menlo,'DejaVu Sans Mono',consolas,'Courier New',monospace\">Saving model at step 48000 to ./dqn_spidy_v4_4/model/dqn_spidy_v4_4\n",
       "</pre>\n"
      ],
      "text/plain": [
       "Saving model at step 48000 to ./dqn_spidy_v4_4/model/dqn_spidy_v4_4\n"
      ]
     },
     "metadata": {},
     "output_type": "display_data"
    },
    {
     "data": {
      "text/html": [
       "<pre style=\"white-space:pre;overflow-x:auto;line-height:normal;font-family:Menlo,'DejaVu Sans Mono',consolas,'Courier New',monospace\">Eval num_timesteps=48000, episode_reward=-11.98 +/- 39.39\n",
       "</pre>\n"
      ],
      "text/plain": [
       "Eval num_timesteps=48000, episode_reward=-11.98 +/- 39.39\n"
      ]
     },
     "metadata": {},
     "output_type": "display_data"
    },
    {
     "data": {
      "text/html": [
       "<pre style=\"white-space:pre;overflow-x:auto;line-height:normal;font-family:Menlo,'DejaVu Sans Mono',consolas,'Courier New',monospace\">Episode length: 60.00 +/- 0.00\n",
       "</pre>\n"
      ],
      "text/plain": [
       "Episode length: 60.00 +/- 0.00\n"
      ]
     },
     "metadata": {},
     "output_type": "display_data"
    },
    {
     "ename": "",
     "evalue": "",
     "output_type": "error",
     "traceback": [
      "\u001b[1;31mThe Kernel crashed while executing code in the current cell or a previous cell. \n",
      "\u001b[1;31mPlease review the code in the cell(s) to identify a possible cause of the failure. \n",
      "\u001b[1;31mClick <a href='https://aka.ms/vscodeJupyterKernelCrash'>here</a> for more info. \n",
      "\u001b[1;31mView Jupyter <a href='command:jupyter.viewOutput'>log</a> for further details."
     ]
    }
   ],
   "source": [
    "# Execute Setup\n",
    "import nbformat\n",
    "from IPython import get_ipython\n",
    "with open(\"06_reach_DQN.ipynb\", \"r\", encoding=\"utf-8\") as f:\n",
    "    notebook = nbformat.read(f, as_version=4)\n",
    "for cell in notebook.cells:\n",
    "    if \"tags\" in cell.metadata and \"setup\" in cell.metadata.tags:\n",
    "        exec(cell.source)\n",
    "\n",
    "class ActionLoggerCallback(BaseCallback):\n",
    "    def __init__(self, verbose=0):\n",
    "        super(ActionLoggerCallback, self).__init__(verbose)\n",
    "        self.writer = None\n",
    "\n",
    "    def _on_training_start(self) -> None:\n",
    "        # Initialize TensorBoard writer\n",
    "        self.writer = SummaryWriter(log_dir=self.logger.dir)\n",
    "\n",
    "    def _on_step(self) -> bool:\n",
    "        # Get the actions from the rollout buffer\n",
    "        actions = self.locals['actions']  # PPO stores actions here\n",
    "        if actions is not None:\n",
    "            actions_mean = np.mean(actions)\n",
    "            actions_std = np.std(actions)\n",
    "            self.writer.add_scalar(\"policy/actions_mean\", actions_mean, self.num_timesteps)\n",
    "            self.writer.add_scalar(\"policy/actions_std\", actions_std, self.num_timesteps)\n",
    "        return True\n",
    "\n",
    "class InfoCallback(BaseCallback):\n",
    "    def __init__(self, verbose=0):\n",
    "        super().__init__(verbose)\n",
    "        self.log_freq = 1\n",
    "\n",
    "    def _on_step(self) -> bool:\n",
    "        # Access the training environment's 'step_info' attribute\n",
    "        if self.num_timesteps % self.log_freq == 0:\n",
    "            info = self.locals['infos']\n",
    "            info = info[0]\n",
    "            \n",
    "            self.logger.record(\"exposed_phases_biases/phase_0\", info[\"exposed_phases_biases\"][0])\n",
    "            self.logger.record(\"exposed_phases_biases/phase_65\", info[\"exposed_phases_biases\"][1])\n",
    "            self.logger.record(\"rewards/proximity_reward\", info[\"proximity_reward\"])\n",
    "            self.logger.record(\"rewards/alignement_reward\", info[\"alignement_reward\"])\n",
    "\n",
    "            actions = self.locals[\"actions\"][0]\n",
    "            self.logger.record(\"actions\", actions)\n",
    "\n",
    "            self.logger.dump(step=self.num_timesteps)\n",
    "        \n",
    "        return True\n",
    "            \n",
    "train_env = Monitor(make_env())\n",
    "eval_env = Monitor(make_env())\n",
    "\n",
    "eval_callback = EvalCallback(eval_env,\n",
    "                             best_model_save_path=save_path,\n",
    "                             log_path=log_path, eval_freq=1e3,\n",
    "                             deterministic=True, render=False)\n",
    "\n",
    "class SaveOnStep(BaseCallback):\n",
    "    def __init__(self, steps: int, path: str):\n",
    "        super().__init__()\n",
    "        self.steps = steps\n",
    "        self.save_path = path\n",
    "\n",
    "    def _on_step(self) -> bool:\n",
    "        # Check if the current step matches the saving frequency\n",
    "        if self.n_calls % self.steps == 0:\n",
    "            # Save model with the current timestep in the filename\n",
    "\n",
    "            print(f\"Saving model at step {self.n_calls} to {self.save_path}\")\n",
    "            self.model.save(self.save_path)\n",
    "        return True\n",
    "    \n",
    "callbacks = [\n",
    "    SaveOnStep(1e3, path), \n",
    "    InfoCallback(), \n",
    "    ActionLoggerCallback(),\n",
    "    eval_callback\n",
    "    ]\n",
    "\n",
    "model = DQN.load(path,train_env ,device=device)\n",
    "\n",
    "model.learn(\n",
    "    total_timesteps=1e5,\n",
    "    progress_bar=True, \n",
    "    callback=callbacks, \n",
    "    reset_num_timesteps=False)\n",
    "\n",
    "model.save(path+\"_final\")\n",
    "\n",
    "train_env.close()\n"
   ]
  },
  {
   "cell_type": "markdown",
   "metadata": {},
   "source": [
    "# Display"
   ]
  },
  {
   "cell_type": "code",
   "execution_count": 2,
   "metadata": {},
   "outputs": [
    {
     "name": "stderr",
     "output_type": "stream",
     "text": [
      "pybullet build time: Nov 28 2023 23:45:17\n"
     ]
    },
    {
     "name": "stdout",
     "output_type": "stream",
     "text": [
      "startThreads creating 1 threads.\n",
      "starting thread 0\n",
      "started thread 0 \n",
      "argc=2\n",
      "argv[0] = --unused\n",
      "argv[1] = --start_demo_name=Physics Server\n",
      "ExampleBrowserThreadFunc started\n",
      "X11 functions dynamically loaded using dlopen/dlsym OK!\n",
      "X11 functions dynamically loaded using dlopen/dlsym OK!\n",
      "Creating context\n",
      "Created GL 3.3 context\n",
      "Direct GLX rendering context obtained\n",
      "Making context current\n",
      "GL_VENDOR=Intel\n",
      "GL_RENDERER=Mesa Intel(R) UHD Graphics 620 (KBL GT2)\n",
      "GL_VERSION=4.6 (Core Profile) Mesa 23.2.1-1ubuntu3.1~22.04.2\n",
      "GL_SHADING_LANGUAGE_VERSION=4.60\n",
      "pthread_getconcurrency()=0\n",
      "Version = 4.6 (Core Profile) Mesa 23.2.1-1ubuntu3.1~22.04.2\n",
      "Vendor = Intel\n",
      "Renderer = Mesa Intel(R) UHD Graphics 620 (KBL GT2)\n",
      "b3Printf: Selected demo: Physics Server\n",
      "startThreads creating 1 threads.\n",
      "starting thread 0\n",
      "started thread 0 \n",
      "MotionThreadFunc thread started\n",
      "ven = Intel\n",
      "Workaround for some crash in the Intel OpenGL driver on Linux/Ubuntu\n",
      "ven = Intel\n",
      "Workaround for some crash in the Intel OpenGL driver on Linux/Ubuntu\n",
      "t: 0, Obs: [ 0.4   0.5  -0.33  0.3 ], Action: 2, Rew: -14.51 \n",
      "t: 1, Obs: [ 0.3   0.5  -0.33  0.3 ], Action: 2, Rew: 0.66 \n",
      "t: 2, Obs: [ 0.2   0.5  -0.31  0.29], Action: 2, Rew: 0.78 \n",
      "t: 3, Obs: [ 0.1   0.5  -0.31  0.29], Action: 2, Rew: 0.86 \n",
      "t: 4, Obs: [ 0.    0.5  -0.31  0.28], Action: 2, Rew: 0.87 \n",
      "t: 5, Obs: [-0.1   0.5  -0.32  0.27], Action: 2, Rew: 0.84 \n",
      "t: 6, Obs: [-0.2   0.5  -0.33  0.27], Action: 2, Rew: 0.81 \n",
      "t: 7, Obs: [-0.3   0.5  -0.34  0.26], Action: 2, Rew: 0.75 \n",
      "t: 8, Obs: [-0.4   0.5  -0.36  0.26], Action: 2, Rew: 0.69 \n",
      "t: 9, Obs: [-0.5   0.5  -0.37  0.25], Action: 2, Rew: 0.60 \n",
      "t: 10, Obs: [-0.6   0.5  -0.39  0.25], Action: 2, Rew: 0.54 \n",
      "t: 11, Obs: [-0.7   0.5  -0.4   0.25], Action: 2, Rew: 0.48 \n",
      "t: 12, Obs: [-0.8   0.5  -0.44  0.24], Action: 2, Rew: 0.30 \n",
      "t: 13, Obs: [-0.8   0.6  -0.49  0.24], Action: 3, Rew: 0.13 \n",
      "t: 14, Obs: [-0.8   0.7  -0.52  0.24], Action: 3, Rew: 0.01 \n",
      "t: 15, Obs: [-0.8   0.8  -0.53  0.24], Action: 3, Rew: -0.03 \n",
      "t: 16, Obs: [-0.8   0.9  -0.52  0.24], Action: 3, Rew: -0.02 \n",
      "t: 17, Obs: [-0.8   1.   -0.51  0.24], Action: 3, Rew: -0.01 \n",
      "t: 18, Obs: [-0.8   1.   -0.52  0.24], Action: 3, Rew: -0.02 \n",
      "t: 19, Obs: [-0.8   1.   -0.52  0.24], Action: 3, Rew: -0.01 \n",
      "t: 20, Obs: [-0.8   1.   -0.53  0.23], Action: 3, Rew: -0.04 \n",
      "t: 21, Obs: [-0.8   1.   -0.53  0.23], Action: 3, Rew: -0.04 \n",
      "t: 22, Obs: [-0.8   1.   -0.53  0.23], Action: 3, Rew: -0.03 \n",
      "t: 23, Obs: [-0.8   1.   -0.53  0.23], Action: 3, Rew: -0.04 \n",
      "t: 24, Obs: [-0.8   1.   -0.54  0.23], Action: 3, Rew: -0.06 \n",
      "t: 25, Obs: [-0.8   1.   -0.54  0.23], Action: 3, Rew: -0.08 \n",
      "t: 26, Obs: [-0.8   1.   -0.55  0.23], Action: 3, Rew: -0.10 \n",
      "t: 27, Obs: [-0.8   1.   -0.55  0.23], Action: 3, Rew: -0.10 \n",
      "t: 28, Obs: [-0.8   1.   -0.55  0.23], Action: 3, Rew: -0.10 \n",
      "t: 29, Obs: [-0.7   1.   -0.55  0.22], Action: 1, Rew: -0.10 \n",
      "t: 30, Obs: [-0.7   1.   -0.56  0.22], Action: 3, Rew: -0.13 \n",
      "t: 31, Obs: [-0.7   1.   -0.55  0.22], Action: 3, Rew: -0.14 \n",
      "t: 32, Obs: [-0.7   1.   -0.55  0.22], Action: 3, Rew: -0.14 \n",
      "t: 33, Obs: [-0.7   1.   -0.55  0.22], Action: 3, Rew: -0.13 \n",
      "t: 34, Obs: [-0.7   1.   -0.55  0.22], Action: 3, Rew: -0.13 \n",
      "t: 35, Obs: [-0.7   1.   -0.56  0.22], Action: 3, Rew: -0.16 \n",
      "t: 36, Obs: [-0.7   1.   -0.58  0.22], Action: 3, Rew: -0.21 \n",
      "t: 37, Obs: [-0.7   1.   -0.6   0.22], Action: 3, Rew: -0.25 \n",
      "t: 38, Obs: [-0.7   1.   -0.6   0.22], Action: 3, Rew: -0.29 \n",
      "t: 39, Obs: [-0.7   1.   -0.61  0.22], Action: 3, Rew: -0.31 \n",
      "t: 40, Obs: [-0.7   1.   -0.61  0.22], Action: 3, Rew: -0.32 \n",
      "t: 41, Obs: [-0.7   1.   -0.61  0.22], Action: 3, Rew: -0.33 \n",
      "t: 42, Obs: [-0.7   1.   -0.41  0.21], Action: 3, Rew: 0.80 \n",
      "t: 43, Obs: [-0.8   1.   -0.04  0.18], Action: 2, Rew: 2.34 \n",
      "t: 44, Obs: [-0.8   0.9  -0.06  0.18], Action: 4, Rew: 1.11 \n",
      "t: 45, Obs: [-0.8   0.8  -0.06  0.18], Action: 4, Rew: 1.05 \n",
      "t: 46, Obs: [-0.9   0.8  -0.07  0.17], Action: 2, Rew: 1.07 \n",
      "t: 47, Obs: [-1.    0.8  -0.07  0.17], Action: 2, Rew: 1.10 \n",
      "t: 48, Obs: [-1.    0.7  -0.07  0.17], Action: 4, Rew: 1.19 \n",
      "t: 49, Obs: [-1.    0.7  -0.07  0.16], Action: 2, Rew: 1.21 \n",
      "t: 50, Obs: [-1.    0.7  -0.08  0.16], Action: 2, Rew: 1.19 \n",
      "t: 51, Obs: [-1.    0.7  -0.08  0.15], Action: 2, Rew: 1.17 \n",
      "t: 52, Obs: [-0.9   0.7  -0.08  0.15], Action: 1, Rew: 1.15 \n",
      "t: 53, Obs: [-1.    0.7  -0.08  0.15], Action: 2, Rew: 1.11 \n",
      "t: 54, Obs: [-1.    0.7  -0.1   0.14], Action: 2, Rew: 1.11 \n",
      "t: 55, Obs: [-1.    0.7  -0.11  0.14], Action: 2, Rew: 1.15 \n",
      "t: 56, Obs: [-1.    0.7  -0.11  0.14], Action: 2, Rew: 1.18 \n",
      "t: 57, Obs: [-1.    0.7  -0.11  0.13], Action: 2, Rew: 1.16 \n",
      "t: 58, Obs: [-1.    0.7  -0.12  0.13], Action: 2, Rew: 1.13 \n",
      "numActiveThreads = 0\n",
      "stopping threads\n",
      "Thread with taskId 0 exiting\n",
      "Thread TERMINATED\n",
      "destroy semaphore\n",
      "semaphore destroyed\n",
      "destroy main semaphore\n",
      "main semaphore destroyed\n",
      "finished\n",
      "numActiveThreads = 0\n",
      "btShutDownExampleBrowser stopping threads\n",
      "Thread with taskId 0 exiting\n",
      "Thread TERMINATED\n",
      "destroy semaphore\n",
      "semaphore destroyed\n",
      "destroy main semaphore\n",
      "main semaphore destroyed\n"
     ]
    }
   ],
   "source": [
    "# Execute Setup\n",
    "import nbformat\n",
    "from IPython import get_ipython\n",
    "with open(\"06_reach_DQN.ipynb\", \"r\", encoding=\"utf-8\") as f:\n",
    "    notebook = nbformat.read(f, as_version=4)\n",
    "for cell in notebook.cells:\n",
    "    if \"tags\" in cell.metadata and \"setup\" in cell.metadata.tags:\n",
    "        exec(cell.source)\n",
    "\n",
    "test_env = make_env(render_mode='human')\n",
    "model = DQN.load(path)\n",
    "info = {}\n",
    "\n",
    "for episode in range(1):\n",
    "\n",
    "    done = False\n",
    "    obs, info = test_env.reset()\n",
    "    for t in range(n_steps):\n",
    "\n",
    "        action = model.predict(obs)[0]\n",
    "        obs, reward, terminate, trunc, info = test_env.step(action)\n",
    "    \n",
    "        if terminate or trunc:\n",
    "            break\n",
    "\n",
    "        print(f\"t: {t}, Obs: {np.array_str(obs, precision=2)}, Action: {np.array_str(action, precision=2)}, Rew: {reward:.2f} \")\n",
    "\n",
    "test_env.close()\n",
    "\n",
    "\n"
   ]
  },
  {
   "cell_type": "code",
   "execution_count": null,
   "metadata": {},
   "outputs": [],
   "source": [
    "# Show CPG parameters\n",
    "coupling_weights = info['coupling_weights']\n",
    "phase_biases= info['phase_biases']\n",
    "\n",
    "\n",
    "\n",
    "fig, axs = plt.subplots(2,1, figsize=(12, 6))  # Adjust size if needed\n",
    "\n",
    "im1 = axs[0].imshow(coupling_weights, cmap='viridis', aspect='equal')\n",
    "fig.colorbar(im1, ax=axs[0], orientation='vertical')  # Add a color bar for reference\n",
    "axs[0].set_title(\"coupling_weights\")\n",
    "axs[0].set_xlabel(\"Column Index\")\n",
    "axs[0].set_ylabel(\"Row Index\")\n",
    "axs[0].set_xticks(range(12))\n",
    "axs[0].set_yticks(range(12))\n",
    "\n",
    "im2 = axs[1].imshow(phase_biases, cmap='viridis', aspect='equal')\n",
    "fig.colorbar(im1, ax=axs[1], orientation='vertical')  # Add a color bar for reference\n",
    "axs[1].set_title(\"phase_biases\")\n",
    "axs[1].set_xlabel(\"Column Index\")\n",
    "axs[1].set_ylabel(\"Row Index\")\n",
    "axs[1].set_xticks(range(12))\n",
    "axs[1].set_yticks(range(12))\n",
    "\n",
    "\n",
    "plt.tight_layout()\n",
    "plt.show()"
   ]
  }
 ],
 "metadata": {
  "kernelspec": {
   "display_name": "hostEnv",
   "language": "python",
   "name": "python3"
  },
  "language_info": {
   "codemirror_mode": {
    "name": "ipython",
    "version": 3
   },
   "file_extension": ".py",
   "mimetype": "text/x-python",
   "name": "python",
   "nbconvert_exporter": "python",
   "pygments_lexer": "ipython3",
   "version": "3.10.12"
  }
 },
 "nbformat": 4,
 "nbformat_minor": 2
}
