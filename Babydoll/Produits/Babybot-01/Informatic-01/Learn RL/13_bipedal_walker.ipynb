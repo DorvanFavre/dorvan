{
 "cells": [
  {
   "cell_type": "markdown",
   "metadata": {},
   "source": [
    "# Bipedal walker\n",
    "https://gymnasium.farama.org/environments/box2d/bipedal_walker/"
   ]
  },
  {
   "cell_type": "markdown",
   "metadata": {},
   "source": [
    "## Setup"
   ]
  },
  {
   "cell_type": "code",
   "execution_count": 22,
   "metadata": {},
   "outputs": [],
   "source": [
    "import gymnasium as gym\n",
    "from stable_baselines3 import PPO\n",
    "from stable_baselines3.common.env_util import make_vec_env\n",
    "from stable_baselines3.common.callbacks import BaseCallback\n",
    "from gymnasium import Env\n",
    "import numpy as np\n",
    "\n",
    "name = 'ppo_walker_v1'\n",
    "env_id = \"BipedalWalker-v3\"\n",
    "n_envs = 4\n",
    "\n",
    "policy = 'MlpPolicy'\n",
    "tensorboard_log = f\"./{name}/t_logs/\"\n",
    "path = f\"./{name}/model/\"\n",
    "device = 'cpu'\n",
    "\n",
    "def make_env(render_mode:str='rgb_array'):\n",
    "    e = gym.make(env_id, hardcore=False, render_mode=render_mode)\n",
    "    return e\n",
    "\n",
    "env = make_vec_env(make_env, n_envs)\n",
    "\n",
    "\n",
    "class SaveOnStep(BaseCallback):\n",
    "    def __init__(self, steps: int, path: str, verbose: int = 0):\n",
    "        super().__init__(verbose)\n",
    "        self.steps = steps\n",
    "        self.save_path = path\n",
    "\n",
    "    def _on_step(self) -> bool:\n",
    "        # Check if the current step matches the saving frequency\n",
    "        if self.n_calls % self.steps == 0:\n",
    "            # Save model with the current timestep in the filename\n",
    "            if self.verbose > 0:\n",
    "                print(f\"Saving model at step {self.n_calls} to {self.save_path}\")\n",
    "            self.model.save(self.save_path)\n",
    "        return True\n",
    "    \n",
    "callbacks = [SaveOnStep(2.5e4, path)]\n"
   ]
  },
  {
   "cell_type": "markdown",
   "metadata": {},
   "source": [
    "## Create Model"
   ]
  },
  {
   "cell_type": "code",
   "execution_count": null,
   "metadata": {},
   "outputs": [
    {
     "name": "stderr",
     "output_type": "stream",
     "text": [
      "/home/dorvan/Documents/dorvan/Babydoll/Produits/Babybot-01/Informatic-01/LearnPyBullet/pybulletEnv/lib/python3.10/site-packages/stable_baselines3/common/save_util.py:284: UserWarning: Path 'ppo_walker_v1' does not exist. Will create it.\n",
      "  warnings.warn(f\"Path '{path.parent}' does not exist. Will create it.\")\n"
     ]
    }
   ],
   "source": [
    "# /!\\ #\n",
    "model = PPO(\n",
    "    policy,\n",
    "    env,\n",
    "    verbose=0,\n",
    "    tensorboard_log=tensorboard_log,\n",
    "    device=device\n",
    ")\n",
    "#model.save(path)"
   ]
  },
  {
   "cell_type": "markdown",
   "metadata": {},
   "source": [
    "## Load model"
   ]
  },
  {
   "cell_type": "code",
   "execution_count": null,
   "metadata": {},
   "outputs": [],
   "source": [
    "model = PPO.load(path,env)"
   ]
  },
  {
   "cell_type": "markdown",
   "metadata": {},
   "source": [
    "## Learn"
   ]
  },
  {
   "cell_type": "code",
   "execution_count": 23,
   "metadata": {},
   "outputs": [
    {
     "data": {
      "application/vnd.jupyter.widget-view+json": {
       "model_id": "9f600ebdb9cc43d68caef3d9f83fe828",
       "version_major": 2,
       "version_minor": 0
      },
      "text/plain": [
       "Output()"
      ]
     },
     "metadata": {},
     "output_type": "display_data"
    },
    {
     "data": {
      "text/html": [
       "<pre style=\"white-space:pre;overflow-x:auto;line-height:normal;font-family:Menlo,'DejaVu Sans Mono',consolas,'Courier New',monospace\"></pre>\n"
      ],
      "text/plain": []
     },
     "metadata": {},
     "output_type": "display_data"
    }
   ],
   "source": [
    "total_timesteps = 1e6\n",
    "\n",
    "model.learn(\n",
    "    total_timesteps, \n",
    "    reset_num_timesteps=False, \n",
    "    progress_bar=True, \n",
    "    callback=callbacks)\n",
    "model.save(path)"
   ]
  },
  {
   "cell_type": "markdown",
   "metadata": {},
   "source": [
    "## Display"
   ]
  },
  {
   "cell_type": "code",
   "execution_count": null,
   "metadata": {},
   "outputs": [],
   "source": [
    "display_env = make_env(render_mode='human')\n",
    "\n",
    "for e in range(3):\n",
    "    obs,_ = display_env.reset()\n",
    "    while True:\n",
    "        action, _ = model.predict(obs)\n",
    "        obs, reward, terminated, truncated, info = display_env.step(action)\n",
    "\n",
    "        if terminated or truncated:\n",
    "            break\n",
    "\n",
    "    "
   ]
  }
 ],
 "metadata": {
  "kernelspec": {
   "display_name": "pybulletEnv",
   "language": "python",
   "name": "python3"
  },
  "language_info": {
   "codemirror_mode": {
    "name": "ipython",
    "version": 3
   },
   "file_extension": ".py",
   "mimetype": "text/x-python",
   "name": "python",
   "nbconvert_exporter": "python",
   "pygments_lexer": "ipython3",
   "version": "3.10.12"
  }
 },
 "nbformat": 4,
 "nbformat_minor": 2
}
