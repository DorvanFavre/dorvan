{
 "cells": [
  {
   "cell_type": "markdown",
   "metadata": {},
   "source": [
    "# Toys\n",
    "The goal is to experiment the capabilities of RL. Document each usefull functionalitiy.\n",
    "This code aim to try:\n",
    "- different environement\n",
    "- different agent\n",
    "- different hardware\n",
    "- Monitoring learning\n",
    "- evaluating and comparing\n",
    "- Complete a table with the KPIs"
   ]
  },
  {
   "cell_type": "markdown",
   "metadata": {},
   "source": [
    "## Dependecies\n",
    "- [Gymansium](https://gymnasium.farama.org/): Environments\n",
    "- stable-baseline3: Agents "
   ]
  },
  {
   "cell_type": "code",
   "execution_count": 9,
   "metadata": {},
   "outputs": [
    {
     "name": "stdout",
     "output_type": "stream",
     "text": [
      "Collecting numpy==1.23.5\n",
      "  Downloading numpy-1.23.5-cp310-cp310-manylinux_2_17_x86_64.manylinux2014_x86_64.whl.metadata (2.3 kB)\n",
      "Downloading numpy-1.23.5-cp310-cp310-manylinux_2_17_x86_64.manylinux2014_x86_64.whl (17.1 MB)\n",
      "\u001b[2K   \u001b[90m━━━━━━━━━━━━━━━━━━━━━━━━━━━━━━━━━━━━━━━━\u001b[0m \u001b[32m17.1/17.1 MB\u001b[0m \u001b[31m11.9 MB/s\u001b[0m eta \u001b[36m0:00:00\u001b[0m00:01\u001b[0m00:01\u001b[0m\n",
      "\u001b[?25hInstalling collected packages: numpy\n",
      "  Attempting uninstall: numpy\n",
      "    Found existing installation: numpy 1.23.0\n",
      "    Uninstalling numpy-1.23.0:\n",
      "      Successfully uninstalled numpy-1.23.0\n",
      "Successfully installed numpy-1.23.5\n"
     ]
    }
   ],
   "source": [
    "!pip install numpy==1.23.5"
   ]
  },
  {
   "cell_type": "code",
   "execution_count": null,
   "metadata": {},
   "outputs": [
    {
     "name": "stdout",
     "output_type": "stream",
     "text": [
      "Requirement already satisfied: stable-baselines3 in /home/dorvan/Documents/dorvan/Babydoll/Produits/Babybot-01/Informatic-01/LearnPyBullet/pybulletEnv/lib/python3.10/site-packages (2.3.2)\n",
      "Requirement already satisfied: gymnasium<0.30,>=0.28.1 in /home/dorvan/Documents/dorvan/Babydoll/Produits/Babybot-01/Informatic-01/LearnPyBullet/pybulletEnv/lib/python3.10/site-packages (from stable-baselines3) (0.29.1)\n",
      "Requirement already satisfied: numpy>=1.20 in /home/dorvan/Documents/dorvan/Babydoll/Produits/Babybot-01/Informatic-01/LearnPyBullet/pybulletEnv/lib/python3.10/site-packages (from stable-baselines3) (2.1.3)\n",
      "Requirement already satisfied: torch>=1.13 in /home/dorvan/Documents/dorvan/Babydoll/Produits/Babybot-01/Informatic-01/LearnPyBullet/pybulletEnv/lib/python3.10/site-packages (from stable-baselines3) (2.5.1)\n",
      "Requirement already satisfied: cloudpickle in /home/dorvan/Documents/dorvan/Babydoll/Produits/Babybot-01/Informatic-01/LearnPyBullet/pybulletEnv/lib/python3.10/site-packages (from stable-baselines3) (3.1.0)\n",
      "Requirement already satisfied: pandas in /home/dorvan/Documents/dorvan/Babydoll/Produits/Babybot-01/Informatic-01/LearnPyBullet/pybulletEnv/lib/python3.10/site-packages (from stable-baselines3) (2.2.3)\n",
      "Requirement already satisfied: matplotlib in /home/dorvan/Documents/dorvan/Babydoll/Produits/Babybot-01/Informatic-01/LearnPyBullet/pybulletEnv/lib/python3.10/site-packages (from stable-baselines3) (3.9.2)\n",
      "Requirement already satisfied: typing-extensions>=4.3.0 in /home/dorvan/Documents/dorvan/Babydoll/Produits/Babybot-01/Informatic-01/LearnPyBullet/pybulletEnv/lib/python3.10/site-packages (from gymnasium<0.30,>=0.28.1->stable-baselines3) (4.12.2)\n",
      "Requirement already satisfied: farama-notifications>=0.0.1 in /home/dorvan/Documents/dorvan/Babydoll/Produits/Babybot-01/Informatic-01/LearnPyBullet/pybulletEnv/lib/python3.10/site-packages (from gymnasium<0.30,>=0.28.1->stable-baselines3) (0.0.4)\n",
      "Requirement already satisfied: filelock in /home/dorvan/Documents/dorvan/Babydoll/Produits/Babybot-01/Informatic-01/LearnPyBullet/pybulletEnv/lib/python3.10/site-packages (from torch>=1.13->stable-baselines3) (3.16.1)\n",
      "Requirement already satisfied: networkx in /home/dorvan/Documents/dorvan/Babydoll/Produits/Babybot-01/Informatic-01/LearnPyBullet/pybulletEnv/lib/python3.10/site-packages (from torch>=1.13->stable-baselines3) (3.4.2)\n",
      "Requirement already satisfied: jinja2 in /home/dorvan/Documents/dorvan/Babydoll/Produits/Babybot-01/Informatic-01/LearnPyBullet/pybulletEnv/lib/python3.10/site-packages (from torch>=1.13->stable-baselines3) (3.1.4)\n",
      "Requirement already satisfied: fsspec in /home/dorvan/Documents/dorvan/Babydoll/Produits/Babybot-01/Informatic-01/LearnPyBullet/pybulletEnv/lib/python3.10/site-packages (from torch>=1.13->stable-baselines3) (2024.10.0)\n",
      "Requirement already satisfied: nvidia-cuda-nvrtc-cu12==12.4.127 in /home/dorvan/Documents/dorvan/Babydoll/Produits/Babybot-01/Informatic-01/LearnPyBullet/pybulletEnv/lib/python3.10/site-packages (from torch>=1.13->stable-baselines3) (12.4.127)\n",
      "Requirement already satisfied: nvidia-cuda-runtime-cu12==12.4.127 in /home/dorvan/Documents/dorvan/Babydoll/Produits/Babybot-01/Informatic-01/LearnPyBullet/pybulletEnv/lib/python3.10/site-packages (from torch>=1.13->stable-baselines3) (12.4.127)\n",
      "Requirement already satisfied: nvidia-cuda-cupti-cu12==12.4.127 in /home/dorvan/Documents/dorvan/Babydoll/Produits/Babybot-01/Informatic-01/LearnPyBullet/pybulletEnv/lib/python3.10/site-packages (from torch>=1.13->stable-baselines3) (12.4.127)\n",
      "Requirement already satisfied: nvidia-cudnn-cu12==9.1.0.70 in /home/dorvan/Documents/dorvan/Babydoll/Produits/Babybot-01/Informatic-01/LearnPyBullet/pybulletEnv/lib/python3.10/site-packages (from torch>=1.13->stable-baselines3) (9.1.0.70)\n",
      "Requirement already satisfied: nvidia-cublas-cu12==12.4.5.8 in /home/dorvan/Documents/dorvan/Babydoll/Produits/Babybot-01/Informatic-01/LearnPyBullet/pybulletEnv/lib/python3.10/site-packages (from torch>=1.13->stable-baselines3) (12.4.5.8)\n",
      "Requirement already satisfied: nvidia-cufft-cu12==11.2.1.3 in /home/dorvan/Documents/dorvan/Babydoll/Produits/Babybot-01/Informatic-01/LearnPyBullet/pybulletEnv/lib/python3.10/site-packages (from torch>=1.13->stable-baselines3) (11.2.1.3)\n",
      "Requirement already satisfied: nvidia-curand-cu12==10.3.5.147 in /home/dorvan/Documents/dorvan/Babydoll/Produits/Babybot-01/Informatic-01/LearnPyBullet/pybulletEnv/lib/python3.10/site-packages (from torch>=1.13->stable-baselines3) (10.3.5.147)\n",
      "Requirement already satisfied: nvidia-cusolver-cu12==11.6.1.9 in /home/dorvan/Documents/dorvan/Babydoll/Produits/Babybot-01/Informatic-01/LearnPyBullet/pybulletEnv/lib/python3.10/site-packages (from torch>=1.13->stable-baselines3) (11.6.1.9)\n",
      "Requirement already satisfied: nvidia-cusparse-cu12==12.3.1.170 in /home/dorvan/Documents/dorvan/Babydoll/Produits/Babybot-01/Informatic-01/LearnPyBullet/pybulletEnv/lib/python3.10/site-packages (from torch>=1.13->stable-baselines3) (12.3.1.170)\n",
      "Requirement already satisfied: nvidia-nccl-cu12==2.21.5 in /home/dorvan/Documents/dorvan/Babydoll/Produits/Babybot-01/Informatic-01/LearnPyBullet/pybulletEnv/lib/python3.10/site-packages (from torch>=1.13->stable-baselines3) (2.21.5)\n",
      "Requirement already satisfied: nvidia-nvtx-cu12==12.4.127 in /home/dorvan/Documents/dorvan/Babydoll/Produits/Babybot-01/Informatic-01/LearnPyBullet/pybulletEnv/lib/python3.10/site-packages (from torch>=1.13->stable-baselines3) (12.4.127)\n",
      "Requirement already satisfied: nvidia-nvjitlink-cu12==12.4.127 in /home/dorvan/Documents/dorvan/Babydoll/Produits/Babybot-01/Informatic-01/LearnPyBullet/pybulletEnv/lib/python3.10/site-packages (from torch>=1.13->stable-baselines3) (12.4.127)\n",
      "Requirement already satisfied: triton==3.1.0 in /home/dorvan/Documents/dorvan/Babydoll/Produits/Babybot-01/Informatic-01/LearnPyBullet/pybulletEnv/lib/python3.10/site-packages (from torch>=1.13->stable-baselines3) (3.1.0)\n",
      "Requirement already satisfied: sympy==1.13.1 in /home/dorvan/Documents/dorvan/Babydoll/Produits/Babybot-01/Informatic-01/LearnPyBullet/pybulletEnv/lib/python3.10/site-packages (from torch>=1.13->stable-baselines3) (1.13.1)\n",
      "Requirement already satisfied: mpmath<1.4,>=1.1.0 in /home/dorvan/Documents/dorvan/Babydoll/Produits/Babybot-01/Informatic-01/LearnPyBullet/pybulletEnv/lib/python3.10/site-packages (from sympy==1.13.1->torch>=1.13->stable-baselines3) (1.3.0)\n",
      "Requirement already satisfied: contourpy>=1.0.1 in /home/dorvan/Documents/dorvan/Babydoll/Produits/Babybot-01/Informatic-01/LearnPyBullet/pybulletEnv/lib/python3.10/site-packages (from matplotlib->stable-baselines3) (1.3.1)\n",
      "Requirement already satisfied: cycler>=0.10 in /home/dorvan/Documents/dorvan/Babydoll/Produits/Babybot-01/Informatic-01/LearnPyBullet/pybulletEnv/lib/python3.10/site-packages (from matplotlib->stable-baselines3) (0.12.1)\n",
      "Requirement already satisfied: fonttools>=4.22.0 in /home/dorvan/Documents/dorvan/Babydoll/Produits/Babybot-01/Informatic-01/LearnPyBullet/pybulletEnv/lib/python3.10/site-packages (from matplotlib->stable-baselines3) (4.54.1)\n",
      "Requirement already satisfied: kiwisolver>=1.3.1 in /home/dorvan/Documents/dorvan/Babydoll/Produits/Babybot-01/Informatic-01/LearnPyBullet/pybulletEnv/lib/python3.10/site-packages (from matplotlib->stable-baselines3) (1.4.7)\n",
      "Requirement already satisfied: packaging>=20.0 in /home/dorvan/Documents/dorvan/Babydoll/Produits/Babybot-01/Informatic-01/LearnPyBullet/pybulletEnv/lib/python3.10/site-packages (from matplotlib->stable-baselines3) (24.1)\n",
      "Requirement already satisfied: pillow>=8 in /home/dorvan/Documents/dorvan/Babydoll/Produits/Babybot-01/Informatic-01/LearnPyBullet/pybulletEnv/lib/python3.10/site-packages (from matplotlib->stable-baselines3) (11.0.0)\n",
      "Requirement already satisfied: pyparsing>=2.3.1 in /home/dorvan/Documents/dorvan/Babydoll/Produits/Babybot-01/Informatic-01/LearnPyBullet/pybulletEnv/lib/python3.10/site-packages (from matplotlib->stable-baselines3) (3.2.0)\n",
      "Requirement already satisfied: python-dateutil>=2.7 in /home/dorvan/Documents/dorvan/Babydoll/Produits/Babybot-01/Informatic-01/LearnPyBullet/pybulletEnv/lib/python3.10/site-packages (from matplotlib->stable-baselines3) (2.9.0.post0)\n",
      "Requirement already satisfied: pytz>=2020.1 in /home/dorvan/Documents/dorvan/Babydoll/Produits/Babybot-01/Informatic-01/LearnPyBullet/pybulletEnv/lib/python3.10/site-packages (from pandas->stable-baselines3) (2024.2)\n",
      "Requirement already satisfied: tzdata>=2022.7 in /home/dorvan/Documents/dorvan/Babydoll/Produits/Babybot-01/Informatic-01/LearnPyBullet/pybulletEnv/lib/python3.10/site-packages (from pandas->stable-baselines3) (2024.2)\n",
      "Requirement already satisfied: six>=1.5 in /home/dorvan/Documents/dorvan/Babydoll/Produits/Babybot-01/Informatic-01/LearnPyBullet/pybulletEnv/lib/python3.10/site-packages (from python-dateutil>=2.7->matplotlib->stable-baselines3) (1.16.0)\n",
      "Requirement already satisfied: MarkupSafe>=2.0 in /home/dorvan/Documents/dorvan/Babydoll/Produits/Babybot-01/Informatic-01/LearnPyBullet/pybulletEnv/lib/python3.10/site-packages (from jinja2->torch>=1.13->stable-baselines3) (3.0.2)\n",
      "Requirement already satisfied: panda-gym in /home/dorvan/Documents/dorvan/Babydoll/Produits/Babybot-01/Informatic-01/LearnPyBullet/pybulletEnv/lib/python3.10/site-packages (3.0.7)\n",
      "Requirement already satisfied: gymnasium>=0.26 in /home/dorvan/Documents/dorvan/Babydoll/Produits/Babybot-01/Informatic-01/LearnPyBullet/pybulletEnv/lib/python3.10/site-packages (from panda-gym) (0.29.1)\n",
      "Requirement already satisfied: pybullet in /home/dorvan/Documents/dorvan/Babydoll/Produits/Babybot-01/Informatic-01/LearnPyBullet/pybulletEnv/lib/python3.10/site-packages (from panda-gym) (3.2.6)\n",
      "Requirement already satisfied: numpy in /home/dorvan/Documents/dorvan/Babydoll/Produits/Babybot-01/Informatic-01/LearnPyBullet/pybulletEnv/lib/python3.10/site-packages (from panda-gym) (2.1.3)\n",
      "Requirement already satisfied: scipy in /home/dorvan/Documents/dorvan/Babydoll/Produits/Babybot-01/Informatic-01/LearnPyBullet/pybulletEnv/lib/python3.10/site-packages (from panda-gym) (1.14.1)\n",
      "Requirement already satisfied: cloudpickle>=1.2.0 in /home/dorvan/Documents/dorvan/Babydoll/Produits/Babybot-01/Informatic-01/LearnPyBullet/pybulletEnv/lib/python3.10/site-packages (from gymnasium>=0.26->panda-gym) (3.1.0)\n",
      "Requirement already satisfied: typing-extensions>=4.3.0 in /home/dorvan/Documents/dorvan/Babydoll/Produits/Babybot-01/Informatic-01/LearnPyBullet/pybulletEnv/lib/python3.10/site-packages (from gymnasium>=0.26->panda-gym) (4.12.2)\n",
      "Requirement already satisfied: farama-notifications>=0.0.1 in /home/dorvan/Documents/dorvan/Babydoll/Produits/Babybot-01/Informatic-01/LearnPyBullet/pybulletEnv/lib/python3.10/site-packages (from gymnasium>=0.26->panda-gym) (0.0.4)\n",
      "Requirement already satisfied: gymnasium[box2d] in /home/dorvan/Documents/dorvan/Babydoll/Produits/Babybot-01/Informatic-01/LearnPyBullet/pybulletEnv/lib/python3.10/site-packages (0.29.1)\n",
      "Requirement already satisfied: numpy>=1.21.0 in /home/dorvan/Documents/dorvan/Babydoll/Produits/Babybot-01/Informatic-01/LearnPyBullet/pybulletEnv/lib/python3.10/site-packages (from gymnasium[box2d]) (2.1.3)\n",
      "Requirement already satisfied: cloudpickle>=1.2.0 in /home/dorvan/Documents/dorvan/Babydoll/Produits/Babybot-01/Informatic-01/LearnPyBullet/pybulletEnv/lib/python3.10/site-packages (from gymnasium[box2d]) (3.1.0)\n",
      "Requirement already satisfied: typing-extensions>=4.3.0 in /home/dorvan/Documents/dorvan/Babydoll/Produits/Babybot-01/Informatic-01/LearnPyBullet/pybulletEnv/lib/python3.10/site-packages (from gymnasium[box2d]) (4.12.2)\n",
      "Requirement already satisfied: farama-notifications>=0.0.1 in /home/dorvan/Documents/dorvan/Babydoll/Produits/Babybot-01/Informatic-01/LearnPyBullet/pybulletEnv/lib/python3.10/site-packages (from gymnasium[box2d]) (0.0.4)\n",
      "Requirement already satisfied: box2d-py==2.3.5 in /home/dorvan/Documents/dorvan/Babydoll/Produits/Babybot-01/Informatic-01/LearnPyBullet/pybulletEnv/lib/python3.10/site-packages (from gymnasium[box2d]) (2.3.5)\n",
      "Requirement already satisfied: pygame>=2.1.3 in /home/dorvan/Documents/dorvan/Babydoll/Produits/Babybot-01/Informatic-01/LearnPyBullet/pybulletEnv/lib/python3.10/site-packages (from gymnasium[box2d]) (2.6.1)\n",
      "Requirement already satisfied: swig==4.* in /home/dorvan/Documents/dorvan/Babydoll/Produits/Babybot-01/Informatic-01/LearnPyBullet/pybulletEnv/lib/python3.10/site-packages (from gymnasium[box2d]) (4.2.1.post0)\n"
     ]
    }
   ],
   "source": [
    "!pip install stable-baselines3\n",
    "!pip install panda-gym\n",
    "!pip install gymnasium[box2d]"
   ]
  },
  {
   "cell_type": "code",
   "execution_count": null,
   "metadata": {},
   "outputs": [],
   "source": []
  },
  {
   "cell_type": "markdown",
   "metadata": {},
   "source": [
    "## Device"
   ]
  },
  {
   "cell_type": "code",
   "execution_count": 2,
   "metadata": {},
   "outputs": [
    {
     "name": "stdout",
     "output_type": "stream",
     "text": [
      "Using device: cpu\n"
     ]
    }
   ],
   "source": [
    "#device = torch.device(\"cuda\" if torch.cuda.is_available() else \"cpu\")\n",
    "device = torch.device(\"cpu\")\n",
    "print(f\"Using device: {device}\")"
   ]
  },
  {
   "cell_type": "markdown",
   "metadata": {},
   "source": [
    "## Setup"
   ]
  },
  {
   "cell_type": "markdown",
   "metadata": {},
   "source": [
    "### Setup agent"
   ]
  },
  {
   "cell_type": "code",
   "execution_count": 3,
   "metadata": {},
   "outputs": [],
   "source": [
    "policy = 'MlpPolicy' # Configure\n",
    "# 'MlpPolicy'\n",
    "# 'CnnPolicy'\n",
    "# 'MultiInputPolicy'\n",
    "\n",
    "verbose = 0\n",
    "\n",
    "name = 'ppo_lunar_v2' # Configure\n",
    "\n",
    "path = f\"./{name}/model/{name}\"\n",
    "\n",
    "tensorboard_log = f\"./{name}/t_logs/\"\n",
    "tb_log_name = 'runs'\n",
    "\n",
    "log_dir = f\"./{name}/logs/\""
   ]
  },
  {
   "cell_type": "markdown",
   "metadata": {},
   "source": [
    "### Setup environment"
   ]
  },
  {
   "cell_type": "code",
   "execution_count": 4,
   "metadata": {},
   "outputs": [],
   "source": [
    "env_id = 'LunarLander-v2' # Configure\n",
    "# 'LunarLander-v2'\n",
    "# 'CartPole-v1'\n",
    "# 'PandaReachDense-v3'\n",
    "\n",
    "max_episode_steps = 1000\n",
    "\n",
    "render_mode = 'rgb_array'\n",
    "# 'human'\n",
    "# 'rgb_array'\n",
    "\n",
    "def make_env():\n",
    "    e = gym.make(env_id, max_episode_steps=max_episode_steps, render_mode=render_mode)\n",
    "    e = Monitor(e)\n",
    "    return e\n",
    "\n",
    "num_envs = 4\n",
    "\n",
    "env_path = f'{name}/env/vec_normalize.pkl'"
   ]
  },
  {
   "cell_type": "markdown",
   "metadata": {},
   "source": [
    "## Environment"
   ]
  },
  {
   "cell_type": "markdown",
   "metadata": {},
   "source": [
    "### Make single environment"
   ]
  },
  {
   "cell_type": "code",
   "execution_count": 15,
   "metadata": {},
   "outputs": [],
   "source": [
    "env = gym.make(env_id,max_episode_steps, render_mode=render_mode)"
   ]
  },
  {
   "cell_type": "markdown",
   "metadata": {},
   "source": [
    "### Create vectorize environment"
   ]
  },
  {
   "cell_type": "code",
   "execution_count": null,
   "metadata": {},
   "outputs": [
    {
     "ename": "AttributeError",
     "evalue": "'DummyVecEnv' object has no attribute 'save'",
     "output_type": "error",
     "traceback": [
      "\u001b[0;31m---------------------------------------------------------------------------\u001b[0m",
      "\u001b[0;31mAttributeError\u001b[0m                            Traceback (most recent call last)",
      "Cell \u001b[0;32mIn[5], line 8\u001b[0m\n\u001b[1;32m      6\u001b[0m \u001b[38;5;28;01mif\u001b[39;00m \u001b[38;5;129;01mnot\u001b[39;00m os\u001b[38;5;241m.\u001b[39mpath\u001b[38;5;241m.\u001b[39mexists(env_dir):\n\u001b[1;32m      7\u001b[0m     os\u001b[38;5;241m.\u001b[39mmakedirs(env_dir)  \u001b[38;5;66;03m# \u001b[39;00m\n\u001b[0;32m----> 8\u001b[0m \u001b[43menv\u001b[49m\u001b[38;5;241;43m.\u001b[39;49m\u001b[43msave\u001b[49m(env_path)\n",
      "\u001b[0;31mAttributeError\u001b[0m: 'DummyVecEnv' object has no attribute 'save'"
     ]
    }
   ],
   "source": [
    "\n",
    "env = DummyVecEnv([make_env for _ in range(num_envs)])\n",
    "\n",
    "env = VecNormalize(env, norm_obs=True, norm_reward=True, clip_obs=10.0)\n",
    "\n",
    "env_dir = os.path.dirname(env_path)\n",
    "if not os.path.exists(env_dir):\n",
    "    os.makedirs(env_dir)  # \n",
    "env.save(env_path)"
   ]
  },
  {
   "cell_type": "markdown",
   "metadata": {},
   "source": [
    "### Load vectorize environment"
   ]
  },
  {
   "cell_type": "code",
   "execution_count": 6,
   "metadata": {},
   "outputs": [
    {
     "name": "stderr",
     "output_type": "stream",
     "text": [
      "pybullet build time: Nov 28 2023 23:45:17\n"
     ]
    },
    {
     "name": "stdout",
     "output_type": "stream",
     "text": [
      "argv[0]=--background_color_red=0.8745098114013672\n",
      "argv[1]=--background_color_green=0.21176470816135406\n",
      "argv[2]=--background_color_blue=0.1764705926179886\n",
      "argv[0]=--background_color_red=0.8745098114013672\n",
      "argv[1]=--background_color_green=0.21176470816135406\n",
      "argv[2]=--background_color_blue=0.1764705926179886\n",
      "argv[0]=--background_color_red=0.8745098114013672\n",
      "argv[1]=--background_color_green=0.21176470816135406\n",
      "argv[2]=--background_color_blue=0.1764705926179886\n",
      "argv[0]=--background_color_red=0.8745098114013672\n",
      "argv[1]=--background_color_green=0.21176470816135406\n",
      "argv[2]=--background_color_blue=0.1764705926179886\n"
     ]
    }
   ],
   "source": [
    "env = VecNormalize.load(env_path, DummyVecEnv([make_env for _ in range(num_envs)]))\n"
   ]
  },
  {
   "cell_type": "markdown",
   "metadata": {},
   "source": [
    "## Monitoring"
   ]
  },
  {
   "cell_type": "code",
   "execution_count": 11,
   "metadata": {},
   "outputs": [],
   "source": [
    "class TensorboardCallback(BaseCallback):\n",
    "    \n",
    "    def __init__(self, verbose=0):\n",
    "        super().__init__(verbose)\n",
    "\n",
    "    def _on_step(self):\n",
    "        exploration_rate = self.model.exploration_rate\n",
    "        learning_rate = self.model.learning_rate\n",
    "        self.logger.record(\"exploration_rate\", exploration_rate)\n",
    "        self.logger.record(\"learning_rate\", learning_rate)\n",
    "        return True\n",
    "    \n",
    "class HParamCallback(BaseCallback):\n",
    "\n",
    "    def _on_training_start(self):\n",
    "        hparam_dict = {\n",
    "            \"algorithm\":self.model.__class__.__name__,\n",
    "            \"learning rate\": self.model.learning_rate,\n",
    "            \"gamma\": self.model.gamma\n",
    "        }\n",
    "        metric_dict = {\n",
    "            \"rollout/ep_len_mean\":0,\n",
    "            \"train/value_loss\": 0.0\n",
    "        }\n",
    "        self.logger.record(\n",
    "            \"hparams\",\n",
    "            HParam(hparam_dict, metric_dict),\n",
    "            exclude=(\"stdout\",\"log\",\"json\",\"csv\")\n",
    "        )\n",
    "\n",
    "    def _on_step(self):\n",
    "        return True\n",
    "    \n",
    "class SaveOnBestTrainingRewardCallback(BaseCallback):\n",
    "    \n",
    "    def __init__(self, check_freq:int, log_dir:str, path:str,verbose = 1):\n",
    "        super().__init__(verbose)\n",
    "        self.check_freq = check_freq\n",
    "        self.log_dir = log_dir\n",
    "        self.save_path = path\n",
    "        self.best_mean_reward = -np.inf\n",
    "\n",
    "    def _on_step(self):\n",
    "        if self.n_calls % self.check_freq == 0:\n",
    "\n",
    "          # Retrieve training reward\n",
    "          x, y = ts2xy(load_results(self.log_dir), \"timesteps\")\n",
    "          if len(x) > 0:\n",
    "              # Mean training reward over the last 100 episodes\n",
    "              mean_reward = np.mean(y[-100:])\n",
    "              if self.verbose >= 1:\n",
    "                print(f\"Num timesteps: {self.num_timesteps}\")\n",
    "                print(f\"Best mean reward: {self.best_mean_reward:.2f} - Last mean reward per episode: {mean_reward:.2f}\")\n",
    "\n",
    "              # New best model, you could save the agent here\n",
    "              if mean_reward > self.best_mean_reward:\n",
    "                  self.best_mean_reward = mean_reward\n",
    "                  # Example for saving best model\n",
    "                  if self.verbose >= 1:\n",
    "                    print(f\"Saving new best model to {self.save_path}\")\n",
    "                  self.model.save(self.save_path)\n",
    "\n",
    "        return True\n",
    "        \n",
    "class SaveOnStep(BaseCallback):\n",
    "    def __init__(self, steps: int, path: str, verbose: int = 0):\n",
    "        super().__init__(verbose)\n",
    "        self.steps = steps\n",
    "        self.save_path = path\n",
    "\n",
    "    def _on_step(self) -> bool:\n",
    "        # Check if the current step matches the saving frequency\n",
    "        if self.n_calls % self.steps == 0:\n",
    "            # Save model with the current timestep in the filename\n",
    "            if self.verbose > 0:\n",
    "                print(f\"Saving model at step {self.n_calls} to {self.save_path}\")\n",
    "            self.model.save(self.save_path)\n",
    "        return True\n",
    "\n",
    "callbacks = CallbackList([\n",
    "    #TensorboardCallback(),\n",
    "    #HParamCallback(),\n",
    "    #SaveOnBestTrainingRewardCallback(1e4,log_dir,path)\n",
    "    SaveOnStep(1e4, path, verbose=1)\n",
    "])\n",
    "\n"
   ]
  },
  {
   "cell_type": "markdown",
   "metadata": {},
   "source": [
    "### Debug"
   ]
  },
  {
   "cell_type": "code",
   "execution_count": 8,
   "metadata": {},
   "outputs": [
    {
     "name": "stdout",
     "output_type": "stream",
     "text": [
      "<stable_baselines3.common.vec_env.vec_normalize.VecNormalize object at 0x766aa5fe63b0>\n"
     ]
    }
   ],
   "source": [
    "print(env)"
   ]
  },
  {
   "cell_type": "markdown",
   "metadata": {},
   "source": [
    "## Agents"
   ]
  },
  {
   "cell_type": "markdown",
   "metadata": {},
   "source": [
    "### Create agent"
   ]
  },
  {
   "cell_type": "code",
   "execution_count": 7,
   "metadata": {},
   "outputs": [
    {
     "name": "stderr",
     "output_type": "stream",
     "text": [
      "/home/dorvan/Documents/dorvan/Babydoll/Produits/Babybot-01/Informatic-01/LearnPyBullet/pybulletEnv/lib/python3.10/site-packages/stable_baselines3/common/save_util.py:284: UserWarning: Path 'ppo_lunar_v1/model' does not exist. Will create it.\n",
      "  warnings.warn(f\"Path '{path.parent}' does not exist. Will create it.\")\n"
     ]
    }
   ],
   "source": [
    "model = PPO( # Configure\n",
    "    policy, \n",
    "    env, \n",
    "    verbose=verbose,\n",
    "    device=device,\n",
    "    tensorboard_log=tensorboard_log)\n",
    "# DQN\n",
    "# A2C\n",
    "# DDPG\n",
    "# PPO\n",
    "\n",
    "model.save(path)"
   ]
  },
  {
   "cell_type": "markdown",
   "metadata": {},
   "source": [
    "### Load agent"
   ]
  },
  {
   "cell_type": "code",
   "execution_count": null,
   "metadata": {},
   "outputs": [],
   "source": [
    "\n",
    "model = A2C.load(path,env,tensorboard_log=tensorboard_log,device=device)\n",
    "# DQN\n",
    "# A2C\n",
    "# DDPG"
   ]
  },
  {
   "cell_type": "markdown",
   "metadata": {},
   "source": [
    "### Train agent"
   ]
  },
  {
   "cell_type": "code",
   "execution_count": 19,
   "metadata": {},
   "outputs": [
    {
     "data": {
      "application/vnd.jupyter.widget-view+json": {
       "model_id": "2437870fda6f4aefb7a733cbacf9bc4d",
       "version_major": 2,
       "version_minor": 0
      },
      "text/plain": [
       "Output()"
      ]
     },
     "metadata": {},
     "output_type": "display_data"
    },
    {
     "data": {
      "text/html": [
       "<pre style=\"white-space:pre;overflow-x:auto;line-height:normal;font-family:Menlo,'DejaVu Sans Mono',consolas,'Courier New',monospace\">Saving model at step 60000 to ./ppo_lunar_v1/model/ppo_lunar_v1\n",
       "</pre>\n"
      ],
      "text/plain": [
       "Saving model at step 60000 to ./ppo_lunar_v1/model/ppo_lunar_v1\n"
      ]
     },
     "metadata": {},
     "output_type": "display_data"
    },
    {
     "data": {
      "text/html": [
       "<pre style=\"white-space:pre;overflow-x:auto;line-height:normal;font-family:Menlo,'DejaVu Sans Mono',consolas,'Courier New',monospace\">Saving model at step 70000 to ./ppo_lunar_v1/model/ppo_lunar_v1\n",
       "</pre>\n"
      ],
      "text/plain": [
       "Saving model at step 70000 to ./ppo_lunar_v1/model/ppo_lunar_v1\n"
      ]
     },
     "metadata": {},
     "output_type": "display_data"
    },
    {
     "data": {
      "text/html": [
       "<pre style=\"white-space:pre;overflow-x:auto;line-height:normal;font-family:Menlo,'DejaVu Sans Mono',consolas,'Courier New',monospace\"></pre>\n"
      ],
      "text/plain": []
     },
     "metadata": {},
     "output_type": "display_data"
    }
   ],
   "source": [
    "total_timesteps = 1e5\n",
    "model = PPO.load(path,env,tensorboard_log=tensorboard_log,device=device)\n",
    "model.learn(\n",
    "    total_timesteps, \n",
    "    progress_bar=True, \n",
    "    reset_num_timesteps=False, \n",
    "    tb_log_name=tb_log_name,\n",
    "    callback=callbacks\n",
    "    )\n",
    "\n",
    "model.save(path)"
   ]
  },
  {
   "cell_type": "markdown",
   "metadata": {},
   "source": [
    "### Monitor "
   ]
  },
  {
   "cell_type": "code",
   "execution_count": null,
   "metadata": {},
   "outputs": [],
   "source": [
    "!tensorboard --logdir ./logs/tesorboard_log_{name}"
   ]
  },
  {
   "cell_type": "markdown",
   "metadata": {},
   "source": [
    "### Evaluate agent"
   ]
  },
  {
   "cell_type": "code",
   "execution_count": 20,
   "metadata": {},
   "outputs": [
    {
     "name": "stdout",
     "output_type": "stream",
     "text": [
      "mean_reward=191.42 +/- 143.91551094036555\n"
     ]
    }
   ],
   "source": [
    "eval_env = VecNormalize.load(env_path, DummyVecEnv([make_env]))\n",
    "eval_env.training = False\n",
    "eval_env.gamma = 0.0\n",
    "eval_env.norm_reward = True\n",
    "\n",
    "n_eval_episodes = 10\n",
    "\n",
    "mean_reward, std_reward = evaluate_policy(model,eval_env,n_eval_episodes)\n",
    "\n",
    "print(f\"mean_reward={mean_reward:.2f} +/- {std_reward}\")"
   ]
  },
  {
   "cell_type": "markdown",
   "metadata": {},
   "source": [
    "### Display agent"
   ]
  },
  {
   "cell_type": "code",
   "execution_count": 9,
   "metadata": {},
   "outputs": [],
   "source": [
    "def make_display_env():\n",
    "    e = gym.make(env_id, max_episode_steps=max_episode_steps, render_mode='human')\n",
    "    e = Monitor(e)\n",
    "    return e\n",
    "\n",
    "display_env = VecNormalize.load(env_path, DummyVecEnv([make_display_env]))\n",
    "#display_env = gym.make(env_id, max_episode_steps=max_episode_steps,render_mode='human') #HumanRendering(env)"
   ]
  },
  {
   "cell_type": "code",
   "execution_count": 21,
   "metadata": {},
   "outputs": [],
   "source": [
    "\n",
    "\n",
    "for ep in range(3):\n",
    "\n",
    "    # obs, info = display_env.reset() # Unwrapped Env\n",
    "    obs = display_env.reset()\n",
    "    while True:\n",
    "        action, _states = model.predict(obs)\n",
    "\n",
    "        #obs, reward, terminated, truncated, info = display_env.step(action) # Unwrapped Env\n",
    "        obs, reward, terminated, info = display_env.step(action)\n",
    "        terminated = terminated[0]\n",
    "        truncated = info[0].get('TimeLimit.truncated', False)\n",
    "\n",
    "        if terminated or truncated:\n",
    "            break\n",
    "\n",
    "    time.sleep(0.5)\n",
    "\n"
   ]
  }
 ],
 "metadata": {
  "kernelspec": {
   "display_name": "pybulletEnv",
   "language": "python",
   "name": "python3"
  },
  "language_info": {
   "codemirror_mode": {
    "name": "ipython",
    "version": 3
   },
   "file_extension": ".py",
   "mimetype": "text/x-python",
   "name": "python",
   "nbconvert_exporter": "python",
   "pygments_lexer": "ipython3",
   "version": "3.10.12"
  }
 },
 "nbformat": 4,
 "nbformat_minor": 2
}
