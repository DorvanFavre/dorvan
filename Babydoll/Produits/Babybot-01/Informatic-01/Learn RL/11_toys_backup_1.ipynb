{
 "cells": [
  {
   "cell_type": "markdown",
   "metadata": {},
   "source": [
    "# Toys\n",
    "The goal is to experiment the capabilities of RL. Document each usefull functionalitiy.\n",
    "This code aim to try:\n",
    "- different environement\n",
    "- different agent\n",
    "- different hardware\n",
    "- Monitoring learning\n",
    "- evaluating and comparing\n",
    "- Complete a table with the KPIs"
   ]
  },
  {
   "cell_type": "markdown",
   "metadata": {},
   "source": [
    "## Dependecies\n",
    "- [Gymansium](https://gymnasium.farama.org/): Environments\n",
    "- stable-baseline3: Agents "
   ]
  },
  {
   "cell_type": "code",
   "execution_count": null,
   "metadata": {},
   "outputs": [],
   "source": [
    "!pip install gymnasium[box2d]\n",
    "!pip install stable-baselines3"
   ]
  },
  {
   "cell_type": "code",
   "execution_count": 1,
   "metadata": {},
   "outputs": [],
   "source": [
    "import gymnasium as gym\n",
    "from gymnasium.wrappers import HumanRendering\n",
    "\n",
    "import stable_baselines3\n",
    "from stable_baselines3.common.evaluation import evaluate_policy\n",
    "from stable_baselines3.common.monitor import Monitor\n",
    "from stable_baselines3.common.results_plotter import load_results, ts2xy, plot_results\n",
    "from stable_baselines3.common.noise import NormalActionNoise\n",
    "from stable_baselines3.common.callbacks import BaseCallback, CallbackList\n",
    "from stable_baselines3.common.logger import HParam\n",
    "from stable_baselines3.common.vec_env import DummyVecEnv\n",
    "from stable_baselines3 import DQN\n",
    "from stable_baselines3 import A2C\n",
    "\n",
    "\n",
    "from matplotlib import pyplot as plt\n",
    "import numpy as np\n",
    "import os\n",
    "import shutil\n",
    "import torch\n",
    "\n",
    "\n",
    "from tqdm import tqdm"
   ]
  },
  {
   "cell_type": "markdown",
   "metadata": {},
   "source": [
    "## Device"
   ]
  },
  {
   "cell_type": "code",
   "execution_count": 2,
   "metadata": {},
   "outputs": [
    {
     "name": "stdout",
     "output_type": "stream",
     "text": [
      "Using device: cpu\n"
     ]
    }
   ],
   "source": [
    "#device = torch.device(\"cuda\" if torch.cuda.is_available() else \"cpu\")\n",
    "device = torch.device(\"cpu\")\n",
    "print(f\"Using device: {device}\")"
   ]
  },
  {
   "cell_type": "markdown",
   "metadata": {},
   "source": [
    "## Setup agent"
   ]
  },
  {
   "cell_type": "code",
   "execution_count": 3,
   "metadata": {},
   "outputs": [],
   "source": [
    "policy = 'MlpPolicy'\n",
    "# 'MlpPolicy'\n",
    "# 'CnnPolicy'\n",
    "\n",
    "verbose = 0\n",
    "\n",
    "name = 'a2c_lunar_v1' # Configure\n",
    "\n",
    "path = f\"models/{name}\"\n",
    "\n",
    "tensorboard_log = f\"./t_logs/{name}/\"\n",
    "tb_log_name = 'runs'\n",
    "\n",
    "log_dir = f\"./logs/{name}/\""
   ]
  },
  {
   "cell_type": "markdown",
   "metadata": {},
   "source": [
    "## Monitoring"
   ]
  },
  {
   "cell_type": "code",
   "execution_count": 4,
   "metadata": {},
   "outputs": [],
   "source": [
    "class TensorboardCallback(BaseCallback):\n",
    "    \n",
    "    def __init__(self, verbose=0):\n",
    "        super().__init__(verbose)\n",
    "\n",
    "    def _on_step(self):\n",
    "        exploration_rate = self.model.exploration_rate\n",
    "        learning_rate = self.model.learning_rate\n",
    "        self.logger.record(\"exploration_rate\", exploration_rate)\n",
    "        self.logger.record(\"learning_rate\", learning_rate)\n",
    "        return True\n",
    "    \n",
    "class HParamCallback(BaseCallback):\n",
    "\n",
    "    def _on_training_start(self):\n",
    "        hparam_dict = {\n",
    "            \"algorithm\":self.model.__class__.__name__,\n",
    "            \"learning rate\": self.model.learning_rate,\n",
    "            \"gamma\": self.model.gamma\n",
    "        }\n",
    "        metric_dict = {\n",
    "            \"rollout/ep_len_mean\":0,\n",
    "            \"train/value_loss\": 0.0\n",
    "        }\n",
    "        self.logger.record(\n",
    "            \"hparams\",\n",
    "            HParam(hparam_dict, metric_dict),\n",
    "            exclude=(\"stdout\",\"log\",\"json\",\"csv\")\n",
    "        )\n",
    "\n",
    "    def _on_step(self):\n",
    "        return True\n",
    "    \n",
    "class SaveOnBestTrainingRewardCallback(BaseCallback):\n",
    "    \n",
    "    def __init__(self, check_freq:int, log_dir:str, path:str,verbose = 1):\n",
    "        super().__init__(verbose)\n",
    "        self.check_freq = check_freq\n",
    "        self.log_dir = log_dir\n",
    "        self.save_path = path\n",
    "        self.best_mean_reward = -np.inf\n",
    "\n",
    "    def _on_step(self):\n",
    "        if self.n_calls % self.check_freq == 0:\n",
    "\n",
    "          # Retrieve training reward\n",
    "          x, y = ts2xy(load_results(self.log_dir), \"timesteps\")\n",
    "          if len(x) > 0:\n",
    "              # Mean training reward over the last 100 episodes\n",
    "              mean_reward = np.mean(y[-100:])\n",
    "              if self.verbose >= 1:\n",
    "                print(f\"Num timesteps: {self.num_timesteps}\")\n",
    "                print(f\"Best mean reward: {self.best_mean_reward:.2f} - Last mean reward per episode: {mean_reward:.2f}\")\n",
    "\n",
    "              # New best model, you could save the agent here\n",
    "              if mean_reward > self.best_mean_reward:\n",
    "                  self.best_mean_reward = mean_reward\n",
    "                  # Example for saving best model\n",
    "                  if self.verbose >= 1:\n",
    "                    print(f\"Saving new best model to {self.save_path}\")\n",
    "                  self.model.save(self.save_path)\n",
    "\n",
    "        return True\n",
    "        \n",
    "callbacks = CallbackList([\n",
    "    #TensorboardCallback(),\n",
    "    #HParamCallback(),\n",
    "    #SaveOnBestTrainingRewardCallback(1e4,log_dir,path)\n",
    "])\n",
    "\n"
   ]
  },
  {
   "cell_type": "markdown",
   "metadata": {},
   "source": [
    "## Environments"
   ]
  },
  {
   "cell_type": "markdown",
   "metadata": {},
   "source": [
    "### Setup environment"
   ]
  },
  {
   "cell_type": "code",
   "execution_count": 9,
   "metadata": {},
   "outputs": [],
   "source": [
    "env_id = 'LunarLander-v2'\n",
    "# 'LunarLander-v2'\n",
    "# 'CartPole-v1'\n",
    "\n",
    "max_episode_steps = 10000\n",
    "\n",
    "render_mode = 'rgb_array'\n",
    "# 'human'\n",
    "# 'rgb_array'\n",
    "\n",
    "num_envs = 4\n",
    "\n",
    "vectorization_mode = 'async'\n",
    "# 'sync'"
   ]
  },
  {
   "cell_type": "markdown",
   "metadata": {},
   "source": [
    "### Make single environment"
   ]
  },
  {
   "cell_type": "code",
   "execution_count": 15,
   "metadata": {},
   "outputs": [],
   "source": [
    "env = gym.make(env_id,max_episode_steps, render_mode=render_mode)"
   ]
  },
  {
   "cell_type": "markdown",
   "metadata": {},
   "source": [
    "### Make vectorize environment"
   ]
  },
  {
   "cell_type": "code",
   "execution_count": 20,
   "metadata": {},
   "outputs": [],
   "source": [
    "def make_env():\n",
    "    env1 = gym.make(env_id, max_episode_steps=max_episode_steps, render_mode=render_mode)\n",
    "    env2 = Monitor(env1, f\"{log_dir}\")\n",
    "    return env2\n",
    "\n",
    "env = DummyVecEnv([make_env for _ in range(num_envs)])"
   ]
  },
  {
   "cell_type": "markdown",
   "metadata": {},
   "source": [
    "### Debug"
   ]
  },
  {
   "cell_type": "code",
   "execution_count": 9,
   "metadata": {},
   "outputs": [
    {
     "name": "stdout",
     "output_type": "stream",
     "text": [
      "<stable_baselines3.common.vec_env.dummy_vec_env.DummyVecEnv object at 0x7c7766884700>\n"
     ]
    }
   ],
   "source": [
    "print(env)"
   ]
  },
  {
   "cell_type": "markdown",
   "metadata": {},
   "source": [
    "## Agents"
   ]
  },
  {
   "cell_type": "markdown",
   "metadata": {},
   "source": [
    "### Create agent"
   ]
  },
  {
   "cell_type": "code",
   "execution_count": 7,
   "metadata": {},
   "outputs": [],
   "source": [
    "model = A2C(\n",
    "    policy, \n",
    "    env, \n",
    "    verbose=verbose,\n",
    "    device=device,\n",
    "    tensorboard_log=tensorboard_log)\n",
    "# DQN\n",
    "# A2C\n",
    "\n",
    "model.save(path)"
   ]
  },
  {
   "cell_type": "markdown",
   "metadata": {},
   "source": [
    "### Load agent"
   ]
  },
  {
   "cell_type": "code",
   "execution_count": 11,
   "metadata": {},
   "outputs": [],
   "source": [
    "\n",
    "model = A2C.load(path,env,tensorboard_log=tensorboard_log,device=device)\n",
    "# DQN\n",
    "# A2C"
   ]
  },
  {
   "cell_type": "markdown",
   "metadata": {},
   "source": [
    "### Train agent"
   ]
  },
  {
   "cell_type": "code",
   "execution_count": 12,
   "metadata": {},
   "outputs": [
    {
     "data": {
      "application/vnd.jupyter.widget-view+json": {
       "model_id": "b785fc17e9324e4d8eb80039dadea23b",
       "version_major": 2,
       "version_minor": 0
      },
      "text/plain": [
       "Output()"
      ]
     },
     "metadata": {},
     "output_type": "display_data"
    },
    {
     "data": {
      "text/html": [
       "<pre style=\"white-space:pre;overflow-x:auto;line-height:normal;font-family:Menlo,'DejaVu Sans Mono',consolas,'Courier New',monospace\"></pre>\n"
      ],
      "text/plain": []
     },
     "metadata": {},
     "output_type": "display_data"
    }
   ],
   "source": [
    "total_timesteps = 1e4\n",
    "\n",
    "if os.path.exists(log_dir):\n",
    "    shutil.rmtree(log_dir)\n",
    "    os.mkdir(log_dir)  \n",
    "\n",
    "#env = Monitor(env, f\"{log_dir}logs\")\n",
    "\n",
    "model = A2C.load(path,env,tensorboard_log=tensorboard_log)\n",
    "# DQN\n",
    "# A2C\n",
    "\n",
    "model.learn(\n",
    "    total_timesteps, \n",
    "    progress_bar=True, \n",
    "    reset_num_timesteps=False, \n",
    "    tb_log_name=tb_log_name,\n",
    "    callback=callbacks\n",
    "    )\n",
    "\n",
    "model.save(path)"
   ]
  },
  {
   "cell_type": "markdown",
   "metadata": {},
   "source": [
    "### Monitor "
   ]
  },
  {
   "cell_type": "code",
   "execution_count": null,
   "metadata": {},
   "outputs": [],
   "source": [
    "!tensorboard --logdir ./logs/tesorboard_log_{name}"
   ]
  },
  {
   "cell_type": "markdown",
   "metadata": {},
   "source": [
    "### Evaluate agent"
   ]
  },
  {
   "cell_type": "code",
   "execution_count": 26,
   "metadata": {},
   "outputs": [
    {
     "name": "stdout",
     "output_type": "stream",
     "text": [
      "mean_reward=185.92 +/- 52.03781275543837\n"
     ]
    }
   ],
   "source": [
    "eval_env = DummyVecEnv([make_env])\n",
    "# eval_env = gym.make(env_id, max_episode_steps=max_episode_steps,render_mode='rgb_array')\n",
    "# eval_env = Monitor(eval_env)\n",
    "\n",
    "n_eval_episodes = 10\n",
    "\n",
    "mean_reward, std_reward = evaluate_policy(model,eval_env,n_eval_episodes)\n",
    "\n",
    "print(f\"mean_reward={mean_reward:.2f} +/- {std_reward}\")"
   ]
  },
  {
   "cell_type": "markdown",
   "metadata": {},
   "source": [
    "### Display agent"
   ]
  },
  {
   "cell_type": "code",
   "execution_count": 13,
   "metadata": {},
   "outputs": [],
   "source": [
    "\n",
    "display_env = gym.make(env_id, max_episode_steps=max_episode_steps,render_mode='human') #HumanRendering(env)\n",
    "\n",
    "model = A2C.load(path)\n",
    "# DQN\n",
    "# A2C\n",
    "\n",
    "obs, info = display_env.reset()\n",
    "\n",
    "while True:\n",
    "    action, _states = model.predict(obs)\n",
    "    obs, reward, terminated, truncated, info = display_env.step(action)\n",
    "    if terminated or truncated:\n",
    "        break\n",
    "\n"
   ]
  }
 ],
 "metadata": {
  "kernelspec": {
   "display_name": "pybulletEnv",
   "language": "python",
   "name": "python3"
  },
  "language_info": {
   "codemirror_mode": {
    "name": "ipython",
    "version": 3
   },
   "file_extension": ".py",
   "mimetype": "text/x-python",
   "name": "python",
   "nbconvert_exporter": "python",
   "pygments_lexer": "ipython3",
   "version": "3.10.12"
  }
 },
 "nbformat": 4,
 "nbformat_minor": 2
}
