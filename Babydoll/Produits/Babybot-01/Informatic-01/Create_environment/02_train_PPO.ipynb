{
 "cells": [
  {
   "cell_type": "code",
   "execution_count": null,
   "metadata": {},
   "outputs": [
    {
     "name": "stderr",
     "output_type": "stream",
     "text": [
      "pybullet build time: Nov 28 2023 23:45:17\n"
     ]
    },
    {
     "name": "stdout",
     "output_type": "stream",
     "text": [
      "Using cuda device\n",
      "Wrapping the env with a `Monitor` wrapper\n",
      "Wrapping the env in a DummyVecEnv.\n"
     ]
    },
    {
     "data": {
      "text/html": [
       "<pre style=\"white-space:pre;overflow-x:auto;line-height:normal;font-family:Menlo,'DejaVu Sans Mono',consolas,'Courier New',monospace\">/home/dorvan/Documents/dorvan/Babydoll/Produits/Babybot-01/Informatic-01/LearnPyBullet/pybulletEnv/lib/python3.10/s\n",
       "ite-packages/rich/live.py:231: UserWarning: install \"ipywidgets\" for Jupyter support\n",
       "  warnings.warn('install \"ipywidgets\" for Jupyter support')\n",
       "</pre>\n"
      ],
      "text/plain": [
       "/home/dorvan/Documents/dorvan/Babydoll/Produits/Babybot-01/Informatic-01/LearnPyBullet/pybulletEnv/lib/python3.10/s\n",
       "ite-packages/rich/live.py:231: UserWarning: install \"ipywidgets\" for Jupyter support\n",
       "  warnings.warn('install \"ipywidgets\" for Jupyter support')\n"
      ]
     },
     "metadata": {},
     "output_type": "display_data"
    },
    {
     "name": "stdout",
     "output_type": "stream",
     "text": [
      "-----------------------------\n",
      "| time/              |      |\n",
      "|    fps             | 78   |\n",
      "|    iterations      | 1    |\n",
      "|    time_elapsed    | 26   |\n",
      "|    total_timesteps | 2048 |\n",
      "-----------------------------\n"
     ]
    },
    {
     "data": {
      "application/vnd.jupyter.widget-view+json": {
       "model_id": "e56bf32712534f638e2edd42dc0dd20a",
       "version_major": 2,
       "version_minor": 0
      },
      "text/plain": [
       "Output()"
      ]
     },
     "metadata": {},
     "output_type": "display_data"
    }
   ],
   "source": [
    "import gymnasium as gym\n",
    "import babybot01_env\n",
    "from tqdm import tqdm\n",
    "from stable_baselines3 import PPO\n",
    "#from stable_baselines3.common.envs import DummyVecEnv\n",
    "\n",
    "train_env = gym.make(\"Spidy-v0\", render_mode=\"rgb_array\")\n",
    "\n",
    "model = PPO(\"MlpPolicy\", train_env, verbose=1)\n",
    "\n",
    "model.learn(total_timesteps=1000, progress_bar=True)\n"
   ]
  }
 ],
 "metadata": {
  "kernelspec": {
   "display_name": "pybulletEnv",
   "language": "python",
   "name": "python3"
  },
  "language_info": {
   "codemirror_mode": {
    "name": "ipython",
    "version": 3
   },
   "file_extension": ".py",
   "mimetype": "text/x-python",
   "name": "python",
   "nbconvert_exporter": "python",
   "pygments_lexer": "ipython3",
   "version": "3.10.12"
  }
 },
 "nbformat": 4,
 "nbformat_minor": 2
}
