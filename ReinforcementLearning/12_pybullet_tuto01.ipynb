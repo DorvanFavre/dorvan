{
 "cells": [
  {
   "cell_type": "markdown",
   "metadata": {},
   "source": [
    "https://colab.research.google.com/drive/1bLYj1s8oiOxtEc3T4UTgXk-wLpE_nDui?usp=sharing"
   ]
  },
  {
   "cell_type": "code",
   "execution_count": 12,
   "metadata": {},
   "outputs": [
    {
     "ename": "error",
     "evalue": "Only one local in-process GUI/GUI_SERVER connection allowed. Use DIRECT connection mode or start a separate GUI physics server (ExampleBrowser, App_SharedMemoryPhysics_GUI, App_SharedMemoryPhysics_VR) and connect over SHARED_MEMORY, UDP or TCP instead.",
     "output_type": "error",
     "traceback": [
      "\u001b[0;31m---------------------------------------------------------------------------\u001b[0m",
      "\u001b[0;31merror\u001b[0m                                     Traceback (most recent call last)",
      "Cell \u001b[0;32mIn[12], line 5\u001b[0m\n\u001b[1;32m      2\u001b[0m \u001b[38;5;28;01mimport\u001b[39;00m \u001b[38;5;21;01mpybullet_data\u001b[39;00m\n\u001b[1;32m      3\u001b[0m \u001b[38;5;28;01mimport\u001b[39;00m \u001b[38;5;21;01mmath\u001b[39;00m\n\u001b[0;32m----> 5\u001b[0m \u001b[43mpybullet\u001b[49m\u001b[38;5;241;43m.\u001b[39;49m\u001b[43mconnect\u001b[49m\u001b[43m(\u001b[49m\u001b[43mpybullet\u001b[49m\u001b[38;5;241;43m.\u001b[39;49m\u001b[43mGUI\u001b[49m\u001b[43m)\u001b[49m\n\u001b[1;32m      6\u001b[0m pybullet\u001b[38;5;241m.\u001b[39msetAdditionalSearchPath(pybullet_data\u001b[38;5;241m.\u001b[39mgetDataPath())\n\u001b[1;32m      7\u001b[0m pybullet\u001b[38;5;241m.\u001b[39msetGravity(\u001b[38;5;241m0\u001b[39m,\u001b[38;5;241m0\u001b[39m,\u001b[38;5;241m-\u001b[39m\u001b[38;5;241m9.81\u001b[39m)\n",
      "\u001b[0;31merror\u001b[0m: Only one local in-process GUI/GUI_SERVER connection allowed. Use DIRECT connection mode or start a separate GUI physics server (ExampleBrowser, App_SharedMemoryPhysics_GUI, App_SharedMemoryPhysics_VR) and connect over SHARED_MEMORY, UDP or TCP instead."
     ]
    }
   ],
   "source": [
    "import pybullet\n",
    "import pybullet_data\n",
    "import math\n",
    "import time\n",
    "\n",
    "pybullet.connect(pybullet.GUI)\n",
    "pybullet.setAdditionalSearchPath(pybullet_data.getDataPath())\n",
    "pybullet.setGravity(0,0,-9.81)\n",
    "pybullet.setTimeStep(0.0001)\n",
    "pybullet.setRealTimeSimulation(1)\n",
    "\n",
    "# Set the camera parameters\n",
    "camera_target_position = [0, 0, 0]  # Position to look at\n",
    "camera_distance = 5  # Distance from the target\n",
    "camera_yaw = 50     # Yaw angle\n",
    "camera_pitch = -30  # Pitch angle\n",
    "\n",
    "# Calculate the camera position\n",
    "camera_position = [\n",
    "    camera_target_position[0] + camera_distance * math.sin(math.radians(camera_yaw)) * math.cos(math.radians(camera_pitch)),\n",
    "    camera_target_position[1] + camera_distance * math.sin(math.radians(camera_pitch)),\n",
    "    camera_target_position[2] + camera_distance * math.cos(math.radians(camera_yaw)) * math.cos(math.radians(camera_pitch))\n",
    "]\n",
    "\n",
    "# Set the camera\n",
    "pybullet.resetDebugVisualizerCamera(cameraDistance=camera_distance,\n",
    "                             cameraYaw=camera_yaw,\n",
    "                             cameraPitch=camera_pitch,\n",
    "                             cameraTargetPosition=camera_target_position)\n",
    "\n",
    "plane_id = pybullet.loadURDF(\"plane.urdf\")\n",
    "kuka_id = pybullet.loadURDF(\"kuka_iiwa/model.urdf\")\n",
    "\n",
    "num_joints = pybullet.getNumJoints(kuka_id)\n",
    "kuka_end_effector_idx = 6\n",
    "\n",
    "for t in range(4000):\n",
    "    freq = 0.002\n",
    "    target_pos = [0.45, 0.00 + 0.1*math.sin(2*3.14*freq*t), 0.35 + 0.1*math.cos(2*3.14*freq*t)]\n",
    "    joint_poses = pybullet.calculateInverseKinematics(kuka_id, kuka_end_effector_idx, target_pos)\n",
    "\n",
    "    for j in range (num_joints):\n",
    "        pybullet.setJointMotorControl2(bodyIndex=kuka_id, jointIndex=j, controlMode=pybullet.POSITION_CONTROL, targetPosition=joint_poses[j])\n",
    "\n",
    "    pybullet.stepSimulation()\n",
    "\n",
    "time.sleep(3)\n",
    "pybullet.disconnect()"
   ]
  },
  {
   "cell_type": "code",
   "execution_count": 13,
   "metadata": {},
   "outputs": [
    {
     "name": "stdout",
     "output_type": "stream",
     "text": [
      "numActiveThreads = 0\n",
      "stopping threads\n",
      "Thread with taskId 0 exiting\n",
      "Thread TERMINATED\n",
      "destroy semaphore\n",
      "semaphore destroyed\n",
      "destroy main semaphore\n",
      "main semaphore destroyed\n",
      "finished\n",
      "numActiveThreads = 0\n",
      "btShutDownExampleBrowser stopping threads\n",
      "Thread with taskId 0 exiting\n",
      "Thread TERMINATED\n",
      "destroy semaphore\n",
      "semaphore destroyed\n",
      "destroy main semaphore\n",
      "main semaphore destroyed\n"
     ]
    }
   ],
   "source": [
    "pybullet.disconnect()"
   ]
  }
 ],
 "metadata": {
  "kernelspec": {
   "display_name": "pybulletEnv",
   "language": "python",
   "name": "python3"
  },
  "language_info": {
   "codemirror_mode": {
    "name": "ipython",
    "version": 3
   },
   "file_extension": ".py",
   "mimetype": "text/x-python",
   "name": "python",
   "nbconvert_exporter": "python",
   "pygments_lexer": "ipython3",
   "version": "3.10.12"
  }
 },
 "nbformat": 4,
 "nbformat_minor": 2
}
