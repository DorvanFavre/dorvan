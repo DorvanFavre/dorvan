{
 "cells": [
  {
   "cell_type": "code",
   "execution_count": 1,
   "metadata": {},
   "outputs": [
    {
     "name": "stderr",
     "output_type": "stream",
     "text": [
      "pybullet build time: Nov 28 2023 23:45:17\n"
     ]
    },
    {
     "name": "stdout",
     "output_type": "stream",
     "text": [
      "startThreads creating 1 threads.\n",
      "starting thread 0\n",
      "started thread 0 \n",
      "argc=2\n",
      "argv[0] = --unused\n",
      "argv[1] = --start_demo_name=Physics Server\n",
      "ExampleBrowserThreadFunc started\n",
      "X11 functions dynamically loaded using dlopen/dlsym OK!\n",
      "X11 functions dynamically loaded using dlopen/dlsym OK!\n",
      "Creating context\n",
      "Created GL 3.3 context\n",
      "Direct GLX rendering context obtained\n",
      "Making context current\n",
      "GL_VENDOR=Intel\n",
      "GL_RENDERER=Mesa Intel(R) UHD Graphics 620 (KBL GT2)\n",
      "GL_VERSION=4.6 (Core Profile) Mesa 23.2.1-1ubuntu3.1~22.04.2\n",
      "GL_SHADING_LANGUAGE_VERSION=4.60\n",
      "pthread_getconcurrency()=0\n",
      "Version = 4.6 (Core Profile) Mesa 23.2.1-1ubuntu3.1~22.04.2\n",
      "Vendor = Intel\n",
      "Renderer = Mesa Intel(R) UHD Graphics 620 (KBL GT2)\n",
      "b3Printf: Selected demo: Physics Server\n",
      "startThreads creating 1 threads.\n",
      "starting thread 0\n",
      "started thread 0 \n",
      "MotionThreadFunc thread started\n",
      "ven = Intel\n",
      "Workaround for some crash in the Intel OpenGL driver on Linux/Ubuntu\n",
      "ven = Intel\n",
      "Workaround for some crash in the Intel OpenGL driver on Linux/Ubuntu\n",
      "3\n"
     ]
    },
    {
     "ename": "",
     "evalue": "",
     "output_type": "error",
     "traceback": [
      "\u001b[1;31mThe Kernel crashed while executing code in the current cell or a previous cell. \n",
      "\u001b[1;31mPlease review the code in the cell(s) to identify a possible cause of the failure. \n",
      "\u001b[1;31mClick <a href='https://aka.ms/vscodeJupyterKernelCrash'>here</a> for more info. \n",
      "\u001b[1;31mView Jupyter <a href='command:jupyter.viewOutput'>log</a> for further details."
     ]
    }
   ],
   "source": [
    "import pybullet as p\n",
    "import time\n",
    "\n",
    "import pybullet_data\n",
    "\n",
    "p.connect(p.GUI)\n",
    "p.setAdditionalSearchPath(pybullet_data.getDataPath())\n",
    "p.loadURDF(\"plane.urdf\", [0, 0, -0.25])\n",
    "minitaur = p.loadURDF(\"quadruped/minitaur_single_motor.urdf\", useFixedBase=True)\n",
    "print(p.getNumJoints(minitaur))\n",
    "p.resetDebugVisualizerCamera(cameraDistance=1,\n",
    "                             cameraYaw=23.2,\n",
    "                             cameraPitch=-6.6,\n",
    "                             cameraTargetPosition=[-0.064, .621, -0.2])\n",
    "motorJointId = 1\n",
    "p.setJointMotorControl2(minitaur, motorJointId, p.POSITION_CONTROL, targetVelocity=1, force=0)\n",
    "\n",
    "p.resetJointState(minitaur, motorJointId, targetValue=0, targetVelocity=1)\n",
    "angularDampingSlider = p.addUserDebugParameter(\"angularDamping\", 0, 1, 0)\n",
    "jointFrictionForceSlider = p.addUserDebugParameter(\"jointFrictionForce\", 0, 0.1, 0)\n",
    "\n",
    "textId = p.addUserDebugText(\"jointVelocity=0\", [0, 0, -0.2])\n",
    "textId2 = p.addUserDebugText(\"jointPosition=0\", [0, 0, 0.2])\n",
    "p.setRealTimeSimulation(1)\n",
    "\n",
    "targetPosition = 1.0\n",
    "while (1):\n",
    "\n",
    "  frictionForce = p.readUserDebugParameter(jointFrictionForceSlider)\n",
    "  angularDamping = p.readUserDebugParameter(angularDampingSlider)\n",
    "  p.setJointMotorControl2(minitaur,\n",
    "                          motorJointId,\n",
    "                          p.POSITION_CONTROL,\n",
    "                          targetPosition=targetPosition,\n",
    "                          targetVelocity=1.0,\n",
    "                          force=frictionForce)\n",
    "  p.changeDynamics(minitaur, motorJointId, linearDamping=0, angularDamping=angularDamping)\n",
    "\n",
    "  time.sleep(0.01)\n",
    "\n",
    "  currentPosition = p.getJointState(minitaur,motorJointId)[0]\n",
    "  if(targetPosition == 1.0 and currentPosition >= targetPosition): targetPosition=-1\n",
    "  if(targetPosition == -1.0 and currentPosition <= targetPosition): targetPosition=1\n",
    "\n",
    "  txt2 = \"jointPosition=\" + str(currentPosition)\n",
    "  txt = \"jointVelocity=\" + str(p.getJointState(minitaur, motorJointId)[1])\n",
    "  prevTextId = textId\n",
    "  prevTextId2 = textId2\n",
    "  textId = p.addUserDebugText(txt, [0, 0, -0.2])\n",
    "  textId2 = p.addUserDebugText(txt2, [0, 0, + 0.2])\n",
    "  p.removeUserDebugItem(prevTextId)\n",
    "  p.removeUserDebugItem(prevTextId2)"
   ]
  },
  {
   "cell_type": "code",
   "execution_count": null,
   "metadata": {},
   "outputs": [],
   "source": [
    "p.disconnect()"
   ]
  }
 ],
 "metadata": {
  "kernelspec": {
   "display_name": "pybulletEnv",
   "language": "python",
   "name": "python3"
  },
  "language_info": {
   "codemirror_mode": {
    "name": "ipython",
    "version": 3
   },
   "file_extension": ".py",
   "mimetype": "text/x-python",
   "name": "python",
   "nbconvert_exporter": "python",
   "pygments_lexer": "ipython3",
   "version": "3.10.12"
  }
 },
 "nbformat": 4,
 "nbformat_minor": 2
}
