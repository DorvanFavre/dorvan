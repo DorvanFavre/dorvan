{
 "cells": [
  {
   "cell_type": "code",
   "execution_count": null,
   "metadata": {},
   "outputs": [],
   "source": [
    "https://colab.research.google.com/drive/1bLYj1s8oiOxtEc3T4UTgXk-wLpE_nDui?usp=sharing\n"
   ]
  },
  {
   "cell_type": "code",
   "execution_count": null,
   "metadata": {},
   "outputs": [],
   "source": []
  },
  {
   "cell_type": "markdown",
   "metadata": {},
   "source": []
  },
  {
   "cell_type": "code",
   "execution_count": 1,
   "metadata": {},
   "outputs": [
    {
     "name": "stderr",
     "output_type": "stream",
     "text": [
      "pybullet build time: Nov 28 2023 23:45:17\n"
     ]
    },
    {
     "name": "stdout",
     "output_type": "stream",
     "text": [
      "startThreads creating 1 threads.\n",
      "starting thread 0\n",
      "started thread 0 \n",
      "argc=2\n",
      "argv[0] = --unused\n",
      "argv[1] = --start_demo_name=Physics Server\n",
      "ExampleBrowserThreadFunc started\n",
      "X11 functions dynamically loaded using dlopen/dlsym OK!\n",
      "X11 functions dynamically loaded using dlopen/dlsym OK!\n",
      "Creating context\n",
      "Created GL 3.3 context\n",
      "Direct GLX rendering context obtained\n",
      "Making context current\n",
      "GL_VENDOR=Intel\n",
      "GL_RENDERER=Mesa Intel(R) UHD Graphics 620 (KBL GT2)\n",
      "GL_VERSION=4.6 (Core Profile) Mesa 23.2.1-1ubuntu3.1~22.04.2\n",
      "GL_SHADING_LANGUAGE_VERSION=4.60\n",
      "pthread_getconcurrency()=0\n",
      "Version = 4.6 (Core Profile) Mesa 23.2.1-1ubuntu3.1~22.04.2\n",
      "Vendor = Intel\n",
      "Renderer = Mesa Intel(R) UHD Graphics 620 (KBL GT2)\n",
      "b3Printf: Selected demo: Physics Server\n",
      "startThreads creating 1 threads.\n",
      "starting thread 0\n",
      "started thread 0 \n",
      "MotionThreadFunc thread started\n",
      "ven = Intel\n",
      "Workaround for some crash in the Intel OpenGL driver on Linux/Ubuntu\n",
      "ven = Intel\n",
      "Workaround for some crash in the Intel OpenGL driver on Linux/Ubuntu\n",
      "b3Printf: b3Warning[examples/Importers/ImportURDFDemo/BulletUrdfImporter.cpp,152]:\n",
      "\n",
      "b3Printf: URDF file 'kuka_experimental/kuka_kr210_support/urdf/kr210l150.urdf' not found\n",
      "\n"
     ]
    },
    {
     "ename": "error",
     "evalue": "Cannot load URDF file.",
     "output_type": "error",
     "traceback": [
      "\u001b[0;31m---------------------------------------------------------------------------\u001b[0m",
      "\u001b[0;31merror\u001b[0m                                     Traceback (most recent call last)",
      "Cell \u001b[0;32mIn[1], line 32\u001b[0m\n\u001b[1;32m     26\u001b[0m p\u001b[38;5;241m.\u001b[39mresetDebugVisualizerCamera(cameraDistance\u001b[38;5;241m=\u001b[39mcamera_distance,\n\u001b[1;32m     27\u001b[0m                              cameraYaw\u001b[38;5;241m=\u001b[39mcamera_yaw,\n\u001b[1;32m     28\u001b[0m                              cameraPitch\u001b[38;5;241m=\u001b[39mcamera_pitch,\n\u001b[1;32m     29\u001b[0m                              cameraTargetPosition\u001b[38;5;241m=\u001b[39mcamera_target_position)\n\u001b[1;32m     31\u001b[0m \u001b[38;5;66;03m#os.system(\"git clone https://github.com/ros-industrial/kuka_experimental.git\")\u001b[39;00m\n\u001b[0;32m---> 32\u001b[0m robot \u001b[38;5;241m=\u001b[39m \u001b[43mp\u001b[49m\u001b[38;5;241;43m.\u001b[39;49m\u001b[43mloadURDF\u001b[49m\u001b[43m(\u001b[49m\u001b[38;5;124;43m\"\u001b[39;49m\u001b[38;5;124;43mkuka_experimental/kuka_kr210_support/urdf/kr210l150.urdf\u001b[39;49m\u001b[38;5;124;43m\"\u001b[39;49m\u001b[43m,\u001b[49m\u001b[43m \u001b[49m\u001b[43m[\u001b[49m\u001b[38;5;241;43m0\u001b[39;49m\u001b[43m,\u001b[49m\u001b[38;5;241;43m0\u001b[39;49m\u001b[43m,\u001b[49m\u001b[38;5;241;43m0\u001b[39;49m\u001b[43m]\u001b[49m\u001b[43m,\u001b[49m\u001b[43m \u001b[49m\u001b[43museFixedBase\u001b[49m\u001b[38;5;241;43m=\u001b[39;49m\u001b[38;5;241;43m1\u001b[39;49m\u001b[43m)\u001b[49m\n\u001b[1;32m     34\u001b[0m p\u001b[38;5;241m.\u001b[39msetGravity(\u001b[38;5;241m0\u001b[39m,\u001b[38;5;241m0\u001b[39m,\u001b[38;5;241m-\u001b[39m\u001b[38;5;241m9.81\u001b[39m)\n\u001b[1;32m     35\u001b[0m p\u001b[38;5;241m.\u001b[39msetTimeStep(\u001b[38;5;241m0.0001\u001b[39m)\n",
      "\u001b[0;31merror\u001b[0m: Cannot load URDF file."
     ]
    },
    {
     "ename": "",
     "evalue": "",
     "output_type": "error",
     "traceback": [
      "\u001b[1;31mThe Kernel crashed while executing code in the current cell or a previous cell. \n",
      "\u001b[1;31mPlease review the code in the cell(s) to identify a possible cause of the failure. \n",
      "\u001b[1;31mClick <a href='https://aka.ms/vscodeJupyterKernelCrash'>here</a> for more info. \n",
      "\u001b[1;31mView Jupyter <a href='command:jupyter.viewOutput'>log</a> for further details."
     ]
    }
   ],
   "source": [
    "import os\n",
    "import time\n",
    "import math\n",
    "import pybullet as p\n",
    "import pybullet_data\n",
    "\n",
    "p.connect(p.GUI)\n",
    "p.resetSimulation()\n",
    "p.setAdditionalSearchPath(pybullet_data.getDataPath())\n",
    "plane = p.loadURDF(\"plane.urdf\")\n",
    "\n",
    "# Set the camera parameters\n",
    "camera_target_position = [0, 0, 0]  # Position to look at\n",
    "camera_distance = 5  # Distance from the target\n",
    "camera_yaw = 50     # Yaw angle\n",
    "camera_pitch = -30  # Pitch angle\n",
    "\n",
    "# Calculate the camera position\n",
    "camera_position = [\n",
    "    camera_target_position[0] + camera_distance * math.sin(math.radians(camera_yaw)) * math.cos(math.radians(camera_pitch)),\n",
    "    camera_target_position[1] + camera_distance * math.sin(math.radians(camera_pitch)),\n",
    "    camera_target_position[2] + camera_distance * math.cos(math.radians(camera_yaw)) * math.cos(math.radians(camera_pitch))\n",
    "]\n",
    "\n",
    "# Set the camera\n",
    "p.resetDebugVisualizerCamera(cameraDistance=camera_distance,\n",
    "                             cameraYaw=camera_yaw,\n",
    "                             cameraPitch=camera_pitch,\n",
    "                             cameraTargetPosition=camera_target_position)\n",
    "\n",
    "#os.system(\"git clone https://github.com/ros-industrial/kuka_experimental.git\")\n",
    "robot = p.loadURDF(\"kuka_experimental/kuka_kr210_support/urdf/kr210l150.urdf\", [0,0,0], useFixedBase=1)\n",
    "\n",
    "p.setGravity(0,0,-9.81)\n",
    "p.setTimeStep(0.0001)\n",
    "p.setRealTimeSimulation(0)\n",
    "\n",
    "p.setJointMotorControlArray(robot, range(6), p.POSITION_CONTROL, targetPositions= [0.1]*6)\n",
    "\n",
    "for _ in range(100000):\n",
    "    p.stepSimulation()"
   ]
  },
  {
   "cell_type": "code",
   "execution_count": 25,
   "metadata": {},
   "outputs": [
    {
     "name": "stdout",
     "output_type": "stream",
     "text": [
      "numActiveThreads = 0\n",
      "stopping threads\n",
      "Thread with taskId 0 exiting\n",
      "Thread TERMINATED\n",
      "destroy semaphore\n",
      "semaphore destroyed\n",
      "destroy main semaphore\n",
      "main semaphore destroyed\n",
      "finished\n",
      "numActiveThreads = 0\n",
      "btShutDownExampleBrowser stopping threads\n",
      "Thread with taskId 0 exiting\n",
      "Thread TERMINATED\n",
      "destroy semaphore\n",
      "semaphore destroyed\n",
      "destroy main semaphore\n",
      "main semaphore destroyed\n"
     ]
    }
   ],
   "source": [
    "p.disconnect()"
   ]
  }
 ],
 "metadata": {
  "kernelspec": {
   "display_name": "pybulletEnv",
   "language": "python",
   "name": "python3"
  },
  "language_info": {
   "codemirror_mode": {
    "name": "ipython",
    "version": 3
   },
   "file_extension": ".py",
   "mimetype": "text/x-python",
   "name": "python",
   "nbconvert_exporter": "python",
   "pygments_lexer": "ipython3",
   "version": "3.10.12"
  }
 },
 "nbformat": 4,
 "nbformat_minor": 2
}
