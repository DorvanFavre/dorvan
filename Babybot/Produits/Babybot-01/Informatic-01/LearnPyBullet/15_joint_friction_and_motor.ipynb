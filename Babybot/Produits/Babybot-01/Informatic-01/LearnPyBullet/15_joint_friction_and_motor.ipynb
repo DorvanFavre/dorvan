{
 "cells": [
  {
   "cell_type": "code",
   "execution_count": 1,
   "metadata": {},
   "outputs": [
    {
     "name": "stderr",
     "output_type": "stream",
     "text": [
      "pybullet build time: Nov 28 2023 23:45:17\n"
     ]
    },
    {
     "name": "stdout",
     "output_type": "stream",
     "text": [
      "startThreads creating 1 threads.\n",
      "starting thread 0\n",
      "started thread 0 \n",
      "argc=2\n",
      "argv[0] = --unused\n",
      "argv[1] = --start_demo_name=Physics Server\n",
      "ExampleBrowserThreadFunc started\n",
      "X11 functions dynamically loaded using dlopen/dlsym OK!\n",
      "X11 functions dynamically loaded using dlopen/dlsym OK!\n",
      "Creating context\n",
      "Created GL 3.3 context\n",
      "Direct GLX rendering context obtained\n",
      "Making context current\n",
      "GL_VENDOR=Intel\n",
      "GL_RENDERER=Mesa Intel(R) UHD Graphics 620 (KBL GT2)\n",
      "GL_VERSION=4.6 (Core Profile) Mesa 23.2.1-1ubuntu3.1~22.04.2\n",
      "GL_SHADING_LANGUAGE_VERSION=4.60\n",
      "pthread_getconcurrency()=0\n",
      "Version = 4.6 (Core Profile) Mesa 23.2.1-1ubuntu3.1~22.04.2\n",
      "Vendor = Intel\n",
      "Renderer = Mesa Intel(R) UHD Graphics 620 (KBL GT2)\n",
      "b3Printf: Selected demo: Physics Server\n",
      "startThreads creating 1 threads.\n",
      "starting thread 0\n",
      "started thread 0 \n",
      "MotionThreadFunc thread started\n",
      "b3Printf: b3Warning[examples/Importers/ImportURDFDemo/BulletUrdfImporter.cpp,152]:\n",
      "\n",
      "b3Printf: URDF file 'door.urdf' not found\n",
      "\n",
      "ven = Intel\n",
      "Workaround for some crash in the Intel OpenGL driver on Linux/Ubuntu\n",
      "ven = Intel\n",
      "Workaround for some crash in the Intel OpenGL driver on Linux/Ubuntu\n"
     ]
    },
    {
     "ename": "error",
     "evalue": "Cannot load URDF file.",
     "output_type": "error",
     "traceback": [
      "\u001b[0;31m---------------------------------------------------------------------------\u001b[0m",
      "\u001b[0;31merror\u001b[0m                                     Traceback (most recent call last)",
      "Cell \u001b[0;32mIn[1], line 8\u001b[0m\n\u001b[1;32m      6\u001b[0m p\u001b[38;5;241m.\u001b[39mconnect(p\u001b[38;5;241m.\u001b[39mGUI)\n\u001b[1;32m      7\u001b[0m p\u001b[38;5;241m.\u001b[39msetAdditionalSearchPath(pybullet_data\u001b[38;5;241m.\u001b[39mgetDataPath())\n\u001b[0;32m----> 8\u001b[0m door \u001b[38;5;241m=\u001b[39m \u001b[43mp\u001b[49m\u001b[38;5;241;43m.\u001b[39;49m\u001b[43mloadURDF\u001b[49m\u001b[43m(\u001b[49m\u001b[38;5;124;43m\"\u001b[39;49m\u001b[38;5;124;43mdoor.urdf\u001b[39;49m\u001b[38;5;124;43m\"\u001b[39;49m\u001b[43m)\u001b[49m\n\u001b[1;32m     10\u001b[0m \u001b[38;5;66;03m#linear/angular damping for base and all children=0\u001b[39;00m\n\u001b[1;32m     11\u001b[0m p\u001b[38;5;241m.\u001b[39mchangeDynamics(door, \u001b[38;5;241m-\u001b[39m\u001b[38;5;241m1\u001b[39m, linearDamping\u001b[38;5;241m=\u001b[39m\u001b[38;5;241m0\u001b[39m, angularDamping\u001b[38;5;241m=\u001b[39m\u001b[38;5;241m0\u001b[39m)\n",
      "\u001b[0;31merror\u001b[0m: Cannot load URDF file."
     ]
    }
   ],
   "source": [
    "import pybullet as p\n",
    "import time\n",
    "\n",
    "import pybullet_data\n",
    "\n",
    "p.connect(p.GUI)\n",
    "p.setAdditionalSearchPath(pybullet_data.getDataPath())\n",
    "door = p.loadURDF(\"door.urdf\")\n",
    "\n",
    "#linear/angular damping for base and all children=0\n",
    "p.changeDynamics(door, -1, linearDamping=0, angularDamping=0)\n",
    "for j in range(p.getNumJoints(door)):\n",
    "  p.changeDynamics(door, j, linearDamping=0, angularDamping=0)\n",
    "  print(p.getJointInfo(door, j))\n",
    "\n",
    "frictionId = p.addUserDebugParameter(\"jointFriction\", 0, 20, 10)\n",
    "torqueId = p.addUserDebugParameter(\"joint torque\", 0, 20, 5)\n",
    "\n",
    "while (1):\n",
    "  frictionForce = p.readUserDebugParameter(frictionId)\n",
    "  jointTorque = p.readUserDebugParameter(torqueId)\n",
    "  #set the joint friction\n",
    "  p.setJointMotorControl2(door, 1, p.VELOCITY_CONTROL, targetVelocity=0, force=frictionForce)\n",
    "  #apply a joint torque\n",
    "  p.setJointMotorControl2(door, 1, p.TORQUE_CONTROL, force=jointTorque)\n",
    "  p.stepSimulation()\n",
    "  time.sleep(0.01)"
   ]
  }
 ],
 "metadata": {
  "kernelspec": {
   "display_name": "pybulletEnv",
   "language": "python",
   "name": "python3"
  },
  "language_info": {
   "codemirror_mode": {
    "name": "ipython",
    "version": 3
   },
   "file_extension": ".py",
   "mimetype": "text/x-python",
   "name": "python",
   "nbconvert_exporter": "python",
   "pygments_lexer": "ipython3",
   "version": "3.10.12"
  }
 },
 "nbformat": 4,
 "nbformat_minor": 2
}
